{
 "cells": [
  {
   "cell_type": "markdown",
   "id": "documented-hindu",
   "metadata": {},
   "source": [
    "# First homework notebook: anagrams\n",
    "\n",
    "We're going to riff a little on the word 'Teralbay' from Milne's story. \n",
    "\n",
    "It's an anagram. What is it an anagram for?"
   ]
  },
  {
   "cell_type": "markdown",
   "id": "corporate-winning",
   "metadata": {},
   "source": [
    "## Assignment 1:\n",
    "\n",
    "Write a block of code (a cell) that asks the user for a word, and then checks to see whether the word contains any letters that appear more than once. It answers 'True' if so. So, for instance:\n",
    "\n",
    "teralbay\n",
    "\n",
    "True\n",
    "\n",
    "uncopyrightable\n",
    "\n",
    "False"
   ]
  },
  {
   "cell_type": "code",
   "execution_count": 1,
   "id": "sublime-perth",
   "metadata": {},
   "outputs": [
    {
     "name": "stdin",
     "output_type": "stream",
     "text": [
      "Choose a word:  balloon\n"
     ]
    },
    {
     "name": "stdout",
     "output_type": "stream",
     "text": [
      "True\n"
     ]
    }
   ],
   "source": [
    "word = input('Choose a word: ')\n",
    "repeated = False\n",
    "\n",
    "for letter in word:\n",
    "    if word.count(letter) > 1:\n",
    "        repeated = True\n",
    "\n",
    "print(repeated)"
   ]
  },
  {
   "cell_type": "markdown",
   "id": "skilled-trainer",
   "metadata": {},
   "source": [
    "#### An elegant short version\n",
    "\n",
    "that also works"
   ]
  },
  {
   "cell_type": "code",
   "execution_count": 5,
   "id": "important-representative",
   "metadata": {},
   "outputs": [
    {
     "name": "stdin",
     "output_type": "stream",
     "text": [
      "Choose a word:  parallel\n"
     ]
    },
    {
     "name": "stdout",
     "output_type": "stream",
     "text": [
      "True\n"
     ]
    }
   ],
   "source": [
    "word = input('Choose a word: ')\n",
    "if len(set(word)) < len(word):\n",
    "    print(True)\n",
    "else:\n",
    "    print(False)"
   ]
  },
  {
   "cell_type": "markdown",
   "id": "shared-modification",
   "metadata": {},
   "source": [
    "## Assignment 2:\n",
    "\n",
    "Write a block of code (a cell) that asks a user for two words (```wordA``` and ```wordB```), and then checks if they are anagrams of each other, answering \"True\" or \"anagram!\" if so."
   ]
  },
  {
   "cell_type": "code",
   "execution_count": 3,
   "id": "removed-veteran",
   "metadata": {},
   "outputs": [
    {
     "name": "stdin",
     "output_type": "stream",
     "text": [
      "Choose a first word:  elbowe\n",
      "Choose a second word:  below\n"
     ]
    },
    {
     "name": "stdout",
     "output_type": "stream",
     "text": [
      "Not anagrams.\n"
     ]
    }
   ],
   "source": [
    "word1 = input(\"Choose a first word: \")\n",
    "word2 = input(\"Choose a second word: \")\n",
    "\n",
    "if sorted(list(word1)) == sorted(list(word2)):\n",
    "    print(\"Those are anagrams!\")\n",
    "else:\n",
    "    print(\"Not anagrams.\")"
   ]
  },
  {
   "cell_type": "markdown",
   "id": "preceding-presentation",
   "metadata": {},
   "source": [
    "## Not a homework assignment at all; only for fun if you have time.\n",
    "\n",
    "I've included ```shortdictionary.txt``` in the homework folder; it's a list of 20000 common strings in English prose.\n",
    "\n",
    "For fun, if you like, find out what 'teralbay' is an anagram of.\n",
    "\n",
    "Or more generally, let a user enter a word, and find all words in ```shortdictionary.txt``` that are anagrams of it.\n"
   ]
  },
  {
   "cell_type": "code",
   "execution_count": null,
   "id": "soviet-guinea",
   "metadata": {},
   "outputs": [],
   "source": []
  }
 ],
 "metadata": {
  "kernelspec": {
   "display_name": "Python 3",
   "language": "python",
   "name": "python3"
  },
  "language_info": {
   "codemirror_mode": {
    "name": "ipython",
    "version": 3
   },
   "file_extension": ".py",
   "mimetype": "text/x-python",
   "name": "python",
   "nbconvert_exporter": "python",
   "pygments_lexer": "ipython3",
   "version": "3.7.6"
  }
 },
 "nbformat": 4,
 "nbformat_minor": 5
}
