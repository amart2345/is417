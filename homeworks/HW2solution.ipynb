{
 "cells": [
  {
   "cell_type": "markdown",
   "id": "comic-structure",
   "metadata": {},
   "source": [
    "# Homework #2\n",
    "\n",
    "Practicing Python and basic inferential statistics."
   ]
  },
  {
   "cell_type": "code",
   "execution_count": 1,
   "id": "adequate-positive",
   "metadata": {},
   "outputs": [],
   "source": [
    "from pathlib import Path\n",
    "import pandas as pd\n",
    "import numpy as np\n",
    "from matplotlib import pyplot as plt\n",
    "from scipy.stats import ttest_ind"
   ]
  },
  {
   "cell_type": "code",
   "execution_count": 2,
   "id": "french-grounds",
   "metadata": {},
   "outputs": [
    {
     "data": {
      "text/html": [
       "<div>\n",
       "<style scoped>\n",
       "    .dataframe tbody tr th:only-of-type {\n",
       "        vertical-align: middle;\n",
       "    }\n",
       "\n",
       "    .dataframe tbody tr th {\n",
       "        vertical-align: top;\n",
       "    }\n",
       "\n",
       "    .dataframe thead th {\n",
       "        text-align: right;\n",
       "    }\n",
       "</style>\n",
       "<table border=\"1\" class=\"dataframe\">\n",
       "  <thead>\n",
       "    <tr style=\"text-align: right;\">\n",
       "      <th></th>\n",
       "      <th>script_id</th>\n",
       "      <th>imdb_character_name</th>\n",
       "      <th>words</th>\n",
       "      <th>gender</th>\n",
       "      <th>age</th>\n",
       "    </tr>\n",
       "  </thead>\n",
       "  <tbody>\n",
       "    <tr>\n",
       "      <th>0</th>\n",
       "      <td>280</td>\n",
       "      <td>betty</td>\n",
       "      <td>311</td>\n",
       "      <td>f</td>\n",
       "      <td>35.0</td>\n",
       "    </tr>\n",
       "    <tr>\n",
       "      <th>1</th>\n",
       "      <td>280</td>\n",
       "      <td>carolyn johnson</td>\n",
       "      <td>873</td>\n",
       "      <td>f</td>\n",
       "      <td>NaN</td>\n",
       "    </tr>\n",
       "    <tr>\n",
       "      <th>2</th>\n",
       "      <td>280</td>\n",
       "      <td>eleanor</td>\n",
       "      <td>138</td>\n",
       "      <td>f</td>\n",
       "      <td>NaN</td>\n",
       "    </tr>\n",
       "    <tr>\n",
       "      <th>3</th>\n",
       "      <td>280</td>\n",
       "      <td>francesca johns</td>\n",
       "      <td>2251</td>\n",
       "      <td>f</td>\n",
       "      <td>46.0</td>\n",
       "    </tr>\n",
       "    <tr>\n",
       "      <th>4</th>\n",
       "      <td>280</td>\n",
       "      <td>madge</td>\n",
       "      <td>190</td>\n",
       "      <td>f</td>\n",
       "      <td>46.0</td>\n",
       "    </tr>\n",
       "  </tbody>\n",
       "</table>\n",
       "</div>"
      ],
      "text/plain": [
       "   script_id imdb_character_name  words gender   age\n",
       "0        280               betty    311      f  35.0\n",
       "1        280     carolyn johnson    873      f   NaN\n",
       "2        280             eleanor    138      f   NaN\n",
       "3        280     francesca johns   2251      f  46.0\n",
       "4        280               madge    190      f  46.0"
      ]
     },
     "execution_count": 2,
     "metadata": {},
     "output_type": "execute_result"
    }
   ],
   "source": [
    "charpath = Path('../labs/Feb1Pandas/character_list5.csv')\n",
    "characters = pd.read_csv(charpath, encoding = 'latin1')  # note encoding\n",
    "characters.head()"
   ]
  },
  {
   "cell_type": "code",
   "execution_count": 3,
   "id": "underlying-blast",
   "metadata": {},
   "outputs": [
    {
     "data": {
      "text/html": [
       "<div>\n",
       "<style scoped>\n",
       "    .dataframe tbody tr th:only-of-type {\n",
       "        vertical-align: middle;\n",
       "    }\n",
       "\n",
       "    .dataframe tbody tr th {\n",
       "        vertical-align: top;\n",
       "    }\n",
       "\n",
       "    .dataframe thead th {\n",
       "        text-align: right;\n",
       "    }\n",
       "</style>\n",
       "<table border=\"1\" class=\"dataframe\">\n",
       "  <thead>\n",
       "    <tr style=\"text-align: right;\">\n",
       "      <th></th>\n",
       "      <th>script_id</th>\n",
       "      <th>imdb_id</th>\n",
       "      <th>title</th>\n",
       "      <th>year</th>\n",
       "      <th>gross</th>\n",
       "      <th>lines_data</th>\n",
       "    </tr>\n",
       "  </thead>\n",
       "  <tbody>\n",
       "    <tr>\n",
       "      <th>0</th>\n",
       "      <td>1534</td>\n",
       "      <td>tt1022603</td>\n",
       "      <td>(500) Days of Summer</td>\n",
       "      <td>2009</td>\n",
       "      <td>37.0</td>\n",
       "      <td>7435445256774774443342577775657744434444564456...</td>\n",
       "    </tr>\n",
       "    <tr>\n",
       "      <th>1</th>\n",
       "      <td>1512</td>\n",
       "      <td>tt0147800</td>\n",
       "      <td>10 Things I Hate About You</td>\n",
       "      <td>1999</td>\n",
       "      <td>65.0</td>\n",
       "      <td>1777752320274533344457777722433777334443764677...</td>\n",
       "    </tr>\n",
       "    <tr>\n",
       "      <th>2</th>\n",
       "      <td>1514</td>\n",
       "      <td>tt0417385</td>\n",
       "      <td>12 and Holding</td>\n",
       "      <td>2005</td>\n",
       "      <td>NaN</td>\n",
       "      <td>5461357777754212454544441367774433446547647753...</td>\n",
       "    </tr>\n",
       "    <tr>\n",
       "      <th>3</th>\n",
       "      <td>1517</td>\n",
       "      <td>tt2024544</td>\n",
       "      <td>12 Years a Slave</td>\n",
       "      <td>2013</td>\n",
       "      <td>60.0</td>\n",
       "      <td>4567334777777777777777447777756477777444777777...</td>\n",
       "    </tr>\n",
       "    <tr>\n",
       "      <th>4</th>\n",
       "      <td>1520</td>\n",
       "      <td>tt1542344</td>\n",
       "      <td>127 Hours</td>\n",
       "      <td>2010</td>\n",
       "      <td>20.0</td>\n",
       "      <td>453513352345765766777777773340</td>\n",
       "    </tr>\n",
       "  </tbody>\n",
       "</table>\n",
       "</div>"
      ],
      "text/plain": [
       "   script_id    imdb_id                       title  year  gross  \\\n",
       "0       1534  tt1022603        (500) Days of Summer  2009   37.0   \n",
       "1       1512  tt0147800  10 Things I Hate About You  1999   65.0   \n",
       "2       1514  tt0417385              12 and Holding  2005    NaN   \n",
       "3       1517  tt2024544            12 Years a Slave  2013   60.0   \n",
       "4       1520  tt1542344                   127 Hours  2010   20.0   \n",
       "\n",
       "                                          lines_data  \n",
       "0  7435445256774774443342577775657744434444564456...  \n",
       "1  1777752320274533344457777722433777334443764677...  \n",
       "2  5461357777754212454544441367774433446547647753...  \n",
       "3  4567334777777777777777447777756477777444777777...  \n",
       "4                     453513352345765766777777773340  "
      ]
     },
     "execution_count": 3,
     "metadata": {},
     "output_type": "execute_result"
    }
   ],
   "source": [
    "moviepath = Path('../labs/Feb1Pandas/meta_data7.csv')\n",
    "movies = pd.read_csv(moviepath, encoding = 'latin1')\n",
    "movies.head()"
   ]
  },
  {
   "cell_type": "markdown",
   "id": "cooperative-spank",
   "metadata": {},
   "source": [
    "## Assignment 1\n",
    "\n",
    "We've seen that the mean age of actors on screen differs for men and for women.\n",
    "\n",
    "Does it also change over historical time, as we move from the 1940s to the present?\n",
    "\n",
    "Let's divide movies into two roughly equal-sized groups. To do that, we need to find the median year."
   ]
  },
  {
   "cell_type": "code",
   "execution_count": 4,
   "id": "honey-costume",
   "metadata": {},
   "outputs": [
    {
     "data": {
      "text/plain": [
       "2001.0"
      ]
     },
     "execution_count": 4,
     "metadata": {},
     "output_type": "execute_result"
    }
   ],
   "source": [
    "np.median(movies['year'])"
   ]
  },
  {
   "cell_type": "markdown",
   "id": "unauthorized-seattle",
   "metadata": {},
   "source": [
    "So we'll compare everything up to 2000 and everything thereafter. Does the mean age of characters differ significantly between these two groups of movies?\n",
    "\n",
    "Assume that \"significant\" here means *p* < .05.\n",
    "\n",
    "Also assume that we're excluding \"vampires,\" i.e., characters older than 100.\n",
    "\n",
    "You don't need to work through a permutation test; you can use ```ttest_ind.``` The challenge here is rather that it's difficult to construct sets of characters distinguished by release date of the film, since release date is recorded in ```movies``` and character ages are in ```characters.```\n",
    "\n",
    "Once you've done that, a) visualize the distributions of character ages in both periods, b) measure the difference of means, and c) test the difference for statistical significance.\n",
    "\n",
    "If the difference of means is statistically significant, does it also seem to you practically meaningful?"
   ]
  },
  {
   "cell_type": "code",
   "execution_count": 6,
   "id": "marine-literacy",
   "metadata": {},
   "outputs": [
    {
     "data": {
      "text/html": [
       "<div>\n",
       "<style scoped>\n",
       "    .dataframe tbody tr th:only-of-type {\n",
       "        vertical-align: middle;\n",
       "    }\n",
       "\n",
       "    .dataframe tbody tr th {\n",
       "        vertical-align: top;\n",
       "    }\n",
       "\n",
       "    .dataframe thead th {\n",
       "        text-align: right;\n",
       "    }\n",
       "</style>\n",
       "<table border=\"1\" class=\"dataframe\">\n",
       "  <thead>\n",
       "    <tr style=\"text-align: right;\">\n",
       "      <th></th>\n",
       "      <th>imdb_id</th>\n",
       "      <th>title</th>\n",
       "      <th>year</th>\n",
       "      <th>gross</th>\n",
       "      <th>lines_data</th>\n",
       "    </tr>\n",
       "    <tr>\n",
       "      <th>script_id</th>\n",
       "      <th></th>\n",
       "      <th></th>\n",
       "      <th></th>\n",
       "      <th></th>\n",
       "      <th></th>\n",
       "    </tr>\n",
       "  </thead>\n",
       "  <tbody>\n",
       "    <tr>\n",
       "      <th>1534</th>\n",
       "      <td>tt1022603</td>\n",
       "      <td>(500) Days of Summer</td>\n",
       "      <td>2009</td>\n",
       "      <td>37.0</td>\n",
       "      <td>7435445256774774443342577775657744434444564456...</td>\n",
       "    </tr>\n",
       "    <tr>\n",
       "      <th>1512</th>\n",
       "      <td>tt0147800</td>\n",
       "      <td>10 Things I Hate About You</td>\n",
       "      <td>1999</td>\n",
       "      <td>65.0</td>\n",
       "      <td>1777752320274533344457777722433777334443764677...</td>\n",
       "    </tr>\n",
       "    <tr>\n",
       "      <th>1514</th>\n",
       "      <td>tt0417385</td>\n",
       "      <td>12 and Holding</td>\n",
       "      <td>2005</td>\n",
       "      <td>NaN</td>\n",
       "      <td>5461357777754212454544441367774433446547647753...</td>\n",
       "    </tr>\n",
       "    <tr>\n",
       "      <th>1517</th>\n",
       "      <td>tt2024544</td>\n",
       "      <td>12 Years a Slave</td>\n",
       "      <td>2013</td>\n",
       "      <td>60.0</td>\n",
       "      <td>4567334777777777777777447777756477777444777777...</td>\n",
       "    </tr>\n",
       "    <tr>\n",
       "      <th>1520</th>\n",
       "      <td>tt1542344</td>\n",
       "      <td>127 Hours</td>\n",
       "      <td>2010</td>\n",
       "      <td>20.0</td>\n",
       "      <td>453513352345765766777777773340</td>\n",
       "    </tr>\n",
       "  </tbody>\n",
       "</table>\n",
       "</div>"
      ],
      "text/plain": [
       "             imdb_id                       title  year  gross  \\\n",
       "script_id                                                       \n",
       "1534       tt1022603        (500) Days of Summer  2009   37.0   \n",
       "1512       tt0147800  10 Things I Hate About You  1999   65.0   \n",
       "1514       tt0417385              12 and Holding  2005    NaN   \n",
       "1517       tt2024544            12 Years a Slave  2013   60.0   \n",
       "1520       tt1542344                   127 Hours  2010   20.0   \n",
       "\n",
       "                                                  lines_data  \n",
       "script_id                                                     \n",
       "1534       7435445256774774443342577775657744434444564456...  \n",
       "1512       1777752320274533344457777722433777334443764677...  \n",
       "1514       5461357777754212454544441367774433446547647753...  \n",
       "1517       4567334777777777777777447777756477777444777777...  \n",
       "1520                          453513352345765766777777773340  "
      ]
     },
     "execution_count": 6,
     "metadata": {},
     "output_type": "execute_result"
    }
   ],
   "source": [
    "movies = movies.set_index('script_id')\n",
    "movies.head()"
   ]
  },
  {
   "cell_type": "markdown",
   "id": "incredible-morgan",
   "metadata": {},
   "source": [
    "First we need to join the two dataframes. Note that we've already set the index on ```movies``` to align with a column in ```characters.``` "
   ]
  },
  {
   "cell_type": "code",
   "execution_count": 35,
   "id": "casual-bennett",
   "metadata": {},
   "outputs": [
    {
     "data": {
      "text/html": [
       "<div>\n",
       "<style scoped>\n",
       "    .dataframe tbody tr th:only-of-type {\n",
       "        vertical-align: middle;\n",
       "    }\n",
       "\n",
       "    .dataframe tbody tr th {\n",
       "        vertical-align: top;\n",
       "    }\n",
       "\n",
       "    .dataframe thead th {\n",
       "        text-align: right;\n",
       "    }\n",
       "</style>\n",
       "<table border=\"1\" class=\"dataframe\">\n",
       "  <thead>\n",
       "    <tr style=\"text-align: right;\">\n",
       "      <th></th>\n",
       "      <th>script_id</th>\n",
       "      <th>imdb_character_name</th>\n",
       "      <th>words</th>\n",
       "      <th>gender</th>\n",
       "      <th>age</th>\n",
       "      <th>imdb_id</th>\n",
       "      <th>title</th>\n",
       "      <th>year</th>\n",
       "      <th>gross</th>\n",
       "      <th>lines_data</th>\n",
       "    </tr>\n",
       "  </thead>\n",
       "  <tbody>\n",
       "    <tr>\n",
       "      <th>0</th>\n",
       "      <td>280</td>\n",
       "      <td>betty</td>\n",
       "      <td>311</td>\n",
       "      <td>f</td>\n",
       "      <td>35.0</td>\n",
       "      <td>tt0112579</td>\n",
       "      <td>The Bridges of Madison County</td>\n",
       "      <td>1995</td>\n",
       "      <td>142.0</td>\n",
       "      <td>4332023434343443203433434334433434343434434344...</td>\n",
       "    </tr>\n",
       "    <tr>\n",
       "      <th>1</th>\n",
       "      <td>280</td>\n",
       "      <td>carolyn johnson</td>\n",
       "      <td>873</td>\n",
       "      <td>f</td>\n",
       "      <td>NaN</td>\n",
       "      <td>tt0112579</td>\n",
       "      <td>The Bridges of Madison County</td>\n",
       "      <td>1995</td>\n",
       "      <td>142.0</td>\n",
       "      <td>4332023434343443203433434334433434343434434344...</td>\n",
       "    </tr>\n",
       "    <tr>\n",
       "      <th>2</th>\n",
       "      <td>280</td>\n",
       "      <td>eleanor</td>\n",
       "      <td>138</td>\n",
       "      <td>f</td>\n",
       "      <td>NaN</td>\n",
       "      <td>tt0112579</td>\n",
       "      <td>The Bridges of Madison County</td>\n",
       "      <td>1995</td>\n",
       "      <td>142.0</td>\n",
       "      <td>4332023434343443203433434334433434343434434344...</td>\n",
       "    </tr>\n",
       "    <tr>\n",
       "      <th>3</th>\n",
       "      <td>280</td>\n",
       "      <td>francesca johns</td>\n",
       "      <td>2251</td>\n",
       "      <td>f</td>\n",
       "      <td>46.0</td>\n",
       "      <td>tt0112579</td>\n",
       "      <td>The Bridges of Madison County</td>\n",
       "      <td>1995</td>\n",
       "      <td>142.0</td>\n",
       "      <td>4332023434343443203433434334433434343434434344...</td>\n",
       "    </tr>\n",
       "    <tr>\n",
       "      <th>4</th>\n",
       "      <td>280</td>\n",
       "      <td>madge</td>\n",
       "      <td>190</td>\n",
       "      <td>f</td>\n",
       "      <td>46.0</td>\n",
       "      <td>tt0112579</td>\n",
       "      <td>The Bridges of Madison County</td>\n",
       "      <td>1995</td>\n",
       "      <td>142.0</td>\n",
       "      <td>4332023434343443203433434334433434343434434344...</td>\n",
       "    </tr>\n",
       "  </tbody>\n",
       "</table>\n",
       "</div>"
      ],
      "text/plain": [
       "   script_id imdb_character_name  words gender   age    imdb_id  \\\n",
       "0        280               betty    311      f  35.0  tt0112579   \n",
       "1        280     carolyn johnson    873      f   NaN  tt0112579   \n",
       "2        280             eleanor    138      f   NaN  tt0112579   \n",
       "3        280     francesca johns   2251      f  46.0  tt0112579   \n",
       "4        280               madge    190      f  46.0  tt0112579   \n",
       "\n",
       "                           title  year  gross  \\\n",
       "0  The Bridges of Madison County  1995  142.0   \n",
       "1  The Bridges of Madison County  1995  142.0   \n",
       "2  The Bridges of Madison County  1995  142.0   \n",
       "3  The Bridges of Madison County  1995  142.0   \n",
       "4  The Bridges of Madison County  1995  142.0   \n",
       "\n",
       "                                          lines_data  \n",
       "0  4332023434343443203433434334433434343434434344...  \n",
       "1  4332023434343443203433434334433434343434434344...  \n",
       "2  4332023434343443203433434334433434343434434344...  \n",
       "3  4332023434343443203433434334433434343434434344...  \n",
       "4  4332023434343443203433434334433434343434434344...  "
      ]
     },
     "execution_count": 35,
     "metadata": {},
     "output_type": "execute_result"
    }
   ],
   "source": [
    "chars_w_dates = characters.join(movies, on = 'script_id', how = 'left')\n",
    "chars_w_dates.head()"
   ]
  },
  {
   "cell_type": "markdown",
   "id": "great-scientist",
   "metadata": {},
   "source": [
    "We can filter the data by removing characters whose age is over 100, or whose age is not a number. Note that filtering with a comparison on age automatically removes the NaNs, since ```NaN < 100``` returns False. (So does  ```NaN > 100```.) Beware, however: ```NaN != 100``` would be True."
   ]
  },
  {
   "cell_type": "code",
   "execution_count": 36,
   "id": "technical-entrance",
   "metadata": {},
   "outputs": [
    {
     "name": "stdout",
     "output_type": "stream",
     "text": [
      "Shape of data before removing vampires (23048, 10)\n",
      "Before dropping NaNs:  (18246, 10)\n",
      "After dropping NaNs:  (18246, 10)\n"
     ]
    }
   ],
   "source": [
    "print('Shape of data before removing vampires', chars_w_dates.shape)\n",
    "chars_w_dates = chars_w_dates.loc[chars_w_dates.\n",
    "print(\"Before dropping NaNs: \", chars_w_dates.shape)\n",
    "chars_w_dates = chars_w_dates.dropna(axis = 'rows', subset = ['age'])\n",
    "print(\"After dropping NaNs: \", chars_w_dates.shape)"
   ]
  },
  {
   "cell_type": "code",
   "execution_count": 37,
   "id": "planned-collect",
   "metadata": {},
   "outputs": [],
   "source": [
    "pre2001char_ages = chars_w_dates.loc[chars_w_dates['year'] < 2001, 'age']"
   ]
  },
  {
   "cell_type": "code",
   "execution_count": 38,
   "id": "framed-insulin",
   "metadata": {},
   "outputs": [],
   "source": [
    "post2000char_ages = chars_w_dates.loc[chars_w_dates['year'] >= 2001, 'age']"
   ]
  },
  {
   "cell_type": "markdown",
   "id": "restricted-validation",
   "metadata": {},
   "source": [
    "#### A) Visualize distributions\n",
    "\n",
    "There are many valid ways to do this. Plotting two histograms is a good choice, and it's what I showed you to do in the previous notebook, so it's the right thing to choose here. Here's another alternative, though: a [Kernel Density Estimation](https://seaborn.pydata.org/generated/seaborn.kdeplot.html) plot. In essence it's a continuous alternative to binned histograms.  The disadvantage is that you don't get a very interpretable y axis. The advantage is that it permits close comparisons of distributions as continuous (smoothed) curves."
   ]
  },
  {
   "cell_type": "code",
   "execution_count": 43,
   "id": "static-return",
   "metadata": {},
   "outputs": [
    {
     "data": {
      "text/plain": [
       "<AxesSubplot:ylabel='Density'>"
      ]
     },
     "execution_count": 43,
     "metadata": {},
     "output_type": "execute_result"
    },
    {
     "data": {
      "image/png": "[encoded data removed]",
      "text/plain": [
       "<Figure size 576x432 with 1 Axes>"
      ]
     },
     "metadata": {
      "needs_background": "light"
     },
     "output_type": "display_data"
    }
   ],
   "source": [
    "import seaborn as sns\n",
    "charages = pd.DataFrame({'pre2001': pre2001char_ages, 'post2000': post2000char_ages})\n",
    "plt.figure(figsize = (8,6))\n",
    "sns.kdeplot(data = charages) "
   ]
  },
  {
   "cell_type": "markdown",
   "id": "rocky-parent",
   "metadata": {},
   "source": [
    "The distributions are very similar. It's really a subtle difference!"
   ]
  },
  {
   "cell_type": "markdown",
   "id": "beginning-spice",
   "metadata": {},
   "source": [
    "#### B) Measure the difference of means."
   ]
  },
  {
   "cell_type": "code",
   "execution_count": 68,
   "id": "mental-hanging",
   "metadata": {},
   "outputs": [
    {
     "name": "stdout",
     "output_type": "stream",
     "text": [
      "Pre 2001 mean:  40.30517203594127\n",
      "Post 2000 mean:  41.021271929824564\n",
      "0.7160998938832961\n"
     ]
    }
   ],
   "source": [
    "print(\"Pre 2001 mean: \", np.mean(pre2001char_ages))\n",
    "print(\"Post 2000 mean: \", np.mean(post2000char_ages))\n",
    "print(np.mean(post2000char_ages) - np.mean(pre2001char_ages))"
   ]
  },
  {
   "cell_type": "markdown",
   "id": "bright-gabriel",
   "metadata": {},
   "source": [
    "#### C) Is the difference significant at p < .05?\n",
    "\n",
    "Yes, it is. If these two samples were drawn from a similarly distributed population, we would only rarely see this difference of means. But note that the difference is still practically small: it's less than a year!"
   ]
  },
  {
   "cell_type": "code",
   "execution_count": 40,
   "id": "developed-twelve",
   "metadata": {},
   "outputs": [
    {
     "data": {
      "text/plain": [
       "Ttest_indResult(statistic=-3.371014125715197, pvalue=0.0007504737862513238)"
      ]
     },
     "execution_count": 40,
     "metadata": {},
     "output_type": "execute_result"
    }
   ],
   "source": [
    "ttest_ind(pre2001char_ages, post2000char_ages)"
   ]
  },
  {
   "cell_type": "markdown",
   "id": "modified-ordering",
   "metadata": {},
   "source": [
    "## Assignment 2\n",
    "\n",
    "In our lab work, and in assignment 1, we looked at the distribution of ages as a simple histogram that counted the numbers of characters in each \"bin.\" But the distribution of dialogue is probably a different matter; for instance, children and very old people may appear in movies, but get relatively few lines.\n",
    "\n",
    "Explore this question by visualizing the number *of words* assigned to characters of different ages (between say 0 and 100). Produce visualizations for both women and men. You don't have to perform any statistical tests, but write a paragraph describing hypotheses this exploratory data analysis might lead you to formulate."
   ]
  },
  {
   "cell_type": "code",
   "execution_count": 50,
   "id": "private-steel",
   "metadata": {},
   "outputs": [
    {
     "name": "stdout",
     "output_type": "stream",
     "text": [
      "(23048, 5)\n",
      "(18246, 5)\n"
     ]
    }
   ],
   "source": [
    "print(characters.shape)\n",
    "valid_characters = characters.loc[characters['age'] < 100, : ]\n",
    "print(valid_characters.shape)"
   ]
  },
  {
   "cell_type": "markdown",
   "id": "refined-whale",
   "metadata": {},
   "source": [
    "We could plot a scatterplot of all characters as individual points, with the y axis as the number of words they speak, and the x axis as their age. That's a valid solution for the assignment, but it can be hard to distinguish changes in the number-of-words-per-character from changes in the number of characters.\n",
    "\n",
    "Another approach is to sum all words spoken by characters of a particular gender and age. We can do this with the ```.groupby()``` method."
   ]
  },
  {
   "cell_type": "code",
   "execution_count": 51,
   "id": "appointed-moment",
   "metadata": {},
   "outputs": [],
   "source": [
    "genderandage = valid_characters.groupby(['gender', 'age'], as_index = False).sum()"
   ]
  },
  {
   "cell_type": "code",
   "execution_count": 52,
   "id": "extra-transsexual",
   "metadata": {},
   "outputs": [
    {
     "data": {
      "text/html": [
       "<div>\n",
       "<style scoped>\n",
       "    .dataframe tbody tr th:only-of-type {\n",
       "        vertical-align: middle;\n",
       "    }\n",
       "\n",
       "    .dataframe tbody tr th {\n",
       "        vertical-align: top;\n",
       "    }\n",
       "\n",
       "    .dataframe thead th {\n",
       "        text-align: right;\n",
       "    }\n",
       "</style>\n",
       "<table border=\"1\" class=\"dataframe\">\n",
       "  <thead>\n",
       "    <tr style=\"text-align: right;\">\n",
       "      <th></th>\n",
       "      <th>gender</th>\n",
       "      <th>age</th>\n",
       "      <th>words</th>\n",
       "    </tr>\n",
       "  </thead>\n",
       "  <tbody>\n",
       "    <tr>\n",
       "      <th>0</th>\n",
       "      <td>?</td>\n",
       "      <td>78.0</td>\n",
       "      <td>224</td>\n",
       "    </tr>\n",
       "    <tr>\n",
       "      <th>1</th>\n",
       "      <td>?</td>\n",
       "      <td>90.0</td>\n",
       "      <td>312</td>\n",
       "    </tr>\n",
       "    <tr>\n",
       "      <th>2</th>\n",
       "      <td>f</td>\n",
       "      <td>4.0</td>\n",
       "      <td>272</td>\n",
       "    </tr>\n",
       "    <tr>\n",
       "      <th>3</th>\n",
       "      <td>f</td>\n",
       "      <td>5.0</td>\n",
       "      <td>132</td>\n",
       "    </tr>\n",
       "    <tr>\n",
       "      <th>4</th>\n",
       "      <td>f</td>\n",
       "      <td>6.0</td>\n",
       "      <td>2406</td>\n",
       "    </tr>\n",
       "  </tbody>\n",
       "</table>\n",
       "</div>"
      ],
      "text/plain": [
       "  gender   age  words\n",
       "0      ?  78.0    224\n",
       "1      ?  90.0    312\n",
       "2      f   4.0    272\n",
       "3      f   5.0    132\n",
       "4      f   6.0   2406"
      ]
     },
     "execution_count": 52,
     "metadata": {},
     "output_type": "execute_result"
    }
   ],
   "source": [
    "genderandage = genderandage.drop('script_id', axis = 'columns')\n",
    "genderandage.head()"
   ]
  },
  {
   "cell_type": "markdown",
   "id": "labeled-alert",
   "metadata": {},
   "source": [
    "### Visualizing the distribution of words \n",
    "\n",
    "We can superimpose the total number of words spoken at each age, for both women and men."
   ]
  },
  {
   "cell_type": "code",
   "execution_count": 55,
   "id": "disciplinary-millennium",
   "metadata": {},
   "outputs": [
    {
     "data": {
      "text/plain": [
       "<AxesSubplot:xlabel='age', ylabel='words'>"
      ]
     },
     "execution_count": 55,
     "metadata": {},
     "output_type": "execute_result"
    },
    {
     "data": {
      "image/png": "[encoded data removed]",
      "text/plain": [
       "<Figure size 432x288 with 1 Axes>"
      ]
     },
     "metadata": {
      "needs_background": "light"
     },
     "output_type": "display_data"
    }
   ],
   "source": [
    "sns.lineplot(data = genderandage.loc[genderandage['gender'] == 'm', : ], x = 'age', y = 'words')\n",
    "sns.lineplot(data = genderandage.loc[genderandage['gender'] == 'f', : ], x = 'age', y = 'words')"
   ]
  },
  {
   "cell_type": "markdown",
   "id": "hybrid-candle",
   "metadata": {},
   "source": [
    "### Hypotheses that might be suggested\n",
    "\n",
    "There were a wide variety of valid answers here. There's certainly a striking peak in early adulthood, for both women and men. There are clearly fewer total lines for women than for men. \n",
    "\n",
    "It's not easy to tell, on visual inspection, whether the *shape* of the curves is significantly different by gender, but it does appear that the peak age of getting to talk on screen may be earlier (younger) for women. Is this because there are simply more young women characters, or because young women get to talk more--on a per-person basis--than older female characters?\n",
    "\n",
    "The cells below start to investigate that hypothesis."
   ]
  },
  {
   "cell_type": "code",
   "execution_count": 60,
   "id": "joined-consumer",
   "metadata": {},
   "outputs": [
    {
     "data": {
      "text/html": [
       "<div>\n",
       "<style scoped>\n",
       "    .dataframe tbody tr th:only-of-type {\n",
       "        vertical-align: middle;\n",
       "    }\n",
       "\n",
       "    .dataframe tbody tr th {\n",
       "        vertical-align: top;\n",
       "    }\n",
       "\n",
       "    .dataframe thead th {\n",
       "        text-align: right;\n",
       "    }\n",
       "</style>\n",
       "<table border=\"1\" class=\"dataframe\">\n",
       "  <thead>\n",
       "    <tr style=\"text-align: right;\">\n",
       "      <th></th>\n",
       "      <th>gender</th>\n",
       "      <th>age</th>\n",
       "      <th>charcount</th>\n",
       "    </tr>\n",
       "  </thead>\n",
       "  <tbody>\n",
       "    <tr>\n",
       "      <th>0</th>\n",
       "      <td>?</td>\n",
       "      <td>78.0</td>\n",
       "      <td>1</td>\n",
       "    </tr>\n",
       "    <tr>\n",
       "      <th>1</th>\n",
       "      <td>?</td>\n",
       "      <td>90.0</td>\n",
       "      <td>1</td>\n",
       "    </tr>\n",
       "    <tr>\n",
       "      <th>2</th>\n",
       "      <td>f</td>\n",
       "      <td>4.0</td>\n",
       "      <td>1</td>\n",
       "    </tr>\n",
       "    <tr>\n",
       "      <th>3</th>\n",
       "      <td>f</td>\n",
       "      <td>5.0</td>\n",
       "      <td>1</td>\n",
       "    </tr>\n",
       "    <tr>\n",
       "      <th>4</th>\n",
       "      <td>f</td>\n",
       "      <td>6.0</td>\n",
       "      <td>8</td>\n",
       "    </tr>\n",
       "  </tbody>\n",
       "</table>\n",
       "</div>"
      ],
      "text/plain": [
       "  gender   age  charcount\n",
       "0      ?  78.0          1\n",
       "1      ?  90.0          1\n",
       "2      f   4.0          1\n",
       "3      f   5.0          1\n",
       "4      f   6.0          8"
      ]
     },
     "execution_count": 60,
     "metadata": {},
     "output_type": "execute_result"
    }
   ],
   "source": [
    "# counting characters\n",
    "\n",
    "gendercounts = valid_characters.groupby(['gender', 'age'], as_index = False).count()\n",
    "gendercounts = gendercounts.drop(['script_id', 'words'], axis = 'columns')\n",
    "gendercounts.columns = ['gender', 'age', 'charcount']\n",
    "gendercounts.head()"
   ]
  },
  {
   "cell_type": "code",
   "execution_count": 58,
   "id": "early-movie",
   "metadata": {},
   "outputs": [
    {
     "data": {
      "text/plain": [
       "<AxesSubplot:xlabel='age', ylabel='words'>"
      ]
     },
     "execution_count": 58,
     "metadata": {},
     "output_type": "execute_result"
    },
    {
     "data": {
      "image/png": "[encoded data removed]",
      "text/plain": [
       "<Figure size 432x288 with 1 Axes>"
      ]
     },
     "metadata": {
      "needs_background": "light"
     },
     "output_type": "display_data"
    }
   ],
   "source": [
    "sns.lineplot(data = gendercounts.loc[gendercounts['gender'] == 'm', : ], x = 'age', y = 'words')\n",
    "sns.lineplot(data = gendercounts.loc[gendercounts['gender'] == 'f', : ], x = 'age', y = 'words')"
   ]
  },
  {
   "cell_type": "code",
   "execution_count": 62,
   "id": "extreme-guarantee",
   "metadata": {},
   "outputs": [
    {
     "data": {
      "text/html": [
       "<div>\n",
       "<style scoped>\n",
       "    .dataframe tbody tr th:only-of-type {\n",
       "        vertical-align: middle;\n",
       "    }\n",
       "\n",
       "    .dataframe tbody tr th {\n",
       "        vertical-align: top;\n",
       "    }\n",
       "\n",
       "    .dataframe thead th {\n",
       "        text-align: right;\n",
       "    }\n",
       "</style>\n",
       "<table border=\"1\" class=\"dataframe\">\n",
       "  <thead>\n",
       "    <tr style=\"text-align: right;\">\n",
       "      <th></th>\n",
       "      <th>gender_x</th>\n",
       "      <th>age</th>\n",
       "      <th>charcount</th>\n",
       "      <th>gender_y</th>\n",
       "      <th>words</th>\n",
       "      <th>per</th>\n",
       "    </tr>\n",
       "  </thead>\n",
       "  <tbody>\n",
       "    <tr>\n",
       "      <th>0</th>\n",
       "      <td>f</td>\n",
       "      <td>4.0</td>\n",
       "      <td>1</td>\n",
       "      <td>f</td>\n",
       "      <td>272</td>\n",
       "      <td>272.000000</td>\n",
       "    </tr>\n",
       "    <tr>\n",
       "      <th>1</th>\n",
       "      <td>f</td>\n",
       "      <td>5.0</td>\n",
       "      <td>1</td>\n",
       "      <td>f</td>\n",
       "      <td>132</td>\n",
       "      <td>132.000000</td>\n",
       "    </tr>\n",
       "    <tr>\n",
       "      <th>2</th>\n",
       "      <td>f</td>\n",
       "      <td>6.0</td>\n",
       "      <td>8</td>\n",
       "      <td>f</td>\n",
       "      <td>2406</td>\n",
       "      <td>300.750000</td>\n",
       "    </tr>\n",
       "    <tr>\n",
       "      <th>3</th>\n",
       "      <td>f</td>\n",
       "      <td>7.0</td>\n",
       "      <td>15</td>\n",
       "      <td>f</td>\n",
       "      <td>8158</td>\n",
       "      <td>543.866667</td>\n",
       "    </tr>\n",
       "    <tr>\n",
       "      <th>4</th>\n",
       "      <td>f</td>\n",
       "      <td>8.0</td>\n",
       "      <td>7</td>\n",
       "      <td>f</td>\n",
       "      <td>3260</td>\n",
       "      <td>465.714286</td>\n",
       "    </tr>\n",
       "  </tbody>\n",
       "</table>\n",
       "</div>"
      ],
      "text/plain": [
       "  gender_x  age  charcount gender_y  words         per\n",
       "0        f  4.0          1        f    272  272.000000\n",
       "1        f  5.0          1        f    132  132.000000\n",
       "2        f  6.0          8        f   2406  300.750000\n",
       "3        f  7.0         15        f   8158  543.866667\n",
       "4        f  8.0          7        f   3260  465.714286"
      ]
     },
     "execution_count": 62,
     "metadata": {},
     "output_type": "execute_result"
    }
   ],
   "source": [
    "# estimating dialogue per character\n",
    "\n",
    "wordsperwoman = gendercounts.loc[gendercounts['gender'] == 'f', : ]\n",
    "wordsperwoman = wordsperwoman.merge(genderandage.loc[genderandage['gender'] == 'f', : ], on = 'age')\n",
    "wordsperwoman['per'] = wordsperwoman['words'].divide(wordsperwoman['charcount'])\n",
    "wordsperwoman.head()"
   ]
  },
  {
   "cell_type": "code",
   "execution_count": 67,
   "id": "working-poison",
   "metadata": {},
   "outputs": [
    {
     "data": {
      "text/plain": [
       "<AxesSubplot:xlabel='age', ylabel='per'>"
      ]
     },
     "execution_count": 67,
     "metadata": {},
     "output_type": "execute_result"
    },
    {
     "data": {
      "image/png": "[encoded data removed]",
      "text/plain": [
       "<Figure size 432x288 with 1 Axes>"
      ]
     },
     "metadata": {
      "needs_background": "light"
     },
     "output_type": "display_data"
    }
   ],
   "source": [
    "wordsperman = gendercounts.loc[gendercounts['gender'] == 'm', : ]\n",
    "wordsperman = wordsperman.merge(genderandage.loc[genderandage['gender'] == 'm', : ], on = 'age')\n",
    "wordsperman['per'] = wordsperman['words'].divide(wordsperman['charcount'])\n",
    "sns.lineplot(data = wordsperman, x = 'age', y = 'per')\n",
    "sns.lineplot(data = wordsperwoman, x = 'age', y = 'per')"
   ]
  },
  {
   "cell_type": "markdown",
   "id": "romance-swift",
   "metadata": {},
   "source": [
    "The curve of dialogue-per-character (by age) is not drastically similar for the two genders. It does look a bit like there are simply more young female characters. But this conclusion is importantly confounded by the fact that our dataset doesn't necessarily include all the characters for any movie. That selection process is something we would need to understand more fully before drawing any firm conclusion."
   ]
  },
  {
   "cell_type": "code",
   "execution_count": null,
   "id": "secure-kitchen",
   "metadata": {},
   "outputs": [],
   "source": []
  }
 ],
 "metadata": {
  "kernelspec": {
   "display_name": "Python 3",
   "language": "python",
   "name": "python3"
  },
  "language_info": {
   "codemirror_mode": {
    "name": "ipython",
    "version": 3
   },
   "file_extension": ".py",
   "mimetype": "text/x-python",
   "name": "python",
   "nbconvert_exporter": "python",
   "pygments_lexer": "ipython3",
   "version": "3.7.6"
  }
 },
 "nbformat": 4,
 "nbformat_minor": 5
}
