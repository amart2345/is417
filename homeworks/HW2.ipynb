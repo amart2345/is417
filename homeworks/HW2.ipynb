{
 "cells": [
  {
   "cell_type": "markdown",
   "id": "sporting-arcade",
   "metadata": {},
   "source": [
    "# Homework #2\n",
    "\n",
    "Practicing Python and basic inferential statistics."
   ]
  },
  {
   "cell_type": "code",
   "execution_count": 27,
   "id": "respiratory-perception",
   "metadata": {},
   "outputs": [],
   "source": [
    "from pathlib import Path\n",
    "import pandas as pd\n",
    "import numpy as np\n",
    "from matplotlib import pyplot as plt\n",
    "from scipy.stats import ttest_ind"
   ]
  },
  {
   "cell_type": "code",
   "execution_count": 5,
   "id": "manual-italic",
   "metadata": {},
   "outputs": [
    {
     "data": {
      "text/html": [
       "<div>\n",
       "<style scoped>\n",
       "    .dataframe tbody tr th:only-of-type {\n",
       "        vertical-align: middle;\n",
       "    }\n",
       "\n",
       "    .dataframe tbody tr th {\n",
       "        vertical-align: top;\n",
       "    }\n",
       "\n",
       "    .dataframe thead th {\n",
       "        text-align: right;\n",
       "    }\n",
       "</style>\n",
       "<table border=\"1\" class=\"dataframe\">\n",
       "  <thead>\n",
       "    <tr style=\"text-align: right;\">\n",
       "      <th></th>\n",
       "      <th>script_id</th>\n",
       "      <th>imdb_character_name</th>\n",
       "      <th>words</th>\n",
       "      <th>gender</th>\n",
       "      <th>age</th>\n",
       "    </tr>\n",
       "  </thead>\n",
       "  <tbody>\n",
       "    <tr>\n",
       "      <th>0</th>\n",
       "      <td>280</td>\n",
       "      <td>betty</td>\n",
       "      <td>311</td>\n",
       "      <td>f</td>\n",
       "      <td>35.0</td>\n",
       "    </tr>\n",
       "    <tr>\n",
       "      <th>1</th>\n",
       "      <td>280</td>\n",
       "      <td>carolyn johnson</td>\n",
       "      <td>873</td>\n",
       "      <td>f</td>\n",
       "      <td>NaN</td>\n",
       "    </tr>\n",
       "    <tr>\n",
       "      <th>2</th>\n",
       "      <td>280</td>\n",
       "      <td>eleanor</td>\n",
       "      <td>138</td>\n",
       "      <td>f</td>\n",
       "      <td>NaN</td>\n",
       "    </tr>\n",
       "    <tr>\n",
       "      <th>3</th>\n",
       "      <td>280</td>\n",
       "      <td>francesca johns</td>\n",
       "      <td>2251</td>\n",
       "      <td>f</td>\n",
       "      <td>46.0</td>\n",
       "    </tr>\n",
       "    <tr>\n",
       "      <th>4</th>\n",
       "      <td>280</td>\n",
       "      <td>madge</td>\n",
       "      <td>190</td>\n",
       "      <td>f</td>\n",
       "      <td>46.0</td>\n",
       "    </tr>\n",
       "  </tbody>\n",
       "</table>\n",
       "</div>"
      ],
      "text/plain": [
       "   script_id imdb_character_name  words gender   age\n",
       "0        280               betty    311      f  35.0\n",
       "1        280     carolyn johnson    873      f   NaN\n",
       "2        280             eleanor    138      f   NaN\n",
       "3        280     francesca johns   2251      f  46.0\n",
       "4        280               madge    190      f  46.0"
      ]
     },
     "execution_count": 5,
     "metadata": {},
     "output_type": "execute_result"
    }
   ],
   "source": [
    "charpath = Path('../labs/Feb1Pandas/character_list5.csv')\n",
    "characters = pd.read_csv(charpath, encoding = 'latin1')  # note encoding\n",
    "characters.head()"
   ]
  },
  {
   "cell_type": "code",
   "execution_count": 6,
   "id": "pressed-microphone",
   "metadata": {},
   "outputs": [
    {
     "data": {
      "text/html": [
       "<div>\n",
       "<style scoped>\n",
       "    .dataframe tbody tr th:only-of-type {\n",
       "        vertical-align: middle;\n",
       "    }\n",
       "\n",
       "    .dataframe tbody tr th {\n",
       "        vertical-align: top;\n",
       "    }\n",
       "\n",
       "    .dataframe thead th {\n",
       "        text-align: right;\n",
       "    }\n",
       "</style>\n",
       "<table border=\"1\" class=\"dataframe\">\n",
       "  <thead>\n",
       "    <tr style=\"text-align: right;\">\n",
       "      <th></th>\n",
       "      <th>script_id</th>\n",
       "      <th>imdb_id</th>\n",
       "      <th>title</th>\n",
       "      <th>year</th>\n",
       "      <th>gross</th>\n",
       "      <th>lines_data</th>\n",
       "    </tr>\n",
       "  </thead>\n",
       "  <tbody>\n",
       "    <tr>\n",
       "      <th>0</th>\n",
       "      <td>1534</td>\n",
       "      <td>tt1022603</td>\n",
       "      <td>(500) Days of Summer</td>\n",
       "      <td>2009</td>\n",
       "      <td>37.0</td>\n",
       "      <td>7435445256774774443342577775657744434444564456...</td>\n",
       "    </tr>\n",
       "    <tr>\n",
       "      <th>1</th>\n",
       "      <td>1512</td>\n",
       "      <td>tt0147800</td>\n",
       "      <td>10 Things I Hate About You</td>\n",
       "      <td>1999</td>\n",
       "      <td>65.0</td>\n",
       "      <td>1777752320274533344457777722433777334443764677...</td>\n",
       "    </tr>\n",
       "    <tr>\n",
       "      <th>2</th>\n",
       "      <td>1514</td>\n",
       "      <td>tt0417385</td>\n",
       "      <td>12 and Holding</td>\n",
       "      <td>2005</td>\n",
       "      <td>NaN</td>\n",
       "      <td>5461357777754212454544441367774433446547647753...</td>\n",
       "    </tr>\n",
       "    <tr>\n",
       "      <th>3</th>\n",
       "      <td>1517</td>\n",
       "      <td>tt2024544</td>\n",
       "      <td>12 Years a Slave</td>\n",
       "      <td>2013</td>\n",
       "      <td>60.0</td>\n",
       "      <td>4567334777777777777777447777756477777444777777...</td>\n",
       "    </tr>\n",
       "    <tr>\n",
       "      <th>4</th>\n",
       "      <td>1520</td>\n",
       "      <td>tt1542344</td>\n",
       "      <td>127 Hours</td>\n",
       "      <td>2010</td>\n",
       "      <td>20.0</td>\n",
       "      <td>453513352345765766777777773340</td>\n",
       "    </tr>\n",
       "  </tbody>\n",
       "</table>\n",
       "</div>"
      ],
      "text/plain": [
       "   script_id    imdb_id                       title  year  gross  \\\n",
       "0       1534  tt1022603        (500) Days of Summer  2009   37.0   \n",
       "1       1512  tt0147800  10 Things I Hate About You  1999   65.0   \n",
       "2       1514  tt0417385              12 and Holding  2005    NaN   \n",
       "3       1517  tt2024544            12 Years a Slave  2013   60.0   \n",
       "4       1520  tt1542344                   127 Hours  2010   20.0   \n",
       "\n",
       "                                          lines_data  \n",
       "0  7435445256774774443342577775657744434444564456...  \n",
       "1  1777752320274533344457777722433777334443764677...  \n",
       "2  5461357777754212454544441367774433446547647753...  \n",
       "3  4567334777777777777777447777756477777444777777...  \n",
       "4                     453513352345765766777777773340  "
      ]
     },
     "execution_count": 6,
     "metadata": {},
     "output_type": "execute_result"
    }
   ],
   "source": [
    "moviepath = Path('../labs/Feb1Pandas/meta_data7.csv')\n",
    "movies = pd.read_csv(moviepath, encoding = 'latin1')\n",
    "movies.head()"
   ]
  },
  {
   "cell_type": "markdown",
   "id": "african-cycle",
   "metadata": {},
   "source": [
    "## Assignment 1\n",
    "\n",
    "We've seen that the mean age of actors on screen differs for men and for women.\n",
    "\n",
    "Does it also change over historical time, as we move from the 1940s to the present?\n",
    "\n",
    "Let's divide movies into two roughly equal-sized groups. To do that, we need to find the median year."
   ]
  },
  {
   "cell_type": "code",
   "execution_count": 8,
   "id": "operational-picking",
   "metadata": {},
   "outputs": [
    {
     "data": {
      "text/plain": [
       "2001.0"
      ]
     },
     "execution_count": 8,
     "metadata": {},
     "output_type": "execute_result"
    }
   ],
   "source": [
    "np.median(movies['year'])"
   ]
  },
  {
   "cell_type": "markdown",
   "id": "dimensional-times",
   "metadata": {},
   "source": [
    "So we'll compare everything up to 2000 and everything thereafter. Does the mean age of characters differ significantly between these two groups of movies?\n",
    "\n",
    "Assume that \"significant\" here means *p* < .05.\n",
    "\n",
    "Also assume that we're excluding \"vampires,\" i.e., characters older than 100.\n",
    "\n",
    "You don't need to work through a permutation test; you can use ```ttest_ind.``` The challenge here is rather that it's difficult to construct sets of characters distinguished by release date of the film, since release date is recorded in ```movies``` and character ages are in ```characters.```\n",
    "\n",
    "Once you've done that, a) visualize the distributions of character ages in both periods, b) measure the difference of means, and c) test the difference for statistical significance.\n",
    "\n",
    "If the difference of means is statistically significant, does it also seem to you practically meaningful?"
   ]
  },
  {
   "cell_type": "markdown",
   "id": "architectural-rouge",
   "metadata": {},
   "source": [
    "## Assignment 2\n",
    "\n",
    "In our lab work, and in assignment 1, we looked at the distribution of ages as a simple histogram that counted the numbers of characters in each \"bin.\" But the distribution of dialogue is probably a different matter; for instance, children and very old people may appear in movies, but get relatively few lines.\n",
    "\n",
    "Explore this question by visualizing the number *of words* assigned to characters of different ages (between say 0 and 100). Produce visualizations for both women and men. You don't have to perform any statistical tests, but write a paragraph describing hypotheses this exploratory data analysis might lead you to formulate."
   ]
  },
  {
   "cell_type": "code",
   "execution_count": null,
   "id": "awful-element",
   "metadata": {},
   "outputs": [],
   "source": []
  }
 ],
 "metadata": {
  "kernelspec": {
   "display_name": "Python 3",
   "language": "python",
   "name": "python3"
  },
  "language_info": {
   "codemirror_mode": {
    "name": "ipython",
    "version": 3
   },
   "file_extension": ".py",
   "mimetype": "text/x-python",
   "name": "python",
   "nbconvert_exporter": "python",
   "pygments_lexer": "ipython3",
   "version": "3.7.6"
  }
 },
 "nbformat": 4,
 "nbformat_minor": 5
}
