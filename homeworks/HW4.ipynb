{
 "cells": [
  {
   "cell_type": "markdown",
   "id": "capable-transmission",
   "metadata": {},
   "source": [
    "# Homework 4:\n",
    "\n",
    "## Comparing word vectors, and/or using principal component analysis to visualize them\n",
    "\n",
    "There are two options for homework. You can do one or the other; there's no need to do both.\n",
    "\n",
    "1. Option 1 is to create a doc-term matrix of words and *characters* (whereas in the lab notebook we did words and *movies*). Use the vocabulary-selection techniques we explored in the notebook. Then write code that allows the user to choose a word, and--given that word--finds the five words most closely related to it in character-space. Finally, test to see if this improves on our movie-space model of meaning. To do this in a slightly experimental way: choose five words, look at their associations in movie space, and in each case choose two words you would expect to see and don't. (Check to make sure whether those words are even in our vocabulary.) How many of the associations you expected (if any) do you find turning up when you select words that are close in character-space?\n",
    "\n",
    "2. Option 2 is to use principal component analysis to explore the distribution of words. This will require transposing a matrix so that columns become rows, and vice-versa -- as shown below. Don't worry about grouping by movie; just develop a vocabulary using doc-frequency, and then use CountVectorizer to count those words for characters. Then transpose the (whole) doc-term matrix, and apply PCA to extract components for all the words. But since your graph will become unreadable if you try to plot and label all 5000 words, you might randomly select 100 to plot. The seaborn code examples below are a rough model of one way to label points, although you may find that you need to convert your PCA output into a DataFrame and pair it with an index of word labels for this method to work.\n",
    "\n",
    "3. A third option mentioned in the lab notebook is to apply PCA to a wider range of movie genres and visualize the movies. I'm not sure I recommend this, though; when I tried it, results were hard to interpret."
   ]
  },
  {
   "cell_type": "code",
   "execution_count": 33,
   "id": "specific-trading",
   "metadata": {},
   "outputs": [],
   "source": [
    "import pandas as pd\n",
    "import seaborn as sns\n",
    "from matplotlib import pyplot as plt"
   ]
  },
  {
   "cell_type": "markdown",
   "id": "incorporated-foster",
   "metadata": {},
   "source": [
    "### Transposing a data frame\n",
    "\n",
    "You can delete these examples after you get your own code to work; no need to keep them in the homework .pdf.\n",
    "\n",
    "We'll create a sample data frame."
   ]
  },
  {
   "cell_type": "code",
   "execution_count": 16,
   "id": "young-archive",
   "metadata": {},
   "outputs": [],
   "source": [
    "example = pd.DataFrame({'battle': [1, 25, 19], 'fool': [12, 3, 4]}, index = ['As You Like It', 'Macbeth', 'Hamlet'])"
   ]
  },
  {
   "cell_type": "code",
   "execution_count": 17,
   "id": "neutral-treaty",
   "metadata": {},
   "outputs": [
    {
     "data": {
      "text/html": [
       "<div>\n",
       "<style scoped>\n",
       "    .dataframe tbody tr th:only-of-type {\n",
       "        vertical-align: middle;\n",
       "    }\n",
       "\n",
       "    .dataframe tbody tr th {\n",
       "        vertical-align: top;\n",
       "    }\n",
       "\n",
       "    .dataframe thead th {\n",
       "        text-align: right;\n",
       "    }\n",
       "</style>\n",
       "<table border=\"1\" class=\"dataframe\">\n",
       "  <thead>\n",
       "    <tr style=\"text-align: right;\">\n",
       "      <th></th>\n",
       "      <th>battle</th>\n",
       "      <th>fool</th>\n",
       "    </tr>\n",
       "  </thead>\n",
       "  <tbody>\n",
       "    <tr>\n",
       "      <th>As You Like It</th>\n",
       "      <td>1</td>\n",
       "      <td>12</td>\n",
       "    </tr>\n",
       "    <tr>\n",
       "      <th>Macbeth</th>\n",
       "      <td>25</td>\n",
       "      <td>3</td>\n",
       "    </tr>\n",
       "    <tr>\n",
       "      <th>Hamlet</th>\n",
       "      <td>19</td>\n",
       "      <td>4</td>\n",
       "    </tr>\n",
       "  </tbody>\n",
       "</table>\n",
       "</div>"
      ],
      "text/plain": [
       "                battle  fool\n",
       "As You Like It       1    12\n",
       "Macbeth             25     3\n",
       "Hamlet              19     4"
      ]
     },
     "execution_count": 17,
     "metadata": {},
     "output_type": "execute_result"
    }
   ],
   "source": [
    "example"
   ]
  },
  {
   "cell_type": "markdown",
   "id": "sapphire-adult",
   "metadata": {},
   "source": [
    "We can plot the rows in a space defined by two columns, and apply the titles in the index as labels. Note that +0.2 is just a way of putting the label slightly to the upper right of the point; you'll have to adjust that number if the scale of your x and y axes changes (probably make it much smaller)."
   ]
  },
  {
   "cell_type": "code",
   "execution_count": 30,
   "id": "narrow-intake",
   "metadata": {},
   "outputs": [
    {
     "data": {
      "image/png": "[encoded data removed]",
      "text/plain": [
       "<Figure size 432x288 with 1 Axes>"
      ]
     },
     "metadata": {
      "needs_background": "light"
     },
     "output_type": "display_data"
    }
   ],
   "source": [
    "theplot = sns.scatterplot(data = example, x = 'battle', y = 'fool')\n",
    "\n",
    "for idx, row in example.iterrows():\n",
    "     theplot.text(row['battle'] + 0.2, row['fool'] + .2, \n",
    "     idx, horizontalalignment='left', \n",
    "     size='medium', color='black', weight='semibold')"
   ]
  },
  {
   "cell_type": "code",
   "execution_count": 34,
   "id": "proved-market",
   "metadata": {},
   "outputs": [
    {
     "data": {
      "text/html": [
       "<div>\n",
       "<style scoped>\n",
       "    .dataframe tbody tr th:only-of-type {\n",
       "        vertical-align: middle;\n",
       "    }\n",
       "\n",
       "    .dataframe tbody tr th {\n",
       "        vertical-align: top;\n",
       "    }\n",
       "\n",
       "    .dataframe thead th {\n",
       "        text-align: right;\n",
       "    }\n",
       "</style>\n",
       "<table border=\"1\" class=\"dataframe\">\n",
       "  <thead>\n",
       "    <tr style=\"text-align: right;\">\n",
       "      <th></th>\n",
       "      <th>As You Like It</th>\n",
       "      <th>Macbeth</th>\n",
       "      <th>Hamlet</th>\n",
       "    </tr>\n",
       "  </thead>\n",
       "  <tbody>\n",
       "    <tr>\n",
       "      <th>battle</th>\n",
       "      <td>1</td>\n",
       "      <td>25</td>\n",
       "      <td>19</td>\n",
       "    </tr>\n",
       "    <tr>\n",
       "      <th>fool</th>\n",
       "      <td>12</td>\n",
       "      <td>3</td>\n",
       "      <td>4</td>\n",
       "    </tr>\n",
       "  </tbody>\n",
       "</table>\n",
       "</div>"
      ],
      "text/plain": [
       "        As You Like It  Macbeth  Hamlet\n",
       "battle               1       25      19\n",
       "fool                12        3       4"
      ]
     },
     "execution_count": 34,
     "metadata": {},
     "output_type": "execute_result"
    }
   ],
   "source": [
    "# The function that does the transposing is very complicated j/k\n",
    "\n",
    "transposed = example.transpose()\n",
    "transposed"
   ]
  },
  {
   "cell_type": "markdown",
   "id": "characteristic-vision",
   "metadata": {},
   "source": [
    "Now the rows are columns and the columns are rows. We can still choose two columns and plot the rows.\n",
    "\n",
    "You'll need to transpose the doc-term matrix before applying PCA.\n",
    "\n",
    "Once you've done PCA, you will only *have* two columns (components) to plot."
   ]
  },
  {
   "cell_type": "code",
   "execution_count": 36,
   "id": "framed-resource",
   "metadata": {},
   "outputs": [
    {
     "data": {
      "image/png": "[encoded data removed]",
      "text/plain": [
       "<Figure size 432x288 with 1 Axes>"
      ]
     },
     "metadata": {
      "needs_background": "light"
     },
     "output_type": "display_data"
    }
   ],
   "source": [
    "theplot = sns.scatterplot(data = transposed, x = 'As You Like It', y = 'Macbeth')\n",
    "\n",
    "for idx, row in transposed.iterrows():\n",
    "     theplot.text(row['As You Like It'] + 0.3, row['Macbeth'] + 0.2, \n",
    "     idx, horizontalalignment='left', \n",
    "     size='medium', color='black', weight='semibold')\n"
   ]
  }
 ],
 "metadata": {
  "kernelspec": {
   "display_name": "Python 3",
   "language": "python",
   "name": "python3"
  },
  "language_info": {
   "codemirror_mode": {
    "name": "ipython",
    "version": 3
   },
   "file_extension": ".py",
   "mimetype": "text/x-python",
   "name": "python",
   "nbconvert_exporter": "python",
   "pygments_lexer": "ipython3",
   "version": "3.7.6"
  }
 },
 "nbformat": 4,
 "nbformat_minor": 5
}
