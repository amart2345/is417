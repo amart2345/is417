{
 "cells": [
  {
   "cell_type": "markdown",
   "id": "sitting-dream",
   "metadata": {},
   "source": [
    "# Movies and Statistics\n",
    "\n",
    "This notebook guides you through a real application of Pandas to study gender bias in film scripts. In particular we want to ask whether gender is associated with the ages of characters, and whether the fraction of dialogue spoken by women changes significantly over historical time.\n",
    "\n",
    "We'll do some \"data munging\" (reorganizing and summarizing the data) to produce a data frame that has all the information we need. Then we'll run some simple statistical tests.\n",
    "\n",
    "We're drawing our data from [this blog post by Hannah Anderson and Matt Daniels](https://pudding.cool/2017/03/film-dialogue/). It organizes data for about 2000 screenplays, and reveals a number of patterns with gorgeous dataviz, but doesn't directly answer the question we want to pose.\n",
    "\n",
    "However, the authors of the project also posted their data [on GitHub,](https://github.com/matthewfdaniels/scripts/) and I've placed it in this folder.\n",
    "\n",
    "We start by importing the modules we need. Because the word \"pandas\" is long if you have to type it a lot, it's conventionally imported *as* pd.\n",
    "\n",
    "I'm also going to import a basic graphics library (\"pyplot\") that I'll use to put some titles on graphs, draw a few lines on them, etc. I won't stress the dataviz aspect of this notebook, because in the long run there are more elegant ways to do dataviz in Python (e.g. with the seaborn library). For now I'm trying to rely mostly on Pandas itself, using simple pandas functions like ```.plot()``` and ```.hist()```."
   ]
  },
  {
   "cell_type": "code",
   "execution_count": 2,
   "id": "simple-european",
   "metadata": {},
   "outputs": [],
   "source": [
    "import pandas as pd\n",
    "from matplotlib import pyplot as plt"
   ]
  },
  {
   "cell_type": "markdown",
   "id": "tutorial-modern",
   "metadata": {},
   "source": [
    "### Meet your data\n",
    "\n",
    "The data, as made available by Anderson and Daniels, is in two separate tables. One table has a row for each *character,* and lists the character's gender, along with their age, and the number of words they speak in the movie.\n",
    "\n",
    "The first time I ran this it didn't work. I got a \"UnicodeDecodeError.\" That's usually a clue that the file has a different encoding. \"Utf-8\" is default, but this file was created using \"latin1,\" maybe in Excel."
   ]
  },
  {
   "cell_type": "code",
   "execution_count": 3,
   "id": "detected-bandwidth",
   "metadata": {},
   "outputs": [
    {
     "data": {
      "text/html": [
       "<div>\n",
       "<style scoped>\n",
       "    .dataframe tbody tr th:only-of-type {\n",
       "        vertical-align: middle;\n",
       "    }\n",
       "\n",
       "    .dataframe tbody tr th {\n",
       "        vertical-align: top;\n",
       "    }\n",
       "\n",
       "    .dataframe thead th {\n",
       "        text-align: right;\n",
       "    }\n",
       "</style>\n",
       "<table border=\"1\" class=\"dataframe\">\n",
       "  <thead>\n",
       "    <tr style=\"text-align: right;\">\n",
       "      <th></th>\n",
       "      <th>script_id</th>\n",
       "      <th>imdb_character_name</th>\n",
       "      <th>words</th>\n",
       "      <th>gender</th>\n",
       "      <th>age</th>\n",
       "    </tr>\n",
       "  </thead>\n",
       "  <tbody>\n",
       "    <tr>\n",
       "      <th>0</th>\n",
       "      <td>280</td>\n",
       "      <td>betty</td>\n",
       "      <td>311</td>\n",
       "      <td>f</td>\n",
       "      <td>35.0</td>\n",
       "    </tr>\n",
       "    <tr>\n",
       "      <th>1</th>\n",
       "      <td>280</td>\n",
       "      <td>carolyn johnson</td>\n",
       "      <td>873</td>\n",
       "      <td>f</td>\n",
       "      <td>NaN</td>\n",
       "    </tr>\n",
       "    <tr>\n",
       "      <th>2</th>\n",
       "      <td>280</td>\n",
       "      <td>eleanor</td>\n",
       "      <td>138</td>\n",
       "      <td>f</td>\n",
       "      <td>NaN</td>\n",
       "    </tr>\n",
       "    <tr>\n",
       "      <th>3</th>\n",
       "      <td>280</td>\n",
       "      <td>francesca johns</td>\n",
       "      <td>2251</td>\n",
       "      <td>f</td>\n",
       "      <td>46.0</td>\n",
       "    </tr>\n",
       "    <tr>\n",
       "      <th>4</th>\n",
       "      <td>280</td>\n",
       "      <td>madge</td>\n",
       "      <td>190</td>\n",
       "      <td>f</td>\n",
       "      <td>46.0</td>\n",
       "    </tr>\n",
       "  </tbody>\n",
       "</table>\n",
       "</div>"
      ],
      "text/plain": [
       "   script_id imdb_character_name  words gender   age\n",
       "0        280               betty    311      f  35.0\n",
       "1        280     carolyn johnson    873      f   NaN\n",
       "2        280             eleanor    138      f   NaN\n",
       "3        280     francesca johns   2251      f  46.0\n",
       "4        280               madge    190      f  46.0"
      ]
     },
     "execution_count": 3,
     "metadata": {},
     "output_type": "execute_result"
    }
   ],
   "source": [
    "characters = pd.read_csv('character_list5.csv', encoding = 'latin1')  # note encoding\n",
    "characters.head()"
   ]
  },
  {
   "cell_type": "markdown",
   "id": "filled-tiffany",
   "metadata": {},
   "source": [
    "There are some interesting questions about \"coding rules\" here. \"Age\" really means the age of the actor who was portraying a character; it's not necessarily the fictive age of the character, which may not be specidied. What about nonbinary characters? Do, e.g. the minions in _Despicable Me_ have a gender? For that matter, are they speaking \"words\"? \n",
    "\n",
    "These are legitimate questions, but don't directly concern us in this notebook. For one thing, we're not really assuming that this data set is a representative sample of all film. It has selection biases (e.g., it relies on digitized scripts), and we would need to investigate those biases before we could confidently affirm that generalizations about this data reflect the real history of film, even in North America. But we don't need to affirm that. Our goal here is not to make claims about film history. It's just to practice inferential statistics with pandas. \n",
    "\n",
    "If you wonder how much this does reflect the real world, you can consult [the project's FAQ page,](https://medium.com/@matthew_daniels/faq-for-the-film-dialogue-by-gender-project-40078209f751) where Daniels bravely faces \"death from a thousand nitpicks.\"\n",
    "\n",
    "We've looked at a table of characters. There's also a second table of films. This has a row for each movie (```script_id```) and lists titles, along with release year and gross, in inflation-adjusted millions of dollars."
   ]
  },
  {
   "cell_type": "code",
   "execution_count": 4,
   "id": "mediterranean-exception",
   "metadata": {},
   "outputs": [
    {
     "data": {
      "text/html": [
       "<div>\n",
       "<style scoped>\n",
       "    .dataframe tbody tr th:only-of-type {\n",
       "        vertical-align: middle;\n",
       "    }\n",
       "\n",
       "    .dataframe tbody tr th {\n",
       "        vertical-align: top;\n",
       "    }\n",
       "\n",
       "    .dataframe thead th {\n",
       "        text-align: right;\n",
       "    }\n",
       "</style>\n",
       "<table border=\"1\" class=\"dataframe\">\n",
       "  <thead>\n",
       "    <tr style=\"text-align: right;\">\n",
       "      <th></th>\n",
       "      <th>script_id</th>\n",
       "      <th>imdb_id</th>\n",
       "      <th>title</th>\n",
       "      <th>year</th>\n",
       "      <th>gross</th>\n",
       "      <th>lines_data</th>\n",
       "    </tr>\n",
       "  </thead>\n",
       "  <tbody>\n",
       "    <tr>\n",
       "      <th>0</th>\n",
       "      <td>1534</td>\n",
       "      <td>tt1022603</td>\n",
       "      <td>(500) Days of Summer</td>\n",
       "      <td>2009</td>\n",
       "      <td>37.0</td>\n",
       "      <td>7435445256774774443342577775657744434444564456...</td>\n",
       "    </tr>\n",
       "    <tr>\n",
       "      <th>1</th>\n",
       "      <td>1512</td>\n",
       "      <td>tt0147800</td>\n",
       "      <td>10 Things I Hate About You</td>\n",
       "      <td>1999</td>\n",
       "      <td>65.0</td>\n",
       "      <td>1777752320274533344457777722433777334443764677...</td>\n",
       "    </tr>\n",
       "    <tr>\n",
       "      <th>2</th>\n",
       "      <td>1514</td>\n",
       "      <td>tt0417385</td>\n",
       "      <td>12 and Holding</td>\n",
       "      <td>2005</td>\n",
       "      <td>NaN</td>\n",
       "      <td>5461357777754212454544441367774433446547647753...</td>\n",
       "    </tr>\n",
       "    <tr>\n",
       "      <th>3</th>\n",
       "      <td>1517</td>\n",
       "      <td>tt2024544</td>\n",
       "      <td>12 Years a Slave</td>\n",
       "      <td>2013</td>\n",
       "      <td>60.0</td>\n",
       "      <td>4567334777777777777777447777756477777444777777...</td>\n",
       "    </tr>\n",
       "    <tr>\n",
       "      <th>4</th>\n",
       "      <td>1520</td>\n",
       "      <td>tt1542344</td>\n",
       "      <td>127 Hours</td>\n",
       "      <td>2010</td>\n",
       "      <td>20.0</td>\n",
       "      <td>453513352345765766777777773340</td>\n",
       "    </tr>\n",
       "  </tbody>\n",
       "</table>\n",
       "</div>"
      ],
      "text/plain": [
       "   script_id    imdb_id                       title  year  gross  \\\n",
       "0       1534  tt1022603        (500) Days of Summer  2009   37.0   \n",
       "1       1512  tt0147800  10 Things I Hate About You  1999   65.0   \n",
       "2       1514  tt0417385              12 and Holding  2005    NaN   \n",
       "3       1517  tt2024544            12 Years a Slave  2013   60.0   \n",
       "4       1520  tt1542344                   127 Hours  2010   20.0   \n",
       "\n",
       "                                          lines_data  \n",
       "0  7435445256774774443342577775657744434444564456...  \n",
       "1  1777752320274533344457777722433777334443764677...  \n",
       "2  5461357777754212454544441367774433446547647753...  \n",
       "3  4567334777777777777777447777756477777444777777...  \n",
       "4                     453513352345765766777777773340  "
      ]
     },
     "execution_count": 4,
     "metadata": {},
     "output_type": "execute_result"
    }
   ],
   "source": [
    "movies = pd.read_csv('meta_data7.csv', encoding = 'latin1')\n",
    "movies.head()"
   ]
  },
  {
   "cell_type": "markdown",
   "id": "turned-milton",
   "metadata": {},
   "source": [
    "Ignore ```lines_data```; it's an idiosyncratic way to represent changing gender proportions across script time.\n",
    "\n",
    "### Selecting subsets of a data frame\n",
    "\n",
    "Part of this was covered in Melanie Walsh's introduction to Pandas, but let's review quickly, and go a little further. I encourage you to change the string values in the following code, and experiment with selecting different films.\n",
    "\n",
    "First, let's select a column."
   ]
  },
  {
   "cell_type": "code",
   "execution_count": 5,
   "id": "recreational-disability",
   "metadata": {},
   "outputs": [
    {
     "data": {
      "text/plain": [
       "0             (500) Days of Summer\n",
       "1       10 Things I Hate About You\n",
       "2                   12 and Holding\n",
       "3                 12 Years a Slave\n",
       "4                        127 Hours\n",
       "                   ...            \n",
       "1995               Youth in Revolt\n",
       "1996              Zero Dark Thirty\n",
       "1997                   Zero Effect\n",
       "1998                    Zerophilia\n",
       "1999                        Zodiac\n",
       "Name: title, Length: 2000, dtype: object"
      ]
     },
     "execution_count": 5,
     "metadata": {},
     "output_type": "execute_result"
    }
   ],
   "source": [
    "movies['title']"
   ]
  },
  {
   "cell_type": "markdown",
   "id": "placed-gossip",
   "metadata": {},
   "source": [
    "Now select rows, using the 'filter' technique that Walsh demonstrates."
   ]
  },
  {
   "cell_type": "code",
   "execution_count": 6,
   "id": "metric-spirit",
   "metadata": {},
   "outputs": [
    {
     "data": {
      "text/html": [
       "<div>\n",
       "<style scoped>\n",
       "    .dataframe tbody tr th:only-of-type {\n",
       "        vertical-align: middle;\n",
       "    }\n",
       "\n",
       "    .dataframe tbody tr th {\n",
       "        vertical-align: top;\n",
       "    }\n",
       "\n",
       "    .dataframe thead th {\n",
       "        text-align: right;\n",
       "    }\n",
       "</style>\n",
       "<table border=\"1\" class=\"dataframe\">\n",
       "  <thead>\n",
       "    <tr style=\"text-align: right;\">\n",
       "      <th></th>\n",
       "      <th>script_id</th>\n",
       "      <th>imdb_id</th>\n",
       "      <th>title</th>\n",
       "      <th>year</th>\n",
       "      <th>gross</th>\n",
       "      <th>lines_data</th>\n",
       "    </tr>\n",
       "  </thead>\n",
       "  <tbody>\n",
       "    <tr>\n",
       "      <th>1690</th>\n",
       "      <td>1141</td>\n",
       "      <td>tt0133093</td>\n",
       "      <td>The Matrix</td>\n",
       "      <td>1999</td>\n",
       "      <td>292.0</td>\n",
       "      <td>1446543347777767751307777767756677777767777777...</td>\n",
       "    </tr>\n",
       "  </tbody>\n",
       "</table>\n",
       "</div>"
      ],
      "text/plain": [
       "      script_id    imdb_id       title  year  gross  \\\n",
       "1690       1141  tt0133093  The Matrix  1999  292.0   \n",
       "\n",
       "                                             lines_data  \n",
       "1690  1446543347777767751307777767756677777767777777...  "
      ]
     },
     "execution_count": 6,
     "metadata": {},
     "output_type": "execute_result"
    }
   ],
   "source": [
    "matrix_title_filter = movies['title'] == 'The Matrix'\n",
    "movies[matrix_title_filter]"
   ]
  },
  {
   "cell_type": "markdown",
   "id": "random-adrian",
   "metadata": {},
   "source": [
    "Now we that we have the script_id for \"The Matrix,\" we can select characters from that movie."
   ]
  },
  {
   "cell_type": "code",
   "execution_count": 7,
   "id": "reduced-territory",
   "metadata": {},
   "outputs": [
    {
     "data": {
      "text/html": [
       "<div>\n",
       "<style scoped>\n",
       "    .dataframe tbody tr th:only-of-type {\n",
       "        vertical-align: middle;\n",
       "    }\n",
       "\n",
       "    .dataframe tbody tr th {\n",
       "        vertical-align: top;\n",
       "    }\n",
       "\n",
       "    .dataframe thead th {\n",
       "        text-align: right;\n",
       "    }\n",
       "</style>\n",
       "<table border=\"1\" class=\"dataframe\">\n",
       "  <thead>\n",
       "    <tr style=\"text-align: right;\">\n",
       "      <th></th>\n",
       "      <th>script_id</th>\n",
       "      <th>imdb_character_name</th>\n",
       "      <th>words</th>\n",
       "      <th>gender</th>\n",
       "      <th>age</th>\n",
       "    </tr>\n",
       "  </thead>\n",
       "  <tbody>\n",
       "    <tr>\n",
       "      <th>2095</th>\n",
       "      <td>1141</td>\n",
       "      <td>agent smith</td>\n",
       "      <td>976</td>\n",
       "      <td>m</td>\n",
       "      <td>39.0</td>\n",
       "    </tr>\n",
       "    <tr>\n",
       "      <th>2096</th>\n",
       "      <td>1141</td>\n",
       "      <td>morpheus</td>\n",
       "      <td>2123</td>\n",
       "      <td>m</td>\n",
       "      <td>38.0</td>\n",
       "    </tr>\n",
       "    <tr>\n",
       "      <th>2097</th>\n",
       "      <td>1141</td>\n",
       "      <td>neo</td>\n",
       "      <td>995</td>\n",
       "      <td>m</td>\n",
       "      <td>35.0</td>\n",
       "    </tr>\n",
       "    <tr>\n",
       "      <th>2098</th>\n",
       "      <td>1141</td>\n",
       "      <td>oracle</td>\n",
       "      <td>208</td>\n",
       "      <td>f</td>\n",
       "      <td>66.0</td>\n",
       "    </tr>\n",
       "    <tr>\n",
       "      <th>2099</th>\n",
       "      <td>1141</td>\n",
       "      <td>tank</td>\n",
       "      <td>535</td>\n",
       "      <td>m</td>\n",
       "      <td>32.0</td>\n",
       "    </tr>\n",
       "    <tr>\n",
       "      <th>2100</th>\n",
       "      <td>1141</td>\n",
       "      <td>trinity</td>\n",
       "      <td>876</td>\n",
       "      <td>f</td>\n",
       "      <td>32.0</td>\n",
       "    </tr>\n",
       "  </tbody>\n",
       "</table>\n",
       "</div>"
      ],
      "text/plain": [
       "      script_id imdb_character_name  words gender   age\n",
       "2095       1141         agent smith    976      m  39.0\n",
       "2096       1141            morpheus   2123      m  38.0\n",
       "2097       1141                 neo    995      m  35.0\n",
       "2098       1141              oracle    208      f  66.0\n",
       "2099       1141                tank    535      m  32.0\n",
       "2100       1141             trinity    876      f  32.0"
      ]
     },
     "execution_count": 7,
     "metadata": {},
     "output_type": "execute_result"
    }
   ],
   "source": [
    "matrix_character_filter = characters['script_id'] == 1141\n",
    "characters[matrix_character_filter]"
   ]
  },
  {
   "cell_type": "markdown",
   "id": "brief-ordinance",
   "metadata": {},
   "source": [
    "Here's a one-line syntax for that filtering technique, which allows you to select rows and columns at the same time."
   ]
  },
  {
   "cell_type": "code",
   "execution_count": 8,
   "id": "generous-compact",
   "metadata": {},
   "outputs": [
    {
     "data": {
      "text/html": [
       "<div>\n",
       "<style scoped>\n",
       "    .dataframe tbody tr th:only-of-type {\n",
       "        vertical-align: middle;\n",
       "    }\n",
       "\n",
       "    .dataframe tbody tr th {\n",
       "        vertical-align: top;\n",
       "    }\n",
       "\n",
       "    .dataframe thead th {\n",
       "        text-align: right;\n",
       "    }\n",
       "</style>\n",
       "<table border=\"1\" class=\"dataframe\">\n",
       "  <thead>\n",
       "    <tr style=\"text-align: right;\">\n",
       "      <th></th>\n",
       "      <th>imdb_character_name</th>\n",
       "      <th>gender</th>\n",
       "      <th>words</th>\n",
       "    </tr>\n",
       "  </thead>\n",
       "  <tbody>\n",
       "    <tr>\n",
       "      <th>2095</th>\n",
       "      <td>agent smith</td>\n",
       "      <td>m</td>\n",
       "      <td>976</td>\n",
       "    </tr>\n",
       "    <tr>\n",
       "      <th>2096</th>\n",
       "      <td>morpheus</td>\n",
       "      <td>m</td>\n",
       "      <td>2123</td>\n",
       "    </tr>\n",
       "    <tr>\n",
       "      <th>2097</th>\n",
       "      <td>neo</td>\n",
       "      <td>m</td>\n",
       "      <td>995</td>\n",
       "    </tr>\n",
       "    <tr>\n",
       "      <th>2098</th>\n",
       "      <td>oracle</td>\n",
       "      <td>f</td>\n",
       "      <td>208</td>\n",
       "    </tr>\n",
       "    <tr>\n",
       "      <th>2099</th>\n",
       "      <td>tank</td>\n",
       "      <td>m</td>\n",
       "      <td>535</td>\n",
       "    </tr>\n",
       "    <tr>\n",
       "      <th>2100</th>\n",
       "      <td>trinity</td>\n",
       "      <td>f</td>\n",
       "      <td>876</td>\n",
       "    </tr>\n",
       "  </tbody>\n",
       "</table>\n",
       "</div>"
      ],
      "text/plain": [
       "     imdb_character_name gender  words\n",
       "2095         agent smith      m    976\n",
       "2096            morpheus      m   2123\n",
       "2097                 neo      m    995\n",
       "2098              oracle      f    208\n",
       "2099                tank      m    535\n",
       "2100             trinity      f    876"
      ]
     },
     "execution_count": 8,
     "metadata": {},
     "output_type": "execute_result"
    }
   ],
   "source": [
    "characters.loc[characters['script_id'] == 1141, ['imdb_character_name', 'gender', 'words']]"
   ]
  },
  {
   "cell_type": "markdown",
   "id": "divine-comedy",
   "metadata": {},
   "source": [
    "### Simple descriptive statistics and dataviz\n",
    "\n",
    "So, from Melanie Walsh's Introduction to Pandas, we already know how to generate simple descriptive statistics. For instance,"
   ]
  },
  {
   "cell_type": "code",
   "execution_count": 9,
   "id": "soviet-diving",
   "metadata": {},
   "outputs": [
    {
     "data": {
      "text/plain": [
       "count    18263.000000\n",
       "mean        42.382960\n",
       "std         59.718859\n",
       "min          3.000000\n",
       "25%         30.000000\n",
       "50%         39.000000\n",
       "75%         50.000000\n",
       "max       2013.000000\n",
       "Name: age, dtype: float64"
      ]
     },
     "execution_count": 9,
     "metadata": {},
     "output_type": "execute_result"
    }
   ],
   "source": [
    "characters['age'].describe()"
   ]
  },
  {
   "cell_type": "markdown",
   "id": "parliamentary-frank",
   "metadata": {},
   "source": [
    "Tells us that there's some character in the data with an age of 2013. Whether a vampire or a data error I leave it to the reader to determine."
   ]
  },
  {
   "cell_type": "markdown",
   "id": "hungarian-anger",
   "metadata": {},
   "source": [
    "We can also identify the number of men and women in the dataset as a whole:"
   ]
  },
  {
   "cell_type": "code",
   "execution_count": 10,
   "id": "chicken-webmaster",
   "metadata": {},
   "outputs": [
    {
     "data": {
      "text/plain": [
       "m    16132\n",
       "f     6911\n",
       "?        5\n",
       "Name: gender, dtype: int64"
      ]
     },
     "execution_count": 10,
     "metadata": {},
     "output_type": "execute_result"
    }
   ],
   "source": [
    "characters['gender'].value_counts()"
   ]
  },
  {
   "cell_type": "code",
   "execution_count": 11,
   "id": "official-projection",
   "metadata": {},
   "outputs": [
    {
     "data": {
      "text/plain": [
       "<AxesSubplot:title={'center':'Gender proportions'}>"
      ]
     },
     "execution_count": 11,
     "metadata": {},
     "output_type": "execute_result"
    },
    {
     "data": {
      "image/png": "[encoded data removed]",
      "text/plain": [
       "<Figure size 432x288 with 1 Axes>"
      ]
     },
     "metadata": {
      "needs_background": "light"
     },
     "output_type": "display_data"
    }
   ],
   "source": [
    "characters['gender'].value_counts().plot(kind='bar', title='Gender proportions')"
   ]
  },
  {
   "cell_type": "markdown",
   "id": "creative-transcription",
   "metadata": {},
   "source": [
    "### Descriptive statistics for age\n",
    "\n",
    "How are the ages of men and women different in this dataset. To start with we need to be able to select a list of the ages of all men or all women."
   ]
  },
  {
   "cell_type": "code",
   "execution_count": 12,
   "id": "forty-event",
   "metadata": {},
   "outputs": [
    {
     "data": {
      "text/plain": [
       "0    35.0\n",
       "1     NaN\n",
       "2     NaN\n",
       "3    46.0\n",
       "4    46.0\n",
       "Name: age, dtype: float64"
      ]
     },
     "execution_count": 12,
     "metadata": {},
     "output_type": "execute_result"
    }
   ],
   "source": [
    "characters.loc[(characters['gender'] == 'f'), 'age'].head()"
   ]
  },
  {
   "cell_type": "markdown",
   "id": "concrete-petroleum",
   "metadata": {},
   "source": [
    "If I introduce you to the function ```hist()```, which produces histograms, we can now compare the age distributions for men and for women.\n",
    "\n",
    "It may be instructive to play around with some of the code here. For instance, what happens if you take the 'age < 90' condition out? Why? What happens if you change the number of bins?"
   ]
  },
  {
   "cell_type": "code",
   "execution_count": 13,
   "id": "developing-basics",
   "metadata": {},
   "outputs": [
    {
     "data": {
      "image/png": "[encoded data removed]",
      "text/plain": [
       "<Figure size 432x288 with 1 Axes>"
      ]
     },
     "metadata": {
      "needs_background": "light"
     },
     "output_type": "display_data"
    }
   ],
   "source": [
    "characters.loc[(characters['gender'] == 'm') & (characters['age'] < 90), 'age'].hist(bins = 25)\n",
    "plt.title('Age distribution for men on film')\n",
    "plt.show()"
   ]
  },
  {
   "cell_type": "code",
   "execution_count": 14,
   "id": "italian-handy",
   "metadata": {},
   "outputs": [
    {
     "data": {
      "image/png": "[encoded data removed]",
      "text/plain": [
       "<Figure size 432x288 with 1 Axes>"
      ]
     },
     "metadata": {
      "needs_background": "light"
     },
     "output_type": "display_data"
    }
   ],
   "source": [
    "characters.loc[(characters['gender'] == 'f') & (characters['age'] < 90), 'age'].hist(bins = 25)\n",
    "plt.title('Age distribution for women on film')\n",
    "plt.show()"
   ]
  },
  {
   "cell_type": "markdown",
   "id": "strange-shame",
   "metadata": {},
   "source": [
    "### Inferential statistics: how to test a difference of means\n",
    "\n",
    "Those distributions look a little different visually, but seem to be centered *roughly* in the same place (roughly, our thirties or early forties). Are they significantly different, or could the differences be explained by chance? One simple way to pose this question is to ask how likely it is that these two samples came from populations with the same age distribution. Or to put it a little more narrowly: how likely is it that they came from populations with the same mean age?\n",
    "\n",
    "The Python for this test is very simple: it's called a \"t test,\" and we could do it in one line of code. But I don't want to just rehearse a formula here; I'd like to review the mental model we're applying when we perform a statistical test of this kind.\n",
    "\n",
    "H<sub>0</sub> (null hypothesis): the mean age for male characters (in the whole population) is the same as for women.\n",
    "\n",
    "H<sub>A</sub> (alternative hypothesis): the mean age for women is different than for men.\n",
    "\n",
    "We can already guess that \"different\" here is likely to mean \"female characters are younger on average,\" but since I didn't formulate a specific directional hypothesis before inspecting the data I'm going to be conservative and make this a \"two-tailed\" test, which means that we're going to consider the probability that random sampling variation would produce a difference of means equal to the observed one in *either* direction. We'll be unable to dismiss the null hypothesis if that probability is .05 or higher.\n",
    "\n",
    "So first of all, what actually is the size of the difference between sample means?"
   ]
  },
  {
   "cell_type": "code",
   "execution_count": 15,
   "id": "excited-worry",
   "metadata": {},
   "outputs": [
    {
     "data": {
      "text/plain": [
       "count    12749.000000\n",
       "mean        42.661464\n",
       "std         14.067040\n",
       "min          3.000000\n",
       "25%         33.000000\n",
       "50%         42.000000\n",
       "75%         52.000000\n",
       "max         89.000000\n",
       "Name: age, dtype: float64"
      ]
     },
     "execution_count": 15,
     "metadata": {},
     "output_type": "execute_result"
    }
   ],
   "source": [
    "characters.loc[(characters['gender'] == 'm') & (characters['age'] < 90), 'age'].describe()"
   ]
  },
  {
   "cell_type": "code",
   "execution_count": 16,
   "id": "intimate-glasgow",
   "metadata": {},
   "outputs": [
    {
     "data": {
      "text/plain": [
       "count    5491.000000\n",
       "mean       35.971044\n",
       "std        13.825996\n",
       "min         4.000000\n",
       "25%        26.000000\n",
       "50%        33.000000\n",
       "75%        43.000000\n",
       "max        88.000000\n",
       "Name: age, dtype: float64"
      ]
     },
     "execution_count": 16,
     "metadata": {},
     "output_type": "execute_result"
    }
   ],
   "source": [
    "characters.loc[(characters['gender'] == 'f') & (characters['age'] < 90), 'age'].describe()"
   ]
  },
  {
   "cell_type": "markdown",
   "id": "collaborative-renewal",
   "metadata": {},
   "source": [
    "The difference between 42.66 and 35.97 is approximately 6.7 years.\n",
    "\n",
    "How often would that difference occur by chance, if both samples were drawn from a population with the same age distribution? We could use statistical formulas here, but to give you an intuitive sense of what's actually happening, let's simulate the *sampling distribution* of the mean ages we would get if gender made no difference in age. In that case our our \"ages of men\" and \"ages of women\" would simply be two random samples drawn from the same underlying population, \"ages of all characters.\" There would still be some difference in their means. How often would that difference be equal to or larger than 6.7 years?\n",
    "\n",
    "Of course, we can't really sample all characters in film. We don't have a list of all characters! But it turns out that you can get a very good simulation of sampling variation in a population by randomly *resampling* an existing sample. \n",
    "\n",
    "There are a variety of ways to do the resampling; here we're going to do a \"permutation test.\" We'll combine the ages of all characters into a single pool. "
   ]
  },
  {
   "cell_type": "code",
   "execution_count": 17,
   "id": "parental-science",
   "metadata": {},
   "outputs": [],
   "source": [
    "mensages = characters.loc[(characters['gender'] == 'm') & (characters['age'] < 90), 'age']\n",
    "womensages = characters.loc[(characters['gender'] == 'f') & (characters['age'] < 90), 'age']\n",
    "charactersages = mensages.append(womensages)  # Note that we're appending Series rather than lists\n",
    "                                              # If these were regular lists, you'd need to \"extend\" instead."
   ]
  },
  {
   "cell_type": "markdown",
   "id": "intense-gardening",
   "metadata": {},
   "source": [
    "Now we can simulate what would happen if the ages of men and women were drawn from the same distribution. We'll reshuffle the pool ten thousand times. Each time, we'll divide it into two random groups (since in this simulation, gender makes no difference to age distribution). We'll call the first 5491 ages \"women\" and the next 12,749 \"men.\" Finally, we'll take the difference of means between the two groups, and keep track of all the differences we get. Ten thousand of them! How would they be distributed?"
   ]
  },
  {
   "cell_type": "code",
   "execution_count": 18,
   "id": "cooked-jimmy",
   "metadata": {},
   "outputs": [
    {
     "data": {
      "text/plain": [
       "[<matplotlib.lines.Line2D at 0x7fd4a97d3a50>]"
      ]
     },
     "execution_count": 18,
     "metadata": {},
     "output_type": "execute_result"
    },
    {
     "data": {
      "image/png": "[encoded data removed]",
      "text/plain": [
       "<Figure size 432x288 with 1 Axes>"
      ]
     },
     "metadata": {
      "needs_background": "light"
     },
     "output_type": "display_data"
    }
   ],
   "source": [
    "tenthousanddiffs = []\n",
    "\n",
    "for i in range(10000):\n",
    "    thissample = charactersages.sample(frac = 1.0, replace = False)  # frac = 1.0 just says \"a sample of equal length\"\n",
    "                                                                     # i.e., reshuffle the list\n",
    "    women = thissample[0: 5491]\n",
    "    men = thissample[5491: ]\n",
    "    diff = men.mean() - women.mean()\n",
    "    tenthousanddiffs.append(diff)\n",
    "    \n",
    "tenthousanddiffs = pd.Series(tenthousanddiffs) # To use the .hist() plotting method\n",
    "                                               # we need to turn this list into a pandas\n",
    "                                               # object, like a single column of a data frame.\n",
    "                                               # This is called a Series.\n",
    "tenthousanddiffs.hist(bins = 50)\n",
    "plt.plot([-0.5, -0.5], [0, 650], 'red')\n",
    "plt.plot([0.5, 0.5], [0, 650], 'red')"
   ]
  },
  {
   "cell_type": "markdown",
   "id": "laughing-justice",
   "metadata": {},
   "source": [
    "This is the range of differences we would get through random sampling variation. \n",
    "\n",
    "We can ask how often the absolute difference of samples is greater than any value. For instance, how often would we randomly get differences of half a year or more between the mean ages of the two groups? We can find out by looking at the two \"tails\" of the above distribution, above 0.5  and below -0.5. How many samples are we talking about?"
   ]
  },
  {
   "cell_type": "code",
   "execution_count": 19,
   "id": "computational-prompt",
   "metadata": {},
   "outputs": [
    {
     "name": "stdout",
     "output_type": "stream",
     "text": [
      "That happens  306 times, for a probability of  0.0306\n"
     ]
    }
   ],
   "source": [
    "tailcount = sum(abs(tenthousanddiffs) > .5)\n",
    "print(\"That happens \", tailcount, \"times, for a probability of \", tailcount / 10000)"
   ]
  },
  {
   "cell_type": "markdown",
   "id": "everyday-package",
   "metadata": {},
   "source": [
    "What about the actual difference we observed?"
   ]
  },
  {
   "cell_type": "code",
   "execution_count": 20,
   "id": "technological-feelings",
   "metadata": {},
   "outputs": [
    {
     "name": "stdout",
     "output_type": "stream",
     "text": [
      "The observed difference of means was 6.690420118437949\n",
      "That happens  0 times, for a probability of  0.0\n"
     ]
    }
   ],
   "source": [
    "observeddiff = mensages.mean() - womensages.mean()\n",
    "print(\"The observed difference of means was\", observeddiff)\n",
    "\n",
    "tailcount = sum(abs(tenthousanddiffs) > observeddiff)\n",
    "print(\"That happens \", tailcount, \"times, for a probability of \", tailcount / 10000)"
   ]
  },
  {
   "cell_type": "markdown",
   "id": "saved-lithuania",
   "metadata": {},
   "source": [
    "In short, it's *very* unlikely that we could get two samples like this from the same population.\n",
    "\n",
    "Here's a shortcut way of doing the same calculation. (There are technically some differences here, because the formula used in a t test assumes that the distribution of ages is *roughly* shaped like a bell curve. The permutation test we performed is actually a little more flexible. But it's a small difference in this case, because fictional ages are close enough to a bell curve.)"
   ]
  },
  {
   "cell_type": "code",
   "execution_count": 21,
   "id": "requested-ministry",
   "metadata": {},
   "outputs": [
    {
     "data": {
      "text/plain": [
       "Ttest_indResult(statistic=29.616545264882166, pvalue=2.5708626216627163e-188)"
      ]
     },
     "execution_count": 21,
     "metadata": {},
     "output_type": "execute_result"
    }
   ],
   "source": [
    "from scipy.stats import ttest_ind\n",
    "ttest_ind(mensages, womensages)"
   ]
  },
  {
   "cell_type": "markdown",
   "id": "figured-liquid",
   "metadata": {},
   "source": [
    "The ```pvalue``` there is estimating the probability of getting a difference this extreme if there were in reality no difference between the population means. Again, it's a very low probability. The exponent is -188!"
   ]
  },
  {
   "cell_type": "markdown",
   "id": "white-american",
   "metadata": {},
   "source": [
    "### Grouping and summarizing data\n",
    "\n",
    "You can see above that men outnumber women on film. The amount of dialogue assigned to the two groups is also unequal. In part that's simply because there are more men.\n",
    "\n",
    "But it's even more unequal than we would expect from the sheer number of men and women. The *average* amount of dialogue is also unequal."
   ]
  },
  {
   "cell_type": "code",
   "execution_count": 22,
   "id": "another-poverty",
   "metadata": {},
   "outputs": [
    {
     "data": {
      "text/html": [
       "<div>\n",
       "<style scoped>\n",
       "    .dataframe tbody tr th:only-of-type {\n",
       "        vertical-align: middle;\n",
       "    }\n",
       "\n",
       "    .dataframe tbody tr th {\n",
       "        vertical-align: top;\n",
       "    }\n",
       "\n",
       "    .dataframe thead th {\n",
       "        text-align: right;\n",
       "    }\n",
       "</style>\n",
       "<table border=\"1\" class=\"dataframe\">\n",
       "  <thead>\n",
       "    <tr style=\"text-align: right;\">\n",
       "      <th></th>\n",
       "      <th>gender</th>\n",
       "      <th>words</th>\n",
       "    </tr>\n",
       "  </thead>\n",
       "  <tbody>\n",
       "    <tr>\n",
       "      <th>0</th>\n",
       "      <td>?</td>\n",
       "      <td>281.400000</td>\n",
       "    </tr>\n",
       "    <tr>\n",
       "      <th>1</th>\n",
       "      <td>f</td>\n",
       "      <td>850.478513</td>\n",
       "    </tr>\n",
       "    <tr>\n",
       "      <th>2</th>\n",
       "      <td>m</td>\n",
       "      <td>932.652988</td>\n",
       "    </tr>\n",
       "  </tbody>\n",
       "</table>\n",
       "</div>"
      ],
      "text/plain": [
       "  gender       words\n",
       "0      ?  281.400000\n",
       "1      f  850.478513\n",
       "2      m  932.652988"
      ]
     },
     "execution_count": 22,
     "metadata": {},
     "output_type": "execute_result"
    }
   ],
   "source": [
    "characters.groupby('gender', as_index = False)['words'].mean()"
   ]
  },
  {
   "cell_type": "markdown",
   "id": "young-tokyo",
   "metadata": {},
   "source": [
    "Women speak on average 850 words per film in this dataset; men 933.\n",
    "\n",
    "Notice how we used the ```.groupby()``` function to figure this out. It divides a Pandas dataframe into subframes based on the value of the column we pass in as a parameter. Once we've done that we can select a column ```['words']``` in all of those subframes, and calculate the mean value of the column.\n",
    "\n",
    "By the way, how often would we see a difference as big as 850 and 933 if volubility were in fact equally distributed?"
   ]
  },
  {
   "cell_type": "code",
   "execution_count": 23,
   "id": "gothic-husband",
   "metadata": {},
   "outputs": [],
   "source": [
    "# Try writing a few lines of pandas code here that use a t_test \n",
    "# to test the significance of the difference between sample means.\n",
    "# You'll need to start by constructing an expression that gives you a list\n",
    "# of the number of words spoken by all women, or all men -- just as we did with age.\n",
    "\n",
    "# Note: if you're writing more than three lines of code here, you're writing\n",
    "# more than you need."
   ]
  },
  {
   "cell_type": "markdown",
   "id": "peripheral-theory",
   "metadata": {},
   "source": [
    "### Our mission in class on Monday\n",
    "\n",
    "In class on Monday, we're going to use the ```.groupby()``` function to divide the ```characters``` data frame by film (```script_id```). Then we'll create a new dataframe where each row is a film, and a new column reports the proportion of feminine dialogue in each film.\n",
    "\n",
    "Finally we'll pair that dataframe with the ```movies``` dataframe, so we also have the release date for each film. Then we'll ask whether there's been any trend toward gender equality over time. Does the release date of a film correlate positively with the proportion of dialogue spoken by women?\n",
    "\n",
    "Here's a first step in the process, summing the words spoken by all characters in a film:"
   ]
  },
  {
   "cell_type": "code",
   "execution_count": 24,
   "id": "pressing-snake",
   "metadata": {},
   "outputs": [
    {
     "data": {
      "text/html": [
       "<div>\n",
       "<style scoped>\n",
       "    .dataframe tbody tr th:only-of-type {\n",
       "        vertical-align: middle;\n",
       "    }\n",
       "\n",
       "    .dataframe tbody tr th {\n",
       "        vertical-align: top;\n",
       "    }\n",
       "\n",
       "    .dataframe thead th {\n",
       "        text-align: right;\n",
       "    }\n",
       "</style>\n",
       "<table border=\"1\" class=\"dataframe\">\n",
       "  <thead>\n",
       "    <tr style=\"text-align: right;\">\n",
       "      <th></th>\n",
       "      <th>script_id</th>\n",
       "      <th>gender</th>\n",
       "      <th>words</th>\n",
       "    </tr>\n",
       "  </thead>\n",
       "  <tbody>\n",
       "    <tr>\n",
       "      <th>0</th>\n",
       "      <td>280</td>\n",
       "      <td>f</td>\n",
       "      <td>3763</td>\n",
       "    </tr>\n",
       "    <tr>\n",
       "      <th>1</th>\n",
       "      <td>280</td>\n",
       "      <td>m</td>\n",
       "      <td>2631</td>\n",
       "    </tr>\n",
       "    <tr>\n",
       "      <th>2</th>\n",
       "      <td>623</td>\n",
       "      <td>f</td>\n",
       "      <td>1524</td>\n",
       "    </tr>\n",
       "    <tr>\n",
       "      <th>3</th>\n",
       "      <td>623</td>\n",
       "      <td>m</td>\n",
       "      <td>7584</td>\n",
       "    </tr>\n",
       "    <tr>\n",
       "      <th>4</th>\n",
       "      <td>625</td>\n",
       "      <td>f</td>\n",
       "      <td>155</td>\n",
       "    </tr>\n",
       "  </tbody>\n",
       "</table>\n",
       "</div>"
      ],
      "text/plain": [
       "   script_id gender  words\n",
       "0        280      f   3763\n",
       "1        280      m   2631\n",
       "2        623      f   1524\n",
       "3        623      m   7584\n",
       "4        625      f    155"
      ]
     },
     "execution_count": 24,
     "metadata": {},
     "output_type": "execute_result"
    }
   ],
   "source": [
    "groupedbyscriptandgender = characters.groupby(['script_id', 'gender'], as_index = False)['words'].sum()\n",
    "groupedbyscriptandgender.head()"
   ]
  },
  {
   "cell_type": "markdown",
   "id": "neural-township",
   "metadata": {},
   "source": [
    "### Going from a summary by script-and-gender to a percentage of dialogue by women\n",
    "\n",
    "We used .groupby() to add up all the words spoken by men and by women for each film.\n",
    "\n",
    "Now we want to turn that into a percentage of words by women, which is a bit more complicated, because it involves a complex operation on two rows at once. We can't easily do that in a single line, and will need to write a loop.\n",
    "\n",
    "To make sure you can understand how the loop works, let's start by exploring the output of the .groupby() function."
   ]
  },
  {
   "cell_type": "code",
   "execution_count": 25,
   "id": "proud-sport",
   "metadata": {},
   "outputs": [],
   "source": [
    "groupedbyscript = groupedbyscriptandgender.groupby('script_id')"
   ]
  },
  {
   "cell_type": "code",
   "execution_count": 26,
   "id": "colored-belief",
   "metadata": {},
   "outputs": [
    {
     "name": "stdout",
     "output_type": "stream",
     "text": [
      "280\n",
      "   script_id gender  words\n",
      "0        280      f   3763\n",
      "1        280      m   2631\n",
      "623\n",
      "   script_id gender  words\n",
      "2        623      f   1524\n",
      "3        623      m   7584\n",
      "625\n",
      "   script_id gender  words\n",
      "4        625      f    155\n",
      "5        625      m   4246\n",
      "630\n",
      "   script_id gender  words\n",
      "6        630      f   1073\n",
      "7        630      m   9059\n"
     ]
    }
   ],
   "source": [
    "ctr = 0\n",
    "for a, b in groupedbyscript:\n",
    "    ctr += 1\n",
    "    print(a)\n",
    "    print(b)\n",
    "    if ctr > 3:\n",
    "        break"
   ]
  },
  {
   "cell_type": "markdown",
   "id": "individual-style",
   "metadata": {},
   "source": [
    "You'll notice that groupby returns an iterator across pairs, where the first element in each pair is the label from the column that did the grouping—e.g. ```script_id``` 280--and the second element is a sub-dataframe representing the grouped rows.\n",
    "\n",
    "### Now a loop that turns each of these separate dataframes into a line in a new dataframe\n",
    "\n",
    "Our strategy for creating a new dataframe is to build two lists that will become the columns. Since they're built in parallel, one step at a time, they will align when we're done."
   ]
  },
  {
   "cell_type": "code",
   "execution_count": 27,
   "id": "static-namibia",
   "metadata": {},
   "outputs": [
    {
     "data": {
      "text/html": [
       "<div>\n",
       "<style scoped>\n",
       "    .dataframe tbody tr th:only-of-type {\n",
       "        vertical-align: middle;\n",
       "    }\n",
       "\n",
       "    .dataframe tbody tr th {\n",
       "        vertical-align: top;\n",
       "    }\n",
       "\n",
       "    .dataframe thead th {\n",
       "        text-align: right;\n",
       "    }\n",
       "</style>\n",
       "<table border=\"1\" class=\"dataframe\">\n",
       "  <thead>\n",
       "    <tr style=\"text-align: right;\">\n",
       "      <th></th>\n",
       "      <th>script_id</th>\n",
       "      <th>spokenbywomen</th>\n",
       "    </tr>\n",
       "  </thead>\n",
       "  <tbody>\n",
       "    <tr>\n",
       "      <th>0</th>\n",
       "      <td>280</td>\n",
       "      <td>0.588520</td>\n",
       "    </tr>\n",
       "    <tr>\n",
       "      <th>1</th>\n",
       "      <td>623</td>\n",
       "      <td>0.167325</td>\n",
       "    </tr>\n",
       "    <tr>\n",
       "      <th>2</th>\n",
       "      <td>625</td>\n",
       "      <td>0.035219</td>\n",
       "    </tr>\n",
       "    <tr>\n",
       "      <th>3</th>\n",
       "      <td>630</td>\n",
       "      <td>0.105902</td>\n",
       "    </tr>\n",
       "    <tr>\n",
       "      <th>4</th>\n",
       "      <td>633</td>\n",
       "      <td>0.095913</td>\n",
       "    </tr>\n",
       "  </tbody>\n",
       "</table>\n",
       "</div>"
      ],
      "text/plain": [
       "   script_id  spokenbywomen\n",
       "0        280       0.588520\n",
       "1        623       0.167325\n",
       "2        625       0.035219\n",
       "3        630       0.105902\n",
       "4        633       0.095913"
      ]
     },
     "execution_count": 27,
     "metadata": {},
     "output_type": "execute_result"
    }
   ],
   "source": [
    "script_ids = []\n",
    "gender_ratios = []\n",
    "\n",
    "for script_id, df in groupedbyscriptandgender.groupby('script_id'):\n",
    "    total_words = df['words'].sum()\n",
    "    \n",
    "    if total_words < 1:\n",
    "        continue     # a pretty weird script with zero total words; we can skip it\n",
    "    else:\n",
    "        womens_words = df.loc[df['gender'] == 'f', 'words']\n",
    "        \n",
    "        if len(womens_words) < 1:\n",
    "            womens_words = 0\n",
    "        else:\n",
    "            womens_words = int(womens_words)\n",
    "        \n",
    "        ratio = womens_words / total_words   # now we have the ratio\n",
    "        \n",
    "        script_ids.append(script_id)   # append to the first list\n",
    "        gender_ratios.append(ratio)   # and the second\n",
    "\n",
    "ratio_df = pd.DataFrame({'script_id': script_ids, 'spokenbywomen': gender_ratios})\n",
    "# that line turns our two columns into a data frame\n",
    "\n",
    "ratio_df.head()"
   ]
  },
  {
   "cell_type": "markdown",
   "id": "wrong-washer",
   "metadata": {},
   "source": [
    "### To get release year in this data, we need to join it with the movies dataframe\n",
    "\n",
    "We can't analyze historical trends in the percentage of dialogue spoken by women unless we can pair each movie's percentage with its release year. This requires adding data contained in the movies dataframe.\n",
    "\n",
    "The next cell just refreshes that dataframe, by reading it from file again, in case we've changed it in some way above."
   ]
  },
  {
   "cell_type": "code",
   "execution_count": 28,
   "id": "intelligent-appraisal",
   "metadata": {},
   "outputs": [
    {
     "data": {
      "text/html": [
       "<div>\n",
       "<style scoped>\n",
       "    .dataframe tbody tr th:only-of-type {\n",
       "        vertical-align: middle;\n",
       "    }\n",
       "\n",
       "    .dataframe tbody tr th {\n",
       "        vertical-align: top;\n",
       "    }\n",
       "\n",
       "    .dataframe thead th {\n",
       "        text-align: right;\n",
       "    }\n",
       "</style>\n",
       "<table border=\"1\" class=\"dataframe\">\n",
       "  <thead>\n",
       "    <tr style=\"text-align: right;\">\n",
       "      <th></th>\n",
       "      <th>script_id</th>\n",
       "      <th>imdb_id</th>\n",
       "      <th>title</th>\n",
       "      <th>year</th>\n",
       "      <th>gross</th>\n",
       "      <th>lines_data</th>\n",
       "    </tr>\n",
       "  </thead>\n",
       "  <tbody>\n",
       "    <tr>\n",
       "      <th>0</th>\n",
       "      <td>1534</td>\n",
       "      <td>tt1022603</td>\n",
       "      <td>(500) Days of Summer</td>\n",
       "      <td>2009</td>\n",
       "      <td>37.0</td>\n",
       "      <td>7435445256774774443342577775657744434444564456...</td>\n",
       "    </tr>\n",
       "    <tr>\n",
       "      <th>1</th>\n",
       "      <td>1512</td>\n",
       "      <td>tt0147800</td>\n",
       "      <td>10 Things I Hate About You</td>\n",
       "      <td>1999</td>\n",
       "      <td>65.0</td>\n",
       "      <td>1777752320274533344457777722433777334443764677...</td>\n",
       "    </tr>\n",
       "    <tr>\n",
       "      <th>2</th>\n",
       "      <td>1514</td>\n",
       "      <td>tt0417385</td>\n",
       "      <td>12 and Holding</td>\n",
       "      <td>2005</td>\n",
       "      <td>NaN</td>\n",
       "      <td>5461357777754212454544441367774433446547647753...</td>\n",
       "    </tr>\n",
       "    <tr>\n",
       "      <th>3</th>\n",
       "      <td>1517</td>\n",
       "      <td>tt2024544</td>\n",
       "      <td>12 Years a Slave</td>\n",
       "      <td>2013</td>\n",
       "      <td>60.0</td>\n",
       "      <td>4567334777777777777777447777756477777444777777...</td>\n",
       "    </tr>\n",
       "    <tr>\n",
       "      <th>4</th>\n",
       "      <td>1520</td>\n",
       "      <td>tt1542344</td>\n",
       "      <td>127 Hours</td>\n",
       "      <td>2010</td>\n",
       "      <td>20.0</td>\n",
       "      <td>453513352345765766777777773340</td>\n",
       "    </tr>\n",
       "  </tbody>\n",
       "</table>\n",
       "</div>"
      ],
      "text/plain": [
       "   script_id    imdb_id                       title  year  gross  \\\n",
       "0       1534  tt1022603        (500) Days of Summer  2009   37.0   \n",
       "1       1512  tt0147800  10 Things I Hate About You  1999   65.0   \n",
       "2       1514  tt0417385              12 and Holding  2005    NaN   \n",
       "3       1517  tt2024544            12 Years a Slave  2013   60.0   \n",
       "4       1520  tt1542344                   127 Hours  2010   20.0   \n",
       "\n",
       "                                          lines_data  \n",
       "0  7435445256774774443342577775657744434444564456...  \n",
       "1  1777752320274533344457777722433777334443764677...  \n",
       "2  5461357777754212454544441367774433446547647753...  \n",
       "3  4567334777777777777777447777756477777444777777...  \n",
       "4                     453513352345765766777777773340  "
      ]
     },
     "execution_count": 28,
     "metadata": {},
     "output_type": "execute_result"
    }
   ],
   "source": [
    "movies = pd.read_csv('meta_data7.csv', encoding = 'latin1')\n",
    "movies.head()"
   ]
  },
  {
   "cell_type": "markdown",
   "id": "danish-recognition",
   "metadata": {},
   "source": [
    "In order to do a \"join\" on two dataframes, the one on the \"right\" has to have an *index* that aligns with a *column* in the one on the left. For a fuller understanding of the logic of joins, check out [the syntax of the .join() method](https://pandas.pydata.org/pandas-docs/stable/reference/api/pandas.DataFrame.join.html) or [this blog post](https://towardsdatascience.com/pandas-join-vs-merge-c365fd4fbf49) if you need a fuller account.\n",
    "\n",
    "In any case, we're going to make ```script_id``` the index of ```movies.```"
   ]
  },
  {
   "cell_type": "code",
   "execution_count": 29,
   "id": "congressional-accident",
   "metadata": {},
   "outputs": [],
   "source": [
    "movies = movies.set_index('script_id')"
   ]
  },
  {
   "cell_type": "code",
   "execution_count": 30,
   "id": "pleasant-voluntary",
   "metadata": {},
   "outputs": [
    {
     "data": {
      "text/html": [
       "<div>\n",
       "<style scoped>\n",
       "    .dataframe tbody tr th:only-of-type {\n",
       "        vertical-align: middle;\n",
       "    }\n",
       "\n",
       "    .dataframe tbody tr th {\n",
       "        vertical-align: top;\n",
       "    }\n",
       "\n",
       "    .dataframe thead th {\n",
       "        text-align: right;\n",
       "    }\n",
       "</style>\n",
       "<table border=\"1\" class=\"dataframe\">\n",
       "  <thead>\n",
       "    <tr style=\"text-align: right;\">\n",
       "      <th></th>\n",
       "      <th>imdb_id</th>\n",
       "      <th>title</th>\n",
       "      <th>year</th>\n",
       "      <th>gross</th>\n",
       "      <th>lines_data</th>\n",
       "    </tr>\n",
       "    <tr>\n",
       "      <th>script_id</th>\n",
       "      <th></th>\n",
       "      <th></th>\n",
       "      <th></th>\n",
       "      <th></th>\n",
       "      <th></th>\n",
       "    </tr>\n",
       "  </thead>\n",
       "  <tbody>\n",
       "    <tr>\n",
       "      <th>1534</th>\n",
       "      <td>tt1022603</td>\n",
       "      <td>(500) Days of Summer</td>\n",
       "      <td>2009</td>\n",
       "      <td>37.0</td>\n",
       "      <td>7435445256774774443342577775657744434444564456...</td>\n",
       "    </tr>\n",
       "    <tr>\n",
       "      <th>1512</th>\n",
       "      <td>tt0147800</td>\n",
       "      <td>10 Things I Hate About You</td>\n",
       "      <td>1999</td>\n",
       "      <td>65.0</td>\n",
       "      <td>1777752320274533344457777722433777334443764677...</td>\n",
       "    </tr>\n",
       "    <tr>\n",
       "      <th>1514</th>\n",
       "      <td>tt0417385</td>\n",
       "      <td>12 and Holding</td>\n",
       "      <td>2005</td>\n",
       "      <td>NaN</td>\n",
       "      <td>5461357777754212454544441367774433446547647753...</td>\n",
       "    </tr>\n",
       "    <tr>\n",
       "      <th>1517</th>\n",
       "      <td>tt2024544</td>\n",
       "      <td>12 Years a Slave</td>\n",
       "      <td>2013</td>\n",
       "      <td>60.0</td>\n",
       "      <td>4567334777777777777777447777756477777444777777...</td>\n",
       "    </tr>\n",
       "    <tr>\n",
       "      <th>1520</th>\n",
       "      <td>tt1542344</td>\n",
       "      <td>127 Hours</td>\n",
       "      <td>2010</td>\n",
       "      <td>20.0</td>\n",
       "      <td>453513352345765766777777773340</td>\n",
       "    </tr>\n",
       "  </tbody>\n",
       "</table>\n",
       "</div>"
      ],
      "text/plain": [
       "             imdb_id                       title  year  gross  \\\n",
       "script_id                                                       \n",
       "1534       tt1022603        (500) Days of Summer  2009   37.0   \n",
       "1512       tt0147800  10 Things I Hate About You  1999   65.0   \n",
       "1514       tt0417385              12 and Holding  2005    NaN   \n",
       "1517       tt2024544            12 Years a Slave  2013   60.0   \n",
       "1520       tt1542344                   127 Hours  2010   20.0   \n",
       "\n",
       "                                                  lines_data  \n",
       "script_id                                                     \n",
       "1534       7435445256774774443342577775657744434444564456...  \n",
       "1512       1777752320274533344457777722433777334443764677...  \n",
       "1514       5461357777754212454544441367774433446547647753...  \n",
       "1517       4567334777777777777777447777756477777444777777...  \n",
       "1520                          453513352345765766777777773340  "
      ]
     },
     "execution_count": 30,
     "metadata": {},
     "output_type": "execute_result"
    }
   ],
   "source": [
    "movies.head()"
   ]
  },
  {
   "cell_type": "code",
   "execution_count": 36,
   "id": "thousand-marsh",
   "metadata": {},
   "outputs": [
    {
     "data": {
      "text/html": [
       "<div>\n",
       "<style scoped>\n",
       "    .dataframe tbody tr th:only-of-type {\n",
       "        vertical-align: middle;\n",
       "    }\n",
       "\n",
       "    .dataframe tbody tr th {\n",
       "        vertical-align: top;\n",
       "    }\n",
       "\n",
       "    .dataframe thead th {\n",
       "        text-align: right;\n",
       "    }\n",
       "</style>\n",
       "<table border=\"1\" class=\"dataframe\">\n",
       "  <thead>\n",
       "    <tr style=\"text-align: right;\">\n",
       "      <th></th>\n",
       "      <th>script_id</th>\n",
       "      <th>spokenbywomen</th>\n",
       "      <th>imdb_id</th>\n",
       "      <th>title</th>\n",
       "      <th>year</th>\n",
       "      <th>gross</th>\n",
       "    </tr>\n",
       "  </thead>\n",
       "  <tbody>\n",
       "    <tr>\n",
       "      <th>0</th>\n",
       "      <td>280</td>\n",
       "      <td>0.588520</td>\n",
       "      <td>tt0112579</td>\n",
       "      <td>The Bridges of Madison County</td>\n",
       "      <td>1995</td>\n",
       "      <td>142.0</td>\n",
       "    </tr>\n",
       "    <tr>\n",
       "      <th>1</th>\n",
       "      <td>623</td>\n",
       "      <td>0.167325</td>\n",
       "      <td>tt0179626</td>\n",
       "      <td>15 Minutes</td>\n",
       "      <td>2001</td>\n",
       "      <td>37.0</td>\n",
       "    </tr>\n",
       "    <tr>\n",
       "      <th>2</th>\n",
       "      <td>625</td>\n",
       "      <td>0.035219</td>\n",
       "      <td>tt0062622</td>\n",
       "      <td>2001: A Space Odyssey</td>\n",
       "      <td>1968</td>\n",
       "      <td>376.0</td>\n",
       "    </tr>\n",
       "    <tr>\n",
       "      <th>3</th>\n",
       "      <td>630</td>\n",
       "      <td>0.105902</td>\n",
       "      <td>tt0307901</td>\n",
       "      <td>25th Hour</td>\n",
       "      <td>2002</td>\n",
       "      <td>19.0</td>\n",
       "    </tr>\n",
       "    <tr>\n",
       "      <th>4</th>\n",
       "      <td>633</td>\n",
       "      <td>0.095913</td>\n",
       "      <td>tt1019452</td>\n",
       "      <td>A Serious Man</td>\n",
       "      <td>2009</td>\n",
       "      <td>10.0</td>\n",
       "    </tr>\n",
       "  </tbody>\n",
       "</table>\n",
       "</div>"
      ],
      "text/plain": [
       "   script_id  spokenbywomen    imdb_id                          title  year  \\\n",
       "0        280       0.588520  tt0112579  The Bridges of Madison County  1995   \n",
       "1        623       0.167325  tt0179626                     15 Minutes  2001   \n",
       "2        625       0.035219  tt0062622          2001: A Space Odyssey  1968   \n",
       "3        630       0.105902  tt0307901                      25th Hour  2002   \n",
       "4        633       0.095913  tt1019452                  A Serious Man  2009   \n",
       "\n",
       "   gross  \n",
       "0  142.0  \n",
       "1   37.0  \n",
       "2  376.0  \n",
       "3   19.0  \n",
       "4   10.0  "
      ]
     },
     "execution_count": 36,
     "metadata": {},
     "output_type": "execute_result"
    }
   ],
   "source": [
    "movies.drop('lines_data', axis = 1, inplace = True)\n",
    "movie_ratios = ratio_df.join(movies, on = 'script_id', how = 'left')\n",
    "movie_ratios.head()"
   ]
  },
  {
   "cell_type": "code",
   "execution_count": 37,
   "id": "saving-static",
   "metadata": {},
   "outputs": [
    {
     "data": {
      "text/html": [
       "<div>\n",
       "<style scoped>\n",
       "    .dataframe tbody tr th:only-of-type {\n",
       "        vertical-align: middle;\n",
       "    }\n",
       "\n",
       "    .dataframe tbody tr th {\n",
       "        vertical-align: top;\n",
       "    }\n",
       "\n",
       "    .dataframe thead th {\n",
       "        text-align: right;\n",
       "    }\n",
       "</style>\n",
       "<table border=\"1\" class=\"dataframe\">\n",
       "  <thead>\n",
       "    <tr style=\"text-align: right;\">\n",
       "      <th></th>\n",
       "      <th>script_id</th>\n",
       "      <th>spokenbywomen</th>\n",
       "      <th>imdb_id</th>\n",
       "      <th>title</th>\n",
       "      <th>year</th>\n",
       "      <th>gross</th>\n",
       "    </tr>\n",
       "  </thead>\n",
       "  <tbody>\n",
       "    <tr>\n",
       "      <th>1161</th>\n",
       "      <td>4723</td>\n",
       "      <td>1.000000</td>\n",
       "      <td>tt0114011</td>\n",
       "      <td>Now and Then</td>\n",
       "      <td>1995</td>\n",
       "      <td>54.0</td>\n",
       "    </tr>\n",
       "    <tr>\n",
       "      <th>1699</th>\n",
       "      <td>7695</td>\n",
       "      <td>1.000000</td>\n",
       "      <td>tt0435625</td>\n",
       "      <td>The Descent</td>\n",
       "      <td>2005</td>\n",
       "      <td>35.0</td>\n",
       "    </tr>\n",
       "    <tr>\n",
       "      <th>765</th>\n",
       "      <td>3124</td>\n",
       "      <td>0.993541</td>\n",
       "      <td>tt0929632</td>\n",
       "      <td>Precious</td>\n",
       "      <td>2009</td>\n",
       "      <td>55.0</td>\n",
       "    </tr>\n",
       "    <tr>\n",
       "      <th>1912</th>\n",
       "      <td>8614</td>\n",
       "      <td>0.965550</td>\n",
       "      <td>tt1663655</td>\n",
       "      <td>Martyrs</td>\n",
       "      <td>2015</td>\n",
       "      <td>NaN</td>\n",
       "    </tr>\n",
       "    <tr>\n",
       "      <th>1877</th>\n",
       "      <td>8480</td>\n",
       "      <td>0.933750</td>\n",
       "      <td>tt0104389</td>\n",
       "      <td>The Hand That Rocks the Cradle</td>\n",
       "      <td>1992</td>\n",
       "      <td>184.0</td>\n",
       "    </tr>\n",
       "    <tr>\n",
       "      <th>...</th>\n",
       "      <td>...</td>\n",
       "      <td>...</td>\n",
       "      <td>...</td>\n",
       "      <td>...</td>\n",
       "      <td>...</td>\n",
       "      <td>...</td>\n",
       "    </tr>\n",
       "    <tr>\n",
       "      <th>1868</th>\n",
       "      <td>8423</td>\n",
       "      <td>0.000000</td>\n",
       "      <td>tt0089537</td>\n",
       "      <td>Mala Noche</td>\n",
       "      <td>1986</td>\n",
       "      <td>NaN</td>\n",
       "    </tr>\n",
       "    <tr>\n",
       "      <th>1649</th>\n",
       "      <td>7440</td>\n",
       "      <td>0.000000</td>\n",
       "      <td>tt0112740</td>\n",
       "      <td>Crimson Tide</td>\n",
       "      <td>1995</td>\n",
       "      <td>182.0</td>\n",
       "    </tr>\n",
       "    <tr>\n",
       "      <th>984</th>\n",
       "      <td>4038</td>\n",
       "      <td>0.000000</td>\n",
       "      <td>tt0068408</td>\n",
       "      <td>Conquest of the Planet of the Apes</td>\n",
       "      <td>1972</td>\n",
       "      <td>NaN</td>\n",
       "    </tr>\n",
       "    <tr>\n",
       "      <th>1839</th>\n",
       "      <td>8257</td>\n",
       "      <td>0.000000</td>\n",
       "      <td>tt1663202</td>\n",
       "      <td>The Revenant</td>\n",
       "      <td>2015</td>\n",
       "      <td>147.0</td>\n",
       "    </tr>\n",
       "    <tr>\n",
       "      <th>1439</th>\n",
       "      <td>6196</td>\n",
       "      <td>0.000000</td>\n",
       "      <td>tt0120860</td>\n",
       "      <td>From Dusk Till Dawn 2: Texas Blood Money</td>\n",
       "      <td>1999</td>\n",
       "      <td>NaN</td>\n",
       "    </tr>\n",
       "  </tbody>\n",
       "</table>\n",
       "<p>2000 rows × 6 columns</p>\n",
       "</div>"
      ],
      "text/plain": [
       "      script_id  spokenbywomen    imdb_id  \\\n",
       "1161       4723       1.000000  tt0114011   \n",
       "1699       7695       1.000000  tt0435625   \n",
       "765        3124       0.993541  tt0929632   \n",
       "1912       8614       0.965550  tt1663655   \n",
       "1877       8480       0.933750  tt0104389   \n",
       "...         ...            ...        ...   \n",
       "1868       8423       0.000000  tt0089537   \n",
       "1649       7440       0.000000  tt0112740   \n",
       "984        4038       0.000000  tt0068408   \n",
       "1839       8257       0.000000  tt1663202   \n",
       "1439       6196       0.000000  tt0120860   \n",
       "\n",
       "                                         title  year  gross  \n",
       "1161                              Now and Then  1995   54.0  \n",
       "1699                               The Descent  2005   35.0  \n",
       "765                                   Precious  2009   55.0  \n",
       "1912                                   Martyrs  2015    NaN  \n",
       "1877            The Hand That Rocks the Cradle  1992  184.0  \n",
       "...                                        ...   ...    ...  \n",
       "1868                                Mala Noche  1986    NaN  \n",
       "1649                              Crimson Tide  1995  182.0  \n",
       "984         Conquest of the Planet of the Apes  1972    NaN  \n",
       "1839                              The Revenant  2015  147.0  \n",
       "1439  From Dusk Till Dawn 2: Texas Blood Money  1999    NaN  \n",
       "\n",
       "[2000 rows x 6 columns]"
      ]
     },
     "execution_count": 37,
     "metadata": {},
     "output_type": "execute_result"
    }
   ],
   "source": [
    "movie_ratios.sort_values(by = 'spokenbywomen', ascending = False)"
   ]
  },
  {
   "cell_type": "markdown",
   "id": "latter-farming",
   "metadata": {},
   "source": [
    "### Visualization\n",
    "\n",
    "I'll explain this more next week."
   ]
  },
  {
   "cell_type": "code",
   "execution_count": 33,
   "id": "municipal-explosion",
   "metadata": {},
   "outputs": [
    {
     "data": {
      "text/plain": [
       "<AxesSubplot:xlabel='year', ylabel='spokenbywomen'>"
      ]
     },
     "execution_count": 33,
     "metadata": {},
     "output_type": "execute_result"
    },
    {
     "data": {
      "image/png": "[encoded data removed]",
      "text/plain": [
       "<Figure size 432x288 with 1 Axes>"
      ]
     },
     "metadata": {
      "needs_background": "light"
     },
     "output_type": "display_data"
    }
   ],
   "source": [
    "movie_ratios.plot('year', 'spokenbywomen', kind = 'scatter')"
   ]
  },
  {
   "cell_type": "code",
   "execution_count": 38,
   "id": "disturbed-hayes",
   "metadata": {},
   "outputs": [
    {
     "data": {
      "text/plain": [
       "(0.09170051837762483, 4.007207430817736e-05)"
      ]
     },
     "execution_count": 38,
     "metadata": {},
     "output_type": "execute_result"
    }
   ],
   "source": [
    "from scipy.stats import pearsonr\n",
    "import numpy as np\n",
    "\n",
    "pearsonr(movie_ratios['year'], movie_ratios['spokenbywomen'])"
   ]
  },
  {
   "cell_type": "code",
   "execution_count": 39,
   "id": "unsigned-equation",
   "metadata": {},
   "outputs": [
    {
     "data": {
      "text/plain": [
       "(-0.10251800480225916, 2.8228185448613996e-05)"
      ]
     },
     "execution_count": 39,
     "metadata": {},
     "output_type": "execute_result"
    }
   ],
   "source": [
    "pearsonr(movie_ratios['gross'][~np.isnan(movie_ratios['gross'])], \n",
    "                               movie_ratios['spokenbywomen'][~np.isnan(movie_ratios['gross'])])"
   ]
  },
  {
   "cell_type": "code",
   "execution_count": 41,
   "id": "atlantic-brief",
   "metadata": {},
   "outputs": [
    {
     "data": {
      "text/plain": [
       "(-0.2683465910462182, 8.332923515748268e-29)"
      ]
     },
     "execution_count": 41,
     "metadata": {},
     "output_type": "execute_result"
    }
   ],
   "source": [
    "pearsonr(movie_ratios['gross'][~np.isnan(movie_ratios['gross'])], \n",
    "                               movie_ratios['year'][~np.isnan(movie_ratios['gross'])])"
   ]
  },
  {
   "cell_type": "code",
   "execution_count": 40,
   "id": "listed-updating",
   "metadata": {},
   "outputs": [
    {
     "data": {
      "text/plain": [
       "[<matplotlib.lines.Line2D at 0x7fd49855c8d0>]"
      ]
     },
     "execution_count": 40,
     "metadata": {},
     "output_type": "execute_result"
    },
    {
     "data": {
      "image/png": "[encoded data removed]",
      "text/plain": [
       "<Figure size 432x288 with 1 Axes>"
      ]
     },
     "metadata": {
      "needs_background": "light"
     },
     "output_type": "display_data"
    }
   ],
   "source": [
    "movie_ratios.plot('year', 'spokenbywomen', kind = 'scatter')\n",
    "x = movie_ratios['year']\n",
    "y = movie_ratios['spokenbywomen']\n",
    "plt.plot(np.unique(x), np.poly1d(np.polyfit(x, y, 1))(np.unique(x)), color = 'r')"
   ]
  },
  {
   "cell_type": "code",
   "execution_count": 42,
   "id": "ongoing-purpose",
   "metadata": {},
   "outputs": [
    {
     "data": {
      "text/plain": [
       "<AxesSubplot:xlabel='year', ylabel='spokenbywomen'>"
      ]
     },
     "execution_count": 42,
     "metadata": {},
     "output_type": "execute_result"
    },
    {
     "data": {
      "image/png": "[encoded data removed]",
      "text/plain": [
       "<Figure size 432x288 with 1 Axes>"
      ]
     },
     "metadata": {
      "needs_background": "light"
     },
     "output_type": "display_data"
    }
   ],
   "source": [
    "import seaborn as sns\n",
    "sns.regplot(x = movie_ratios['year'], y = movie_ratios['spokenbywomen'])"
   ]
  },
  {
   "cell_type": "code",
   "execution_count": 43,
   "id": "apart-indonesian",
   "metadata": {},
   "outputs": [
    {
     "data": {
      "text/plain": [
       "<seaborn.axisgrid.JointGrid at 0x7fd4894a7ed0>"
      ]
     },
     "execution_count": 43,
     "metadata": {},
     "output_type": "execute_result"
    },
    {
     "data": {
      "image/png": "[encoded data removed]",
      "text/plain": [
       "<Figure size 432x432 with 3 Axes>"
      ]
     },
     "metadata": {
      "needs_background": "light"
     },
     "output_type": "display_data"
    }
   ],
   "source": [
    "sns.jointplot(x = movie_ratios['year'], y = movie_ratios['spokenbywomen'],\n",
    "              kind = 'reg', joint_kws={'line_kws':{'color':'red'}})"
   ]
  },
  {
   "cell_type": "code",
   "execution_count": 44,
   "id": "distinct-raise",
   "metadata": {},
   "outputs": [
    {
     "data": {
      "text/plain": [
       "<seaborn.axisgrid.JointGrid at 0x7fd478e2b410>"
      ]
     },
     "execution_count": 44,
     "metadata": {},
     "output_type": "execute_result"
    },
    {
     "data": {
      "image/png": "[encoded data removed]",
      "text/plain": [
       "<Figure size 432x432 with 3 Axes>"
      ]
     },
     "metadata": {
      "needs_background": "light"
     },
     "output_type": "display_data"
    }
   ],
   "source": [
    "filtered_ratios = movie_ratios.loc[~np.isnan(movie_ratios['gross']), : ]\n",
    "sns.jointplot(x = filtered_ratios['gross'], y = filtered_ratios['spokenbywomen'],\n",
    "              kind = 'reg', joint_kws={'line_kws':{'color':'red'}})"
   ]
  },
  {
   "cell_type": "code",
   "execution_count": 45,
   "id": "portuguese-medicine",
   "metadata": {},
   "outputs": [
    {
     "data": {
      "text/html": [
       "<table class=\"simpletable\">\n",
       "<caption>OLS Regression Results</caption>\n",
       "<tr>\n",
       "  <th>Dep. Variable:</th>      <td>spokenbywomen</td>  <th>  R-squared:         </th> <td>   0.013</td>\n",
       "</tr>\n",
       "<tr>\n",
       "  <th>Model:</th>                   <td>OLS</td>       <th>  Adj. R-squared:    </th> <td>   0.012</td>\n",
       "</tr>\n",
       "<tr>\n",
       "  <th>Method:</th>             <td>Least Squares</td>  <th>  F-statistic:       </th> <td>   11.03</td>\n",
       "</tr>\n",
       "<tr>\n",
       "  <th>Date:</th>             <td>Sun, 07 Feb 2021</td> <th>  Prob (F-statistic):</th> <td>1.75e-05</td>\n",
       "</tr>\n",
       "<tr>\n",
       "  <th>Time:</th>                 <td>21:35:57</td>     <th>  Log-Likelihood:    </th> <td>  357.23</td>\n",
       "</tr>\n",
       "<tr>\n",
       "  <th>No. Observations:</th>      <td>  1662</td>      <th>  AIC:               </th> <td>  -708.5</td>\n",
       "</tr>\n",
       "<tr>\n",
       "  <th>Df Residuals:</th>          <td>  1659</td>      <th>  BIC:               </th> <td>  -692.2</td>\n",
       "</tr>\n",
       "<tr>\n",
       "  <th>Df Model:</th>              <td>     2</td>      <th>                     </th>     <td> </td>   \n",
       "</tr>\n",
       "<tr>\n",
       "  <th>Covariance Type:</th>      <td>nonrobust</td>    <th>                     </th>     <td> </td>   \n",
       "</tr>\n",
       "</table>\n",
       "<table class=\"simpletable\">\n",
       "<tr>\n",
       "    <td></td>       <th>coef</th>     <th>std err</th>      <th>t</th>      <th>P>|t|</th>  <th>[0.025</th>    <th>0.975]</th>  \n",
       "</tr>\n",
       "<tr>\n",
       "  <th>const</th> <td>   -1.6909</td> <td>    0.949</td> <td>   -1.782</td> <td> 0.075</td> <td>   -3.552</td> <td>    0.170</td>\n",
       "</tr>\n",
       "<tr>\n",
       "  <th>gross</th> <td>   -0.0001</td> <td> 3.54e-05</td> <td>   -3.487</td> <td> 0.001</td> <td>   -0.000</td> <td> -5.4e-05</td>\n",
       "</tr>\n",
       "<tr>\n",
       "  <th>year</th>  <td>    0.0010</td> <td>    0.000</td> <td>    2.095</td> <td> 0.036</td> <td> 6.34e-05</td> <td>    0.002</td>\n",
       "</tr>\n",
       "</table>\n",
       "<table class=\"simpletable\">\n",
       "<tr>\n",
       "  <th>Omnibus:</th>       <td>194.602</td> <th>  Durbin-Watson:     </th> <td>   1.912</td>\n",
       "</tr>\n",
       "<tr>\n",
       "  <th>Prob(Omnibus):</th> <td> 0.000</td>  <th>  Jarque-Bera (JB):  </th> <td> 264.616</td>\n",
       "</tr>\n",
       "<tr>\n",
       "  <th>Skew:</th>          <td> 0.944</td>  <th>  Prob(JB):          </th> <td>3.46e-58</td>\n",
       "</tr>\n",
       "<tr>\n",
       "  <th>Kurtosis:</th>      <td> 3.508</td>  <th>  Cond. No.          </th> <td>3.97e+05</td>\n",
       "</tr>\n",
       "</table><br/><br/>Notes:<br/>[1] Standard Errors assume that the covariance matrix of the errors is correctly specified.<br/>[2] The condition number is large, 3.97e+05. This might indicate that there are<br/>strong multicollinearity or other numerical problems."
      ],
      "text/plain": [
       "<class 'statsmodels.iolib.summary.Summary'>\n",
       "\"\"\"\n",
       "                            OLS Regression Results                            \n",
       "==============================================================================\n",
       "Dep. Variable:          spokenbywomen   R-squared:                       0.013\n",
       "Model:                            OLS   Adj. R-squared:                  0.012\n",
       "Method:                 Least Squares   F-statistic:                     11.03\n",
       "Date:                Sun, 07 Feb 2021   Prob (F-statistic):           1.75e-05\n",
       "Time:                        21:35:57   Log-Likelihood:                 357.23\n",
       "No. Observations:                1662   AIC:                            -708.5\n",
       "Df Residuals:                    1659   BIC:                            -692.2\n",
       "Df Model:                           2                                         \n",
       "Covariance Type:            nonrobust                                         \n",
       "==============================================================================\n",
       "                 coef    std err          t      P>|t|      [0.025      0.975]\n",
       "------------------------------------------------------------------------------\n",
       "const         -1.6909      0.949     -1.782      0.075      -3.552       0.170\n",
       "gross         -0.0001   3.54e-05     -3.487      0.001      -0.000    -5.4e-05\n",
       "year           0.0010      0.000      2.095      0.036    6.34e-05       0.002\n",
       "==============================================================================\n",
       "Omnibus:                      194.602   Durbin-Watson:                   1.912\n",
       "Prob(Omnibus):                  0.000   Jarque-Bera (JB):              264.616\n",
       "Skew:                           0.944   Prob(JB):                     3.46e-58\n",
       "Kurtosis:                       3.508   Cond. No.                     3.97e+05\n",
       "==============================================================================\n",
       "\n",
       "Notes:\n",
       "[1] Standard Errors assume that the covariance matrix of the errors is correctly specified.\n",
       "[2] The condition number is large, 3.97e+05. This might indicate that there are\n",
       "strong multicollinearity or other numerical problems.\n",
       "\"\"\""
      ]
     },
     "execution_count": 45,
     "metadata": {},
     "output_type": "execute_result"
    }
   ],
   "source": [
    "import statsmodels.api as sm # import statsmodels \n",
    "X = filtered_ratios[[\"gross\", \"year\"]] ## X usually means our input variables (or independent variables)\n",
    "y = filtered_ratios[\"spokenbywomen\"] ## Y usually means our output/dependent variable\n",
    "X = sm.add_constant(X) ## let's add an intercept (beta_0) to our model\n",
    "\n",
    "# Note the difference in argument order\n",
    "model = sm.OLS(y, X).fit() ## sm.OLS(output, input)\n",
    "predictions = model.predict(X)\n",
    "\n",
    "# Print out the statistics\n",
    "model.summary()"
   ]
  },
  {
   "cell_type": "code",
   "execution_count": null,
   "id": "improving-tractor",
   "metadata": {},
   "outputs": [],
   "source": []
  }
 ],
 "metadata": {
  "kernelspec": {
   "display_name": "Python 3",
   "language": "python",
   "name": "python3"
  },
  "language_info": {
   "codemirror_mode": {
    "name": "ipython",
    "version": 3
   },
   "file_extension": ".py",
   "mimetype": "text/x-python",
   "name": "python",
   "nbconvert_exporter": "python",
   "pygments_lexer": "ipython3",
   "version": "3.7.6"
  }
 },
 "nbformat": 4,
 "nbformat_minor": 5
}
