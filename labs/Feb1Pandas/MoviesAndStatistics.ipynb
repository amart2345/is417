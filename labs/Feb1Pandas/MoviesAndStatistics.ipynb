{
 "cells": [
  {
   "cell_type": "markdown",
   "id": "harmful-astrology",
   "metadata": {},
   "source": [
    "# Movies and Statistics\n",
    "\n",
    "This notebook guides you through a real application of Pandas to study gender bias in film scripts. In particular we want to ask whether the fraction of dialogue spoken by women changes significantly over time.\n",
    "\n",
    "We'll do some \"data munging\" (reorganizing and summarizing the data) to produce a data frame that has all the information we need. Then we'll run some simple statistical tests.\n",
    "\n",
    "We're drawing our data from [this blog post by Hannah Anderson and Matt Daniels](https://pudding.cool/2017/03/film-dialogue/). It organizes data for about 2000 screenplays, and reveals a number of patterns with gorgeous dataviz, but doesn't directly answer the question we want to pose.\n",
    "\n",
    "However, the authors of the project also posted their data [on GitHub,](https://github.com/matthewfdaniels/scripts/) and I've placed it in this folder.\n",
    "\n",
    "We start by importing the modules we need. Because the word \"pandas\" is long if you have to type it a lot, it's conventionally imported *as* pd.\n",
    "\n",
    "I'm also going to import a basic graphics library (\"pyplot\") that I'll use to put some titles on graphs, draw a few lines on them, etc. I won't stress the dataviz aspect of this notebook, because in the long run there are more elegant ways to do dataviz in Python (e.g. with the seaborn library). For now I'm trying to rely mostly on Pandas itself, using simple pandas functions like ```.plot()``` and ```.hist()```."
   ]
  },
  {
   "cell_type": "code",
   "execution_count": 1,
   "id": "right-interstate",
   "metadata": {},
   "outputs": [],
   "source": [
    "import pandas as pd\n",
    "from matplotlib import pyplot as plt"
   ]
  },
  {
   "cell_type": "markdown",
   "id": "expired-pierre",
   "metadata": {},
   "source": [
    "### Meet your data\n",
    "\n",
    "The data, as made available by Anderson and Daniels, is in two separate tables. One table has a row for each *character,* and lists the character's gender, along with their age, and the number of words they speak in the movie.\n",
    "\n",
    "The first time I ran this it didn't work. I got a \"UnicodeDecodeError.\" That's usually a clue that the file has a different encoding. \"Utf-8\" is default, but this file was created using \"latin1,\" maybe in Excel."
   ]
  },
  {
   "cell_type": "code",
   "execution_count": 2,
   "id": "paperback-convert",
   "metadata": {},
   "outputs": [
    {
     "data": {
      "text/html": [
       "<div>\n",
       "<style scoped>\n",
       "    .dataframe tbody tr th:only-of-type {\n",
       "        vertical-align: middle;\n",
       "    }\n",
       "\n",
       "    .dataframe tbody tr th {\n",
       "        vertical-align: top;\n",
       "    }\n",
       "\n",
       "    .dataframe thead th {\n",
       "        text-align: right;\n",
       "    }\n",
       "</style>\n",
       "<table border=\"1\" class=\"dataframe\">\n",
       "  <thead>\n",
       "    <tr style=\"text-align: right;\">\n",
       "      <th></th>\n",
       "      <th>script_id</th>\n",
       "      <th>imdb_character_name</th>\n",
       "      <th>words</th>\n",
       "      <th>gender</th>\n",
       "      <th>age</th>\n",
       "    </tr>\n",
       "  </thead>\n",
       "  <tbody>\n",
       "    <tr>\n",
       "      <th>0</th>\n",
       "      <td>280</td>\n",
       "      <td>betty</td>\n",
       "      <td>311</td>\n",
       "      <td>f</td>\n",
       "      <td>35.0</td>\n",
       "    </tr>\n",
       "    <tr>\n",
       "      <th>1</th>\n",
       "      <td>280</td>\n",
       "      <td>carolyn johnson</td>\n",
       "      <td>873</td>\n",
       "      <td>f</td>\n",
       "      <td>NaN</td>\n",
       "    </tr>\n",
       "    <tr>\n",
       "      <th>2</th>\n",
       "      <td>280</td>\n",
       "      <td>eleanor</td>\n",
       "      <td>138</td>\n",
       "      <td>f</td>\n",
       "      <td>NaN</td>\n",
       "    </tr>\n",
       "    <tr>\n",
       "      <th>3</th>\n",
       "      <td>280</td>\n",
       "      <td>francesca johns</td>\n",
       "      <td>2251</td>\n",
       "      <td>f</td>\n",
       "      <td>46.0</td>\n",
       "    </tr>\n",
       "    <tr>\n",
       "      <th>4</th>\n",
       "      <td>280</td>\n",
       "      <td>madge</td>\n",
       "      <td>190</td>\n",
       "      <td>f</td>\n",
       "      <td>46.0</td>\n",
       "    </tr>\n",
       "  </tbody>\n",
       "</table>\n",
       "</div>"
      ],
      "text/plain": [
       "   script_id imdb_character_name  words gender   age\n",
       "0        280               betty    311      f  35.0\n",
       "1        280     carolyn johnson    873      f   NaN\n",
       "2        280             eleanor    138      f   NaN\n",
       "3        280     francesca johns   2251      f  46.0\n",
       "4        280               madge    190      f  46.0"
      ]
     },
     "execution_count": 2,
     "metadata": {},
     "output_type": "execute_result"
    }
   ],
   "source": [
    "characters = pd.read_csv('character_list5.csv', encoding = 'latin1')  # note encoding\n",
    "characters.head()"
   ]
  },
  {
   "cell_type": "markdown",
   "id": "listed-ghost",
   "metadata": {},
   "source": [
    "There are some interesting questions about \"coding rules\" here. How do we infer age, since it's rarely stated explicitly in a movie? What about nonbinary characters? Do, e.g. the minions in _Despicable Me_ have a gender? For that matter, are they speaking words? These are legitimate questions, but don't centrally concern us in this notebook. \n",
    "\n",
    "For one thing, we're not really assuming that this data set is a representative sample of all film. It has selection biases (e.g., it relies on digitized scripts), and we would need to investigate those biases before we could confidently affirm that generalizations about this data reflect the real world. But we don't need to affirm that. Our goal here is not to make claims about film history. It's just to practice inferential statistics with pandas. \n",
    "\n",
    "If you wonder how much this does reflect the real world, you can consult [the project's FAQ page,](https://medium.com/@matthew_daniels/faq-for-the-film-dialogue-by-gender-project-40078209f751) where Daniels bravely faces \"death from a thousand nitpicks.\"\n",
    "\n",
    "We've looked at a table of characters; there's also a second table of films. This has a row for each movie (```script_id```) and lists titles, along with release year and gross, in inflation-adjusted millions of dollars."
   ]
  },
  {
   "cell_type": "code",
   "execution_count": 3,
   "id": "unlikely-benjamin",
   "metadata": {},
   "outputs": [
    {
     "data": {
      "text/html": [
       "<div>\n",
       "<style scoped>\n",
       "    .dataframe tbody tr th:only-of-type {\n",
       "        vertical-align: middle;\n",
       "    }\n",
       "\n",
       "    .dataframe tbody tr th {\n",
       "        vertical-align: top;\n",
       "    }\n",
       "\n",
       "    .dataframe thead th {\n",
       "        text-align: right;\n",
       "    }\n",
       "</style>\n",
       "<table border=\"1\" class=\"dataframe\">\n",
       "  <thead>\n",
       "    <tr style=\"text-align: right;\">\n",
       "      <th></th>\n",
       "      <th>script_id</th>\n",
       "      <th>imdb_id</th>\n",
       "      <th>title</th>\n",
       "      <th>year</th>\n",
       "      <th>gross</th>\n",
       "      <th>lines_data</th>\n",
       "    </tr>\n",
       "  </thead>\n",
       "  <tbody>\n",
       "    <tr>\n",
       "      <th>0</th>\n",
       "      <td>1534</td>\n",
       "      <td>tt1022603</td>\n",
       "      <td>(500) Days of Summer</td>\n",
       "      <td>2009</td>\n",
       "      <td>37.0</td>\n",
       "      <td>7435445256774774443342577775657744434444564456...</td>\n",
       "    </tr>\n",
       "    <tr>\n",
       "      <th>1</th>\n",
       "      <td>1512</td>\n",
       "      <td>tt0147800</td>\n",
       "      <td>10 Things I Hate About You</td>\n",
       "      <td>1999</td>\n",
       "      <td>65.0</td>\n",
       "      <td>1777752320274533344457777722433777334443764677...</td>\n",
       "    </tr>\n",
       "    <tr>\n",
       "      <th>2</th>\n",
       "      <td>1514</td>\n",
       "      <td>tt0417385</td>\n",
       "      <td>12 and Holding</td>\n",
       "      <td>2005</td>\n",
       "      <td>NaN</td>\n",
       "      <td>5461357777754212454544441367774433446547647753...</td>\n",
       "    </tr>\n",
       "    <tr>\n",
       "      <th>3</th>\n",
       "      <td>1517</td>\n",
       "      <td>tt2024544</td>\n",
       "      <td>12 Years a Slave</td>\n",
       "      <td>2013</td>\n",
       "      <td>60.0</td>\n",
       "      <td>4567334777777777777777447777756477777444777777...</td>\n",
       "    </tr>\n",
       "    <tr>\n",
       "      <th>4</th>\n",
       "      <td>1520</td>\n",
       "      <td>tt1542344</td>\n",
       "      <td>127 Hours</td>\n",
       "      <td>2010</td>\n",
       "      <td>20.0</td>\n",
       "      <td>453513352345765766777777773340</td>\n",
       "    </tr>\n",
       "  </tbody>\n",
       "</table>\n",
       "</div>"
      ],
      "text/plain": [
       "   script_id    imdb_id                       title  year  gross  \\\n",
       "0       1534  tt1022603        (500) Days of Summer  2009   37.0   \n",
       "1       1512  tt0147800  10 Things I Hate About You  1999   65.0   \n",
       "2       1514  tt0417385              12 and Holding  2005    NaN   \n",
       "3       1517  tt2024544            12 Years a Slave  2013   60.0   \n",
       "4       1520  tt1542344                   127 Hours  2010   20.0   \n",
       "\n",
       "                                          lines_data  \n",
       "0  7435445256774774443342577775657744434444564456...  \n",
       "1  1777752320274533344457777722433777334443764677...  \n",
       "2  5461357777754212454544441367774433446547647753...  \n",
       "3  4567334777777777777777447777756477777444777777...  \n",
       "4                     453513352345765766777777773340  "
      ]
     },
     "execution_count": 3,
     "metadata": {},
     "output_type": "execute_result"
    }
   ],
   "source": [
    "movies = pd.read_csv('meta_data7.csv', encoding = 'latin1')\n",
    "movies.head()"
   ]
  },
  {
   "cell_type": "markdown",
   "id": "compatible-dynamics",
   "metadata": {},
   "source": [
    "Ignore ```lines_data```; it's an idiosyncratic way to represent changing gender proportions across script time.\n",
    "\n",
    "### Simple descriptive statistics and dataviz\n",
    "\n",
    "So, from Melanie Walsh's Introduction to Pandas, we already know how to do certain things. For instance,"
   ]
  },
  {
   "cell_type": "code",
   "execution_count": 4,
   "id": "balanced-jurisdiction",
   "metadata": {},
   "outputs": [
    {
     "data": {
      "text/plain": [
       "count    18263.000000\n",
       "mean        42.382960\n",
       "std         59.718859\n",
       "min          3.000000\n",
       "25%         30.000000\n",
       "50%         39.000000\n",
       "75%         50.000000\n",
       "max       2013.000000\n",
       "Name: age, dtype: float64"
      ]
     },
     "execution_count": 4,
     "metadata": {},
     "output_type": "execute_result"
    }
   ],
   "source": [
    "characters['age'].describe()"
   ]
  },
  {
   "cell_type": "markdown",
   "id": "french-apollo",
   "metadata": {},
   "source": [
    "Tells us that there's some character in the data with an age of 2013. Whether a vampire or a data error I leave it to the reader to determine."
   ]
  },
  {
   "cell_type": "markdown",
   "id": "dimensional-strand",
   "metadata": {},
   "source": [
    "We can also identify the number of men and women in the dataset as a whole:"
   ]
  },
  {
   "cell_type": "code",
   "execution_count": 5,
   "id": "exciting-september",
   "metadata": {},
   "outputs": [
    {
     "data": {
      "text/plain": [
       "m    16132\n",
       "f     6911\n",
       "?        5\n",
       "Name: gender, dtype: int64"
      ]
     },
     "execution_count": 5,
     "metadata": {},
     "output_type": "execute_result"
    }
   ],
   "source": [
    "characters['gender'].value_counts()"
   ]
  },
  {
   "cell_type": "code",
   "execution_count": 6,
   "id": "amino-springfield",
   "metadata": {},
   "outputs": [
    {
     "data": {
      "text/plain": [
       "<AxesSubplot:title={'center':'Gender proportions'}>"
      ]
     },
     "execution_count": 6,
     "metadata": {},
     "output_type": "execute_result"
    },
    {
     "data": {
      "image/png": "[encoded data removed]",
      "text/plain": [
       "<Figure size 432x288 with 1 Axes>"
      ]
     },
     "metadata": {
      "needs_background": "light"
     },
     "output_type": "display_data"
    }
   ],
   "source": [
    "characters['gender'].value_counts().plot(kind='bar', title='Gender proportions')"
   ]
  },
  {
   "cell_type": "markdown",
   "id": "treated-relay",
   "metadata": {},
   "source": [
    "### Descriptive statistics for age\n",
    "\n",
    "How are the ages of men and women different in this dataset. To start with we need to be able to select a list of the ages of all men or all women."
   ]
  },
  {
   "cell_type": "code",
   "execution_count": 20,
   "id": "nervous-remove",
   "metadata": {},
   "outputs": [
    {
     "data": {
      "text/plain": [
       "0    35.0\n",
       "1     NaN\n",
       "2     NaN\n",
       "3    46.0\n",
       "4    46.0\n",
       "Name: age, dtype: float64"
      ]
     },
     "execution_count": 20,
     "metadata": {},
     "output_type": "execute_result"
    }
   ],
   "source": [
    "characters.loc[(characters['gender'] == 'f'), 'age'].head()"
   ]
  },
  {
   "cell_type": "markdown",
   "id": "alone-tobago",
   "metadata": {},
   "source": [
    "If I introduce you to the function ```hist()```, which produces histograms, we can now compare the age distributions for men and for women.\n",
    "\n",
    "It may be instructive to play around with some of the code here. For instance, what happens if you take the 'age < 90' condition out? Why? What happens if you change the number of bins?"
   ]
  },
  {
   "cell_type": "code",
   "execution_count": 7,
   "id": "given-loading",
   "metadata": {},
   "outputs": [
    {
     "data": {
      "image/png": "[encoded data removed]",
      "text/plain": [
       "<Figure size 432x288 with 1 Axes>"
      ]
     },
     "metadata": {
      "needs_background": "light"
     },
     "output_type": "display_data"
    }
   ],
   "source": [
    "characters.loc[(characters['gender'] == 'm') & (characters['age'] < 90), 'age'].hist(bins = 25)\n",
    "plt.title('Age distribution for men on film')\n",
    "plt.show()"
   ]
  },
  {
   "cell_type": "code",
   "execution_count": 8,
   "id": "thermal-friendly",
   "metadata": {},
   "outputs": [
    {
     "data": {
      "image/png": "[encoded data removed]",
      "text/plain": [
       "<Figure size 432x288 with 1 Axes>"
      ]
     },
     "metadata": {
      "needs_background": "light"
     },
     "output_type": "display_data"
    }
   ],
   "source": [
    "characters.loc[(characters['gender'] == 'f') & (characters['age'] < 90), 'age'].hist(bins = 25)\n",
    "plt.title('Age distribution for women on film')\n",
    "plt.show()"
   ]
  },
  {
   "cell_type": "markdown",
   "id": "forbidden-crossing",
   "metadata": {},
   "source": [
    "### Inferential statistics: how to test a difference of means\n",
    "\n",
    "Those distributions look a little different visually, but seem to be centered *roughly* in the same place (roughly, our thirties or early forties). Are they significantly different, or could the differences be explained by chance? One simple way to pose this question is to ask how likely it is that these two samples came from populations with the same age distribution. Or to put it a little more narrowly: how likely is it that they came from populations with the same mean age?\n",
    "\n",
    "The Python for this test is very simple: it's called a \"t test,\" and we could do it in one line of code. But I don't want to just rehearse a formula here; I'd like to review the mental model we're applying when we perform a statistical test of this kind.\n",
    "\n",
    "H<sub>0</sub> (null hypothesis): the mean age for male characters (in the whole population) is the same as for women.\n",
    "\n",
    "H<sub>A</sub> (alternative hypothesis): the mean age for women is different than for men.\n",
    "\n",
    "We can already guess that \"different\" here is likely to mean \"female characters are younger on average,\" but since I didn't formulate a specific directional hypothesis before inspecting the data I'm going to be conservative and make this a \"two-tailed\" test, which means that we're going to consider the probability that random sampling variation would produce a difference of means equal to the observed one in *either* direction. We'll be unable to dismiss the null hypothesis if that probability is .05 or higher.\n",
    "\n",
    "So first of all, what actually is the size of the difference between sample means?"
   ]
  },
  {
   "cell_type": "code",
   "execution_count": 9,
   "id": "living-fabric",
   "metadata": {},
   "outputs": [
    {
     "data": {
      "text/plain": [
       "count    12749.000000\n",
       "mean        42.661464\n",
       "std         14.067040\n",
       "min          3.000000\n",
       "25%         33.000000\n",
       "50%         42.000000\n",
       "75%         52.000000\n",
       "max         89.000000\n",
       "Name: age, dtype: float64"
      ]
     },
     "execution_count": 9,
     "metadata": {},
     "output_type": "execute_result"
    }
   ],
   "source": [
    "characters.loc[(characters['gender'] == 'm') & (characters['age'] < 90), 'age'].describe()"
   ]
  },
  {
   "cell_type": "code",
   "execution_count": 10,
   "id": "suffering-action",
   "metadata": {},
   "outputs": [
    {
     "data": {
      "text/plain": [
       "count    5491.000000\n",
       "mean       35.971044\n",
       "std        13.825996\n",
       "min         4.000000\n",
       "25%        26.000000\n",
       "50%        33.000000\n",
       "75%        43.000000\n",
       "max        88.000000\n",
       "Name: age, dtype: float64"
      ]
     },
     "execution_count": 10,
     "metadata": {},
     "output_type": "execute_result"
    }
   ],
   "source": [
    "characters.loc[(characters['gender'] == 'f') & (characters['age'] < 90), 'age'].describe()"
   ]
  },
  {
   "cell_type": "markdown",
   "id": "whole-twenty",
   "metadata": {},
   "source": [
    "The difference between 42.66 and 35.97 is approximately 6.7 years.\n",
    "\n",
    "How often would that difference occur by chance, if both samples were drawn from a population with the same age distribution? We could use statistical formulas here, but to give you an intuitive sense of what's actually happening, let's simulate the *sampling distribution* of the mean ages we would get if gender made no difference in age. In that case our our \"ages of men\" and \"ages of women\" would simply be two random samples drawn from the same underlying population, \"ages of all characters.\" There would still be some difference in their means. How often would that difference be equal to or larger than 6.7 years?\n",
    "\n",
    "Of course, we can't really sample all characters in film. We don't have a list of all characters! But it turns out that you can get a very good simulation of sampling variation in a population by randomly *resampling* an existing sample. \n",
    "\n",
    "There are a variety of ways to do the resampling; here we're going to do a \"permutation test.\" We'll combine the ages of all characters into a single pool. "
   ]
  },
  {
   "cell_type": "code",
   "execution_count": 11,
   "id": "neural-sarah",
   "metadata": {},
   "outputs": [],
   "source": [
    "mensages = characters.loc[(characters['gender'] == 'm') & (characters['age'] < 90), 'age']\n",
    "womensages = characters.loc[(characters['gender'] == 'f') & (characters['age'] < 90), 'age']\n",
    "charactersages = mensages.append(womensages)  # Note that we're appending Series rather than lists\n",
    "                                              # If these were regular lists, you'd need to \"extend\" instead."
   ]
  },
  {
   "cell_type": "markdown",
   "id": "representative-right",
   "metadata": {},
   "source": [
    "Now we can simulate what would happen if the ages of men and women were drawn from the same distribution. We'll reshuffle the pool ten thousand times. Each time, we'll divide it into two random groups (since in this simulation, gender makes no difference to age distribution). We'll call the first 5491 ages \"women\" and the next 12,749 \"men.\" Finally, we'll take the difference of means between the two groups, and keep track of all the differences we get. Ten thousand of them! How would they be distributed?"
   ]
  },
  {
   "cell_type": "code",
   "execution_count": 12,
   "id": "confident-folder",
   "metadata": {},
   "outputs": [
    {
     "data": {
      "text/plain": [
       "[<matplotlib.lines.Line2D at 0x7fa3208c9ed0>]"
      ]
     },
     "execution_count": 12,
     "metadata": {},
     "output_type": "execute_result"
    },
    {
     "data": {
      "image/png": "[encoded data removed]",
      "text/plain": [
       "<Figure size 432x288 with 1 Axes>"
      ]
     },
     "metadata": {
      "needs_background": "light"
     },
     "output_type": "display_data"
    }
   ],
   "source": [
    "tenthousanddiffs = []\n",
    "\n",
    "for i in range(10000):\n",
    "    thissample = charactersages.sample(frac = 1.0, replace = False)  # frac = 1.0 just says \"a sample of equal length\"\n",
    "                                                                     # i.e., reshuffle the list\n",
    "    women = thissample[0: 5491]\n",
    "    men = thissample[5491: ]\n",
    "    diff = men.mean() - women.mean()\n",
    "    tenthousanddiffs.append(diff)\n",
    "    \n",
    "tenthousanddiffs = pd.Series(tenthousanddiffs) # To use the .hist() plotting method\n",
    "                                               # we need to turn this list into a pandas\n",
    "                                               # object, like a single column of a data frame.\n",
    "                                               # This is called a Series.\n",
    "tenthousanddiffs.hist(bins = 50)\n",
    "plt.plot([-0.5, -0.5], [0, 650], 'red')\n",
    "plt.plot([0.5, 0.5], [0, 650], 'red')"
   ]
  },
  {
   "cell_type": "markdown",
   "id": "graduate-blowing",
   "metadata": {},
   "source": [
    "This is the range of differences we would get through random sampling variation. \n",
    "\n",
    "We can ask how often the absolute difference of samples is greater than any value. For instance, how often would we randomly get differences of half a year or more between the mean ages of the two groups? We can find out by looking at the two \"tails\" of the above distribution, above 0.5  and below -0.5. How many samples are we talking about?"
   ]
  },
  {
   "cell_type": "code",
   "execution_count": 13,
   "id": "unavailable-marking",
   "metadata": {},
   "outputs": [
    {
     "name": "stdout",
     "output_type": "stream",
     "text": [
      "That happens  280 times, for a probability of  0.028\n"
     ]
    }
   ],
   "source": [
    "tailcount = sum(abs(tenthousanddiffs) > .5)\n",
    "print(\"That happens \", tailcount, \"times, for a probability of \", tailcount / 10000)"
   ]
  },
  {
   "cell_type": "markdown",
   "id": "regulation-naples",
   "metadata": {},
   "source": [
    "What about the actual difference we observed?"
   ]
  },
  {
   "cell_type": "code",
   "execution_count": 14,
   "id": "indonesian-search",
   "metadata": {},
   "outputs": [
    {
     "name": "stdout",
     "output_type": "stream",
     "text": [
      "The observed difference of means was 6.690420118437949\n",
      "That happens  0 times, for a probability of  0.0\n"
     ]
    }
   ],
   "source": [
    "observeddiff = mensages.mean() - womensages.mean()\n",
    "print(\"The observed difference of means was\", observeddiff)\n",
    "\n",
    "tailcount = sum(abs(tenthousanddiffs) > observeddiff)\n",
    "print(\"That happens \", tailcount, \"times, for a probability of \", tailcount / 10000)"
   ]
  },
  {
   "cell_type": "markdown",
   "id": "super-sunglasses",
   "metadata": {},
   "source": [
    "In short, it's *very* unlikely that we could get two samples like this from the same population.\n",
    "\n",
    "Here's a shortcut way of doing the same calculation. (There are technically some differences here, because the formula used in a t test assumes that the distribution of ages is *roughly* shaped like a bell curve. The permutation test we performed is actually a little more flexible. But it's a small difference in this case, because fictional ages are close enough to a bell curve.)"
   ]
  },
  {
   "cell_type": "code",
   "execution_count": 15,
   "id": "developmental-supplement",
   "metadata": {},
   "outputs": [
    {
     "data": {
      "text/plain": [
       "Ttest_indResult(statistic=29.616545264882166, pvalue=2.5708626216627163e-188)"
      ]
     },
     "execution_count": 15,
     "metadata": {},
     "output_type": "execute_result"
    }
   ],
   "source": [
    "from scipy.stats import ttest_ind\n",
    "ttest_ind(mensages, womensages)"
   ]
  },
  {
   "cell_type": "markdown",
   "id": "potential-return",
   "metadata": {},
   "source": [
    "The ```pvalue``` there is estimating the probability of getting a difference this extreme if there were in reality no difference between the population means. Again, it's a very low probability. The exponent is -188!"
   ]
  },
  {
   "cell_type": "markdown",
   "id": "rising-fleece",
   "metadata": {},
   "source": [
    "### Grouping and summarizing data\n",
    "\n",
    "You can see above that men outnumber women on film. The amount of dialogue assigned to the two groups is also unequal. In part that's simply because there are more men.\n",
    "\n",
    "But it's even more unequal than we would expect from the sheer number of men and women. The *average* amount of dialogue is also unequal."
   ]
  },
  {
   "cell_type": "code",
   "execution_count": 16,
   "id": "billion-harris",
   "metadata": {},
   "outputs": [
    {
     "data": {
      "text/html": [
       "<div>\n",
       "<style scoped>\n",
       "    .dataframe tbody tr th:only-of-type {\n",
       "        vertical-align: middle;\n",
       "    }\n",
       "\n",
       "    .dataframe tbody tr th {\n",
       "        vertical-align: top;\n",
       "    }\n",
       "\n",
       "    .dataframe thead th {\n",
       "        text-align: right;\n",
       "    }\n",
       "</style>\n",
       "<table border=\"1\" class=\"dataframe\">\n",
       "  <thead>\n",
       "    <tr style=\"text-align: right;\">\n",
       "      <th></th>\n",
       "      <th>gender</th>\n",
       "      <th>words</th>\n",
       "    </tr>\n",
       "  </thead>\n",
       "  <tbody>\n",
       "    <tr>\n",
       "      <th>0</th>\n",
       "      <td>?</td>\n",
       "      <td>281.400000</td>\n",
       "    </tr>\n",
       "    <tr>\n",
       "      <th>1</th>\n",
       "      <td>f</td>\n",
       "      <td>850.478513</td>\n",
       "    </tr>\n",
       "    <tr>\n",
       "      <th>2</th>\n",
       "      <td>m</td>\n",
       "      <td>932.652988</td>\n",
       "    </tr>\n",
       "  </tbody>\n",
       "</table>\n",
       "</div>"
      ],
      "text/plain": [
       "  gender       words\n",
       "0      ?  281.400000\n",
       "1      f  850.478513\n",
       "2      m  932.652988"
      ]
     },
     "execution_count": 16,
     "metadata": {},
     "output_type": "execute_result"
    }
   ],
   "source": [
    "characters.groupby('gender', as_index = False)['words'].mean()"
   ]
  },
  {
   "cell_type": "markdown",
   "id": "transsexual-madness",
   "metadata": {},
   "source": [
    "Women speak on average 850 words per film in this dataset; men 933.\n",
    "\n",
    "Notice how we used the ```.groupby()``` function to figure this out. It divides a Pandas dataframe into subframes based on the value of the column we pass in as a parameter. Once we've done that we can select a column ```['words']``` in all of those subframes, and calculate the mean value of the column.\n",
    "\n",
    "By the way, how often would we see a difference as big as 850 and 933 if volubility were in fact equally distributed?"
   ]
  },
  {
   "cell_type": "code",
   "execution_count": 22,
   "id": "conventional-tobago",
   "metadata": {},
   "outputs": [],
   "source": [
    "# Try writing a few lines of pandas code here that use a t_test \n",
    "# to test the significance of the difference between sample means.\n",
    "# You'll need to start by constructing an expression that gives you a list\n",
    "# of the number of words spoken by all women, or all men -- just as we did with age.\n",
    "\n",
    "# Note: if you're writing more than three lines of code here, you're writing\n",
    "# more than you need."
   ]
  },
  {
   "cell_type": "markdown",
   "id": "ranking-tumor",
   "metadata": {},
   "source": [
    "### Our mission in class on Monday\n",
    "\n",
    "In class on Monday, we're going to use the ```.groupby()``` function to divide the ```characters``` data frame by film (```script_id```). Then we'll create a new dataframe where each row is a film, and a new column reports the proportion of feminine dialogue in each film.\n",
    "\n",
    "Finally we'll pair that dataframe with the ```movies``` dataframe, so we also have the release date for each film. Then we'll ask whether there's been any trend toward gender equality over time. Does the release date of a film correlate positively with the proportion of dialogue spoken by women?\n",
    "\n",
    "Here's a first step in the process, summing the words spoken by all characters in a film:"
   ]
  },
  {
   "cell_type": "code",
   "execution_count": 18,
   "id": "abandoned-probe",
   "metadata": {},
   "outputs": [
    {
     "data": {
      "text/html": [
       "<div>\n",
       "<style scoped>\n",
       "    .dataframe tbody tr th:only-of-type {\n",
       "        vertical-align: middle;\n",
       "    }\n",
       "\n",
       "    .dataframe tbody tr th {\n",
       "        vertical-align: top;\n",
       "    }\n",
       "\n",
       "    .dataframe thead th {\n",
       "        text-align: right;\n",
       "    }\n",
       "</style>\n",
       "<table border=\"1\" class=\"dataframe\">\n",
       "  <thead>\n",
       "    <tr style=\"text-align: right;\">\n",
       "      <th></th>\n",
       "      <th>script_id</th>\n",
       "      <th>gender</th>\n",
       "      <th>words</th>\n",
       "    </tr>\n",
       "  </thead>\n",
       "  <tbody>\n",
       "    <tr>\n",
       "      <th>0</th>\n",
       "      <td>280</td>\n",
       "      <td>f</td>\n",
       "      <td>3763</td>\n",
       "    </tr>\n",
       "    <tr>\n",
       "      <th>1</th>\n",
       "      <td>280</td>\n",
       "      <td>m</td>\n",
       "      <td>2631</td>\n",
       "    </tr>\n",
       "    <tr>\n",
       "      <th>2</th>\n",
       "      <td>623</td>\n",
       "      <td>f</td>\n",
       "      <td>1524</td>\n",
       "    </tr>\n",
       "    <tr>\n",
       "      <th>3</th>\n",
       "      <td>623</td>\n",
       "      <td>m</td>\n",
       "      <td>7584</td>\n",
       "    </tr>\n",
       "    <tr>\n",
       "      <th>4</th>\n",
       "      <td>625</td>\n",
       "      <td>f</td>\n",
       "      <td>155</td>\n",
       "    </tr>\n",
       "  </tbody>\n",
       "</table>\n",
       "</div>"
      ],
      "text/plain": [
       "   script_id gender  words\n",
       "0        280      f   3763\n",
       "1        280      m   2631\n",
       "2        623      f   1524\n",
       "3        623      m   7584\n",
       "4        625      f    155"
      ]
     },
     "execution_count": 18,
     "metadata": {},
     "output_type": "execute_result"
    }
   ],
   "source": [
    "groupedbyscriptandgender = characters.groupby(['script_id', 'gender'], as_index = False)['words'].sum()\n",
    "groupedbyscriptandgender.head()"
   ]
  },
  {
   "cell_type": "code",
   "execution_count": null,
   "id": "cathedral-cancer",
   "metadata": {},
   "outputs": [],
   "source": []
  }
 ],
 "metadata": {
  "kernelspec": {
   "display_name": "Python 3",
   "language": "python",
   "name": "python3"
  },
  "language_info": {
   "codemirror_mode": {
    "name": "ipython",
    "version": 3
   },
   "file_extension": ".py",
   "mimetype": "text/x-python",
   "name": "python",
   "nbconvert_exporter": "python",
   "pygments_lexer": "ipython3",
   "version": "3.7.6"
  }
 },
 "nbformat": 4,
 "nbformat_minor": 5
}
