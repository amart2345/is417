{
 "cells": [
  {
   "cell_type": "markdown",
   "id": "virtual-mother",
   "metadata": {},
   "source": [
    "# Exploring film dialogue\n",
    "\n",
    "There are two parts to this notebook. The first part is just general practice in Pandas. We won't work through all of that in class. But if Pandas is unfamiliar, you may want to work through those sections on your own.\n",
    "\n",
    "The second part develops models of film dialogue. We will\n",
    "\n",
    "1. look for words overrepresented in the dialogue of men and women\n",
    "2. ask whether gender norms are stronger in particular genres, and\n",
    "3. ask whether gender norms weaken over time\n"
   ]
  },
  {
   "cell_type": "markdown",
   "id": "cooked-ability",
   "metadata": {},
   "source": [
    "## A. Loading the film dialogue dataset; reviewing Pandas\n",
    "\n",
    "To start with we'll import useful modules."
   ]
  },
  {
   "cell_type": "code",
   "execution_count": 1,
   "id": "everyday-league",
   "metadata": {},
   "outputs": [],
   "source": [
    "import pandas as pd\n",
    "import numpy as np\n",
    "from sklearn.naive_bayes import MultinomialNB\n",
    "from sklearn.feature_extraction.text import CountVectorizer\n",
    "import random\n",
    "from pathlib import Path"
   ]
  },
  {
   "cell_type": "markdown",
   "id": "working-despite",
   "metadata": {},
   "source": [
    "#### read in the dialogue dataset\n",
    "\n",
    "It has one line for each character; the field ```lines``` contains all dialogue attributed to that character in the [Cornell Movie Dialogs Corpus](https://www.cs.cornell.edu/~cristian/Cornell_Movie-Dialogs_Corpus.html). Separate lines are delimited by slashes, but we'll ignore that here.\n",
    "\n",
    "We call the dataset ```chars``` because the it has one line per character."
   ]
  },
  {
   "cell_type": "code",
   "execution_count": 2,
   "id": "corresponding-bangladesh",
   "metadata": {},
   "outputs": [],
   "source": [
    "dialogpath = Path('../../data/movie_dialogue.tsv')\n",
    "\n",
    "chars = pd.read_csv(dialogpath, sep = '\\t')\n",
    "\n",
    "# let's also randomize the row order\n",
    "chars = chars.sample(frac = 1)"
   ]
  },
  {
   "cell_type": "code",
   "execution_count": 3,
   "id": "beginning-requirement",
   "metadata": {},
   "outputs": [
    {
     "data": {
      "text/html": [
       "<div>\n",
       "<style scoped>\n",
       "    .dataframe tbody tr th:only-of-type {\n",
       "        vertical-align: middle;\n",
       "    }\n",
       "\n",
       "    .dataframe tbody tr th {\n",
       "        vertical-align: top;\n",
       "    }\n",
       "\n",
       "    .dataframe thead th {\n",
       "        text-align: right;\n",
       "    }\n",
       "</style>\n",
       "<table border=\"1\" class=\"dataframe\">\n",
       "  <thead>\n",
       "    <tr style=\"text-align: right;\">\n",
       "      <th></th>\n",
       "      <th>mid</th>\n",
       "      <th>cid</th>\n",
       "      <th>cname</th>\n",
       "      <th>mname</th>\n",
       "      <th>gender</th>\n",
       "      <th>wordcount</th>\n",
       "      <th>year</th>\n",
       "      <th>genres</th>\n",
       "      <th>comedy</th>\n",
       "      <th>thriller</th>\n",
       "      <th>drama</th>\n",
       "      <th>romance</th>\n",
       "      <th>lines</th>\n",
       "    </tr>\n",
       "  </thead>\n",
       "  <tbody>\n",
       "    <tr>\n",
       "      <th>1887</th>\n",
       "      <td>m444</td>\n",
       "      <td>u6646</td>\n",
       "      <td>COSMO</td>\n",
       "      <td>moonstruck</td>\n",
       "      <td>m</td>\n",
       "      <td>396</td>\n",
       "      <td>1987</td>\n",
       "      <td>['comedy', 'romance', 'drama']</td>\n",
       "      <td>True</td>\n",
       "      <td>False</td>\n",
       "      <td>True</td>\n",
       "      <td>True</td>\n",
       "      <td>A man... under stands one day... that his life...</td>\n",
       "    </tr>\n",
       "    <tr>\n",
       "      <th>1222</th>\n",
       "      <td>m319</td>\n",
       "      <td>u4791</td>\n",
       "      <td>HANOVER</td>\n",
       "      <td>deep rising</td>\n",
       "      <td>m</td>\n",
       "      <td>262</td>\n",
       "      <td>1998</td>\n",
       "      <td>['action', 'horror', 'sci-fi', 'thriller']</td>\n",
       "      <td>False</td>\n",
       "      <td>True</td>\n",
       "      <td>False</td>\n",
       "      <td>False</td>\n",
       "      <td>Maybe we lost them. / You trying to take over ...</td>\n",
       "    </tr>\n",
       "    <tr>\n",
       "      <th>2451</th>\n",
       "      <td>m552</td>\n",
       "      <td>u8131</td>\n",
       "      <td>ELAINE</td>\n",
       "      <td>the limey</td>\n",
       "      <td>f</td>\n",
       "      <td>1152</td>\n",
       "      <td>1999</td>\n",
       "      <td>['crime', 'drama', 'mystery', 'thriller']</td>\n",
       "      <td>False</td>\n",
       "      <td>True</td>\n",
       "      <td>True</td>\n",
       "      <td>False</td>\n",
       "      <td>I'd rather be with him than without him. I don...</td>\n",
       "    </tr>\n",
       "    <tr>\n",
       "      <th>2950</th>\n",
       "      <td>m95</td>\n",
       "      <td>u1422</td>\n",
       "      <td>EMMA</td>\n",
       "      <td>i am legend</td>\n",
       "      <td>f</td>\n",
       "      <td>248</td>\n",
       "      <td>2007</td>\n",
       "      <td>['drama', 'sci-fi', 'thriller']</td>\n",
       "      <td>False</td>\n",
       "      <td>True</td>\n",
       "      <td>True</td>\n",
       "      <td>False</td>\n",
       "      <td>You have to go.  He'll never stop. Leave this ...</td>\n",
       "    </tr>\n",
       "    <tr>\n",
       "      <th>2749</th>\n",
       "      <td>m610</td>\n",
       "      <td>u8960</td>\n",
       "      <td>TIN MAN</td>\n",
       "      <td>the wizard of oz</td>\n",
       "      <td>m</td>\n",
       "      <td>668</td>\n",
       "      <td>1939</td>\n",
       "      <td>['adventure', 'family', 'fantasy', 'musical']</td>\n",
       "      <td>False</td>\n",
       "      <td>False</td>\n",
       "      <td>False</td>\n",
       "      <td>False</td>\n",
       "      <td>Now I know I've got a heart -- 'cause it's bre...</td>\n",
       "    </tr>\n",
       "  </tbody>\n",
       "</table>\n",
       "</div>"
      ],
      "text/plain": [
       "       mid    cid    cname             mname gender  wordcount  year  \\\n",
       "1887  m444  u6646    COSMO        moonstruck      m        396  1987   \n",
       "1222  m319  u4791  HANOVER       deep rising      m        262  1998   \n",
       "2451  m552  u8131   ELAINE         the limey      f       1152  1999   \n",
       "2950   m95  u1422     EMMA       i am legend      f        248  2007   \n",
       "2749  m610  u8960  TIN MAN  the wizard of oz      m        668  1939   \n",
       "\n",
       "                                             genres  comedy  thriller  drama  \\\n",
       "1887                 ['comedy', 'romance', 'drama']    True     False   True   \n",
       "1222     ['action', 'horror', 'sci-fi', 'thriller']   False      True  False   \n",
       "2451      ['crime', 'drama', 'mystery', 'thriller']   False      True   True   \n",
       "2950                ['drama', 'sci-fi', 'thriller']   False      True   True   \n",
       "2749  ['adventure', 'family', 'fantasy', 'musical']   False     False  False   \n",
       "\n",
       "      romance                                              lines  \n",
       "1887     True  A man... under stands one day... that his life...  \n",
       "1222    False  Maybe we lost them. / You trying to take over ...  \n",
       "2451    False  I'd rather be with him than without him. I don...  \n",
       "2950    False  You have to go.  He'll never stop. Leave this ...  \n",
       "2749    False  Now I know I've got a heart -- 'cause it's bre...  "
      ]
     },
     "execution_count": 3,
     "metadata": {},
     "output_type": "execute_result"
    }
   ],
   "source": [
    "chars.head()"
   ]
  },
  {
   "cell_type": "markdown",
   "id": "thermal-block",
   "metadata": {},
   "source": [
    "#### reviewing pandas: ways to explore the data\n",
    "\n",
    "Once we've loaded this dataframe, you can explore it in all the ways Melanie Walsh recommends in [\"Pandas Basics — Part 2.\"](https://melaniewalsh.github.io/Intro-Cultural-Analytics/Data-Analysis/Pandas-Basics-Part2.html) For instance, what are the data types of the columns?"
   ]
  },
  {
   "cell_type": "code",
   "execution_count": 4,
   "id": "simplified-dynamics",
   "metadata": {},
   "outputs": [
    {
     "data": {
      "text/plain": [
       "mid          object\n",
       "cid          object\n",
       "cname        object\n",
       "mname        object\n",
       "gender       object\n",
       "wordcount     int64\n",
       "year          int64\n",
       "genres       object\n",
       "comedy         bool\n",
       "thriller       bool\n",
       "drama          bool\n",
       "romance        bool\n",
       "lines        object\n",
       "dtype: object"
      ]
     },
     "execution_count": 4,
     "metadata": {},
     "output_type": "execute_result"
    }
   ],
   "source": [
    "chars.dtypes"
   ]
  },
  {
   "cell_type": "markdown",
   "id": "double-drink",
   "metadata": {},
   "source": [
    "You can also use the ```.describe()``` function, check for missing data with ```.isna()```, rename a column or drop a column, and sort the whole dataframe, by say wordcount or release year. Note that when we run the sort below, we get a sorted dataframe as *output* of the statement. But it doesn't actually change the order of rows in ```chars``` unless we start the command with ```chars =``` or include an argument ```inplace = True``` inside the parentheses."
   ]
  },
  {
   "cell_type": "code",
   "execution_count": 5,
   "id": "optimum-touch",
   "metadata": {},
   "outputs": [
    {
     "data": {
      "text/html": [
       "<div>\n",
       "<style scoped>\n",
       "    .dataframe tbody tr th:only-of-type {\n",
       "        vertical-align: middle;\n",
       "    }\n",
       "\n",
       "    .dataframe tbody tr th {\n",
       "        vertical-align: top;\n",
       "    }\n",
       "\n",
       "    .dataframe thead th {\n",
       "        text-align: right;\n",
       "    }\n",
       "</style>\n",
       "<table border=\"1\" class=\"dataframe\">\n",
       "  <thead>\n",
       "    <tr style=\"text-align: right;\">\n",
       "      <th></th>\n",
       "      <th>mid</th>\n",
       "      <th>cid</th>\n",
       "      <th>cname</th>\n",
       "      <th>mname</th>\n",
       "      <th>gender</th>\n",
       "      <th>wordcount</th>\n",
       "      <th>year</th>\n",
       "      <th>genres</th>\n",
       "      <th>comedy</th>\n",
       "      <th>thriller</th>\n",
       "      <th>drama</th>\n",
       "      <th>romance</th>\n",
       "      <th>lines</th>\n",
       "    </tr>\n",
       "  </thead>\n",
       "  <tbody>\n",
       "    <tr>\n",
       "      <th>292</th>\n",
       "      <td>m150</td>\n",
       "      <td>u2340</td>\n",
       "      <td>NIXON</td>\n",
       "      <td>nixon</td>\n",
       "      <td>m</td>\n",
       "      <td>7798</td>\n",
       "      <td>1995</td>\n",
       "      <td>['biography', 'drama']</td>\n",
       "      <td>False</td>\n",
       "      <td>False</td>\n",
       "      <td>True</td>\n",
       "      <td>False</td>\n",
       "      <td>For Christ's sake, it soils my mother's memory...</td>\n",
       "    </tr>\n",
       "    <tr>\n",
       "      <th>1047</th>\n",
       "      <td>m289</td>\n",
       "      <td>u4331</td>\n",
       "      <td>ACE</td>\n",
       "      <td>casino</td>\n",
       "      <td>m</td>\n",
       "      <td>6387</td>\n",
       "      <td>1995</td>\n",
       "      <td>['biography', 'crime', 'drama']</td>\n",
       "      <td>False</td>\n",
       "      <td>False</td>\n",
       "      <td>True</td>\n",
       "      <td>False</td>\n",
       "      <td>Now, instead of the cops only lookin' at Nicky...</td>\n",
       "    </tr>\n",
       "    <tr>\n",
       "      <th>809</th>\n",
       "      <td>m243</td>\n",
       "      <td>u3681</td>\n",
       "      <td>ALVY</td>\n",
       "      <td>annie hall</td>\n",
       "      <td>m</td>\n",
       "      <td>5853</td>\n",
       "      <td>1977</td>\n",
       "      <td>['comedy', 'drama', 'romance']</td>\n",
       "      <td>True</td>\n",
       "      <td>False</td>\n",
       "      <td>True</td>\n",
       "      <td>True</td>\n",
       "      <td>Your girl friend's name is Ralph? / You don't ...</td>\n",
       "    </tr>\n",
       "    <tr>\n",
       "      <th>41</th>\n",
       "      <td>m104</td>\n",
       "      <td>u1568</td>\n",
       "      <td>JIM</td>\n",
       "      <td>jfk</td>\n",
       "      <td>m</td>\n",
       "      <td>5511</td>\n",
       "      <td>1991</td>\n",
       "      <td>['biography', 'drama', 'history', 'mystery', '...</td>\n",
       "      <td>False</td>\n",
       "      <td>True</td>\n",
       "      <td>True</td>\n",
       "      <td>False</td>\n",
       "      <td>Gentlemen, I will not hear this.  I value Bill...</td>\n",
       "    </tr>\n",
       "    <tr>\n",
       "      <th>361</th>\n",
       "      <td>m161</td>\n",
       "      <td>u2495</td>\n",
       "      <td>STEW</td>\n",
       "      <td>platinum blonde</td>\n",
       "      <td>m</td>\n",
       "      <td>4905</td>\n",
       "      <td>1931</td>\n",
       "      <td>['comedy', 'romance']</td>\n",
       "      <td>True</td>\n",
       "      <td>False</td>\n",
       "      <td>False</td>\n",
       "      <td>True</td>\n",
       "      <td>All right, I'm a child. Have it any way you wa...</td>\n",
       "    </tr>\n",
       "    <tr>\n",
       "      <th>...</th>\n",
       "      <td>...</td>\n",
       "      <td>...</td>\n",
       "      <td>...</td>\n",
       "      <td>...</td>\n",
       "      <td>...</td>\n",
       "      <td>...</td>\n",
       "      <td>...</td>\n",
       "      <td>...</td>\n",
       "      <td>...</td>\n",
       "      <td>...</td>\n",
       "      <td>...</td>\n",
       "      <td>...</td>\n",
       "      <td>...</td>\n",
       "    </tr>\n",
       "    <tr>\n",
       "      <th>691</th>\n",
       "      <td>m221</td>\n",
       "      <td>u3335</td>\n",
       "      <td>HARRY</td>\n",
       "      <td>total recall</td>\n",
       "      <td>m</td>\n",
       "      <td>103</td>\n",
       "      <td>1990</td>\n",
       "      <td>['action', 'adventure', 'sci-fi', 'thriller']</td>\n",
       "      <td>False</td>\n",
       "      <td>True</td>\n",
       "      <td>False</td>\n",
       "      <td>False</td>\n",
       "      <td>Unh-uh, pal.  You've got yourself mixed up wit...</td>\n",
       "    </tr>\n",
       "    <tr>\n",
       "      <th>2551</th>\n",
       "      <td>m571</td>\n",
       "      <td>u8418</td>\n",
       "      <td>SRT</td>\n",
       "      <td>thx 1138</td>\n",
       "      <td>m</td>\n",
       "      <td>102</td>\n",
       "      <td>1971</td>\n",
       "      <td>['drama', 'mystery', 'sci-fi', 'thriller']</td>\n",
       "      <td>False</td>\n",
       "      <td>True</td>\n",
       "      <td>True</td>\n",
       "      <td>False</td>\n",
       "      <td>Just look at all those people. / Save yourself...</td>\n",
       "    </tr>\n",
       "    <tr>\n",
       "      <th>1824</th>\n",
       "      <td>m431</td>\n",
       "      <td>u6496</td>\n",
       "      <td>SPRINGFIELD</td>\n",
       "      <td>manhunter</td>\n",
       "      <td>m</td>\n",
       "      <td>102</td>\n",
       "      <td>1986</td>\n",
       "      <td>['crime', 'thriller']</td>\n",
       "      <td>False</td>\n",
       "      <td>True</td>\n",
       "      <td>False</td>\n",
       "      <td>False</td>\n",
       "      <td>No. / It's at the vet's. The kids brought it i...</td>\n",
       "    </tr>\n",
       "    <tr>\n",
       "      <th>1292</th>\n",
       "      <td>m331</td>\n",
       "      <td>u4986</td>\n",
       "      <td>SHERRY</td>\n",
       "      <td>election</td>\n",
       "      <td>f</td>\n",
       "      <td>101</td>\n",
       "      <td>1999</td>\n",
       "      <td>['comedy', 'drama']</td>\n",
       "      <td>True</td>\n",
       "      <td>False</td>\n",
       "      <td>True</td>\n",
       "      <td>False</td>\n",
       "      <td>I was lonely.  You took advantage / We made a ...</td>\n",
       "    </tr>\n",
       "    <tr>\n",
       "      <th>2707</th>\n",
       "      <td>m601</td>\n",
       "      <td>u8858</td>\n",
       "      <td>CAITLIN</td>\n",
       "      <td>what lies beneath</td>\n",
       "      <td>f</td>\n",
       "      <td>100</td>\n",
       "      <td>2000</td>\n",
       "      <td>['drama', 'horror', 'mystery', 'thriller']</td>\n",
       "      <td>False</td>\n",
       "      <td>True</td>\n",
       "      <td>True</td>\n",
       "      <td>False</td>\n",
       "      <td>Someone crying.  A girl.  I thought I was craz...</td>\n",
       "    </tr>\n",
       "  </tbody>\n",
       "</table>\n",
       "<p>2969 rows × 13 columns</p>\n",
       "</div>"
      ],
      "text/plain": [
       "       mid    cid        cname              mname gender  wordcount  year  \\\n",
       "292   m150  u2340        NIXON              nixon      m       7798  1995   \n",
       "1047  m289  u4331          ACE             casino      m       6387  1995   \n",
       "809   m243  u3681         ALVY         annie hall      m       5853  1977   \n",
       "41    m104  u1568          JIM                jfk      m       5511  1991   \n",
       "361   m161  u2495         STEW    platinum blonde      m       4905  1931   \n",
       "...    ...    ...          ...                ...    ...        ...   ...   \n",
       "691   m221  u3335        HARRY       total recall      m        103  1990   \n",
       "2551  m571  u8418          SRT           thx 1138      m        102  1971   \n",
       "1824  m431  u6496  SPRINGFIELD          manhunter      m        102  1986   \n",
       "1292  m331  u4986       SHERRY           election      f        101  1999   \n",
       "2707  m601  u8858      CAITLIN  what lies beneath      f        100  2000   \n",
       "\n",
       "                                                 genres  comedy  thriller  \\\n",
       "292                              ['biography', 'drama']   False     False   \n",
       "1047                    ['biography', 'crime', 'drama']   False     False   \n",
       "809                      ['comedy', 'drama', 'romance']    True     False   \n",
       "41    ['biography', 'drama', 'history', 'mystery', '...   False      True   \n",
       "361                               ['comedy', 'romance']    True     False   \n",
       "...                                                 ...     ...       ...   \n",
       "691       ['action', 'adventure', 'sci-fi', 'thriller']   False      True   \n",
       "2551         ['drama', 'mystery', 'sci-fi', 'thriller']   False      True   \n",
       "1824                              ['crime', 'thriller']   False      True   \n",
       "1292                                ['comedy', 'drama']    True     False   \n",
       "2707         ['drama', 'horror', 'mystery', 'thriller']   False      True   \n",
       "\n",
       "      drama  romance                                              lines  \n",
       "292    True    False  For Christ's sake, it soils my mother's memory...  \n",
       "1047   True    False  Now, instead of the cops only lookin' at Nicky...  \n",
       "809    True     True  Your girl friend's name is Ralph? / You don't ...  \n",
       "41     True    False  Gentlemen, I will not hear this.  I value Bill...  \n",
       "361   False     True  All right, I'm a child. Have it any way you wa...  \n",
       "...     ...      ...                                                ...  \n",
       "691   False    False  Unh-uh, pal.  You've got yourself mixed up wit...  \n",
       "2551   True    False  Just look at all those people. / Save yourself...  \n",
       "1824  False    False  No. / It's at the vet's. The kids brought it i...  \n",
       "1292   True    False  I was lonely.  You took advantage / We made a ...  \n",
       "2707   True    False  Someone crying.  A girl.  I thought I was craz...  \n",
       "\n",
       "[2969 rows x 13 columns]"
      ]
     },
     "execution_count": 5,
     "metadata": {},
     "output_type": "execute_result"
    }
   ],
   "source": [
    "chars.sort_values(by='wordcount', ascending=False)"
   ]
  },
  {
   "cell_type": "markdown",
   "id": "ready-graphics",
   "metadata": {},
   "source": [
    "#### reviewing more powers of Pandas: indexing and selecting data\n",
    "\n",
    "The functions explored here are related to Melanie Walsh's post on [Pandas — Part 3.](https://melaniewalsh.github.io/Intro-Cultural-Analytics/Data-Analysis/Pandas-Basics-Part3.html)\n",
    "\n",
    "How many different movies do we have in this data? We have one row for each character--so 2969 characters--but how many *movies*? The ```unique``` method is useful here. (You could also transform the column into a set and take the length of the set.)"
   ]
  },
  {
   "cell_type": "code",
   "execution_count": 6,
   "id": "sacred-provincial",
   "metadata": {},
   "outputs": [
    {
     "data": {
      "text/plain": [
       "600"
      ]
     },
     "execution_count": 6,
     "metadata": {},
     "output_type": "execute_result"
    }
   ],
   "source": [
    "len(chars['mname'].unique())"
   ]
  },
  {
   "cell_type": "markdown",
   "id": "growing-explorer",
   "metadata": {},
   "source": [
    "Notice that in order to focus on a single column, I selected by using square brackets and a string that was the column name. There are several other ways to select parts of a dataframe. We can use ```.iloc[]``` to select rows in integer order. *Notice the square brackets; this is a form of indexing/selection, not a function call, which is done with round parentheses.*"
   ]
  },
  {
   "cell_type": "code",
   "execution_count": 7,
   "id": "detailed-rally",
   "metadata": {},
   "outputs": [
    {
     "data": {
      "text/plain": [
       "mid                                                       m527\n",
       "cid                                                      u7801\n",
       "cname                                                      SID\n",
       "mname                                                 spare me\n",
       "gender                                                       m\n",
       "wordcount                                                  576\n",
       "year                                                      1992\n",
       "genres                                            ['thriller']\n",
       "comedy                                                   False\n",
       "thriller                                                  True\n",
       "drama                                                    False\n",
       "romance                                                  False\n",
       "lines        See ya 'round Faz. / The Faz sure took care a ...\n",
       "Name: 2307, dtype: object"
      ]
     },
     "execution_count": 7,
     "metadata": {},
     "output_type": "execute_result"
    }
   ],
   "source": [
    "chars.iloc[292, ]"
   ]
  },
  {
   "cell_type": "markdown",
   "id": "moving-business",
   "metadata": {},
   "source": [
    "We can also set a column as an \"index,\" and then select rows based on the index. Right now that's hard to demonstrate, because there is no index on this dataframe other than the integer sequence of rows. So ```.loc[]``` will behave just like ```.iloc[]``` (Test it if you don't believe me.) But we can also set another column as the index. For instance, character id."
   ]
  },
  {
   "cell_type": "code",
   "execution_count": 8,
   "id": "smooth-blowing",
   "metadata": {},
   "outputs": [
    {
     "data": {
      "text/html": [
       "<div>\n",
       "<style scoped>\n",
       "    .dataframe tbody tr th:only-of-type {\n",
       "        vertical-align: middle;\n",
       "    }\n",
       "\n",
       "    .dataframe tbody tr th {\n",
       "        vertical-align: top;\n",
       "    }\n",
       "\n",
       "    .dataframe thead th {\n",
       "        text-align: right;\n",
       "    }\n",
       "</style>\n",
       "<table border=\"1\" class=\"dataframe\">\n",
       "  <thead>\n",
       "    <tr style=\"text-align: right;\">\n",
       "      <th></th>\n",
       "      <th>mid</th>\n",
       "      <th>cname</th>\n",
       "      <th>mname</th>\n",
       "      <th>gender</th>\n",
       "      <th>wordcount</th>\n",
       "      <th>year</th>\n",
       "      <th>genres</th>\n",
       "      <th>comedy</th>\n",
       "      <th>thriller</th>\n",
       "      <th>drama</th>\n",
       "      <th>romance</th>\n",
       "      <th>lines</th>\n",
       "    </tr>\n",
       "    <tr>\n",
       "      <th>cid</th>\n",
       "      <th></th>\n",
       "      <th></th>\n",
       "      <th></th>\n",
       "      <th></th>\n",
       "      <th></th>\n",
       "      <th></th>\n",
       "      <th></th>\n",
       "      <th></th>\n",
       "      <th></th>\n",
       "      <th></th>\n",
       "      <th></th>\n",
       "      <th></th>\n",
       "    </tr>\n",
       "  </thead>\n",
       "  <tbody>\n",
       "    <tr>\n",
       "      <th>u6646</th>\n",
       "      <td>m444</td>\n",
       "      <td>COSMO</td>\n",
       "      <td>moonstruck</td>\n",
       "      <td>m</td>\n",
       "      <td>396</td>\n",
       "      <td>1987</td>\n",
       "      <td>['comedy', 'romance', 'drama']</td>\n",
       "      <td>True</td>\n",
       "      <td>False</td>\n",
       "      <td>True</td>\n",
       "      <td>True</td>\n",
       "      <td>A man... under stands one day... that his life...</td>\n",
       "    </tr>\n",
       "    <tr>\n",
       "      <th>u4791</th>\n",
       "      <td>m319</td>\n",
       "      <td>HANOVER</td>\n",
       "      <td>deep rising</td>\n",
       "      <td>m</td>\n",
       "      <td>262</td>\n",
       "      <td>1998</td>\n",
       "      <td>['action', 'horror', 'sci-fi', 'thriller']</td>\n",
       "      <td>False</td>\n",
       "      <td>True</td>\n",
       "      <td>False</td>\n",
       "      <td>False</td>\n",
       "      <td>Maybe we lost them. / You trying to take over ...</td>\n",
       "    </tr>\n",
       "    <tr>\n",
       "      <th>u8131</th>\n",
       "      <td>m552</td>\n",
       "      <td>ELAINE</td>\n",
       "      <td>the limey</td>\n",
       "      <td>f</td>\n",
       "      <td>1152</td>\n",
       "      <td>1999</td>\n",
       "      <td>['crime', 'drama', 'mystery', 'thriller']</td>\n",
       "      <td>False</td>\n",
       "      <td>True</td>\n",
       "      <td>True</td>\n",
       "      <td>False</td>\n",
       "      <td>I'd rather be with him than without him. I don...</td>\n",
       "    </tr>\n",
       "    <tr>\n",
       "      <th>u1422</th>\n",
       "      <td>m95</td>\n",
       "      <td>EMMA</td>\n",
       "      <td>i am legend</td>\n",
       "      <td>f</td>\n",
       "      <td>248</td>\n",
       "      <td>2007</td>\n",
       "      <td>['drama', 'sci-fi', 'thriller']</td>\n",
       "      <td>False</td>\n",
       "      <td>True</td>\n",
       "      <td>True</td>\n",
       "      <td>False</td>\n",
       "      <td>You have to go.  He'll never stop. Leave this ...</td>\n",
       "    </tr>\n",
       "    <tr>\n",
       "      <th>u8960</th>\n",
       "      <td>m610</td>\n",
       "      <td>TIN MAN</td>\n",
       "      <td>the wizard of oz</td>\n",
       "      <td>m</td>\n",
       "      <td>668</td>\n",
       "      <td>1939</td>\n",
       "      <td>['adventure', 'family', 'fantasy', 'musical']</td>\n",
       "      <td>False</td>\n",
       "      <td>False</td>\n",
       "      <td>False</td>\n",
       "      <td>False</td>\n",
       "      <td>Now I know I've got a heart -- 'cause it's bre...</td>\n",
       "    </tr>\n",
       "  </tbody>\n",
       "</table>\n",
       "</div>"
      ],
      "text/plain": [
       "        mid    cname             mname gender  wordcount  year  \\\n",
       "cid                                                              \n",
       "u6646  m444    COSMO        moonstruck      m        396  1987   \n",
       "u4791  m319  HANOVER       deep rising      m        262  1998   \n",
       "u8131  m552   ELAINE         the limey      f       1152  1999   \n",
       "u1422   m95     EMMA       i am legend      f        248  2007   \n",
       "u8960  m610  TIN MAN  the wizard of oz      m        668  1939   \n",
       "\n",
       "                                              genres  comedy  thriller  drama  \\\n",
       "cid                                                                             \n",
       "u6646                 ['comedy', 'romance', 'drama']    True     False   True   \n",
       "u4791     ['action', 'horror', 'sci-fi', 'thriller']   False      True  False   \n",
       "u8131      ['crime', 'drama', 'mystery', 'thriller']   False      True   True   \n",
       "u1422                ['drama', 'sci-fi', 'thriller']   False      True   True   \n",
       "u8960  ['adventure', 'family', 'fantasy', 'musical']   False     False  False   \n",
       "\n",
       "       romance                                              lines  \n",
       "cid                                                                \n",
       "u6646     True  A man... under stands one day... that his life...  \n",
       "u4791    False  Maybe we lost them. / You trying to take over ...  \n",
       "u8131    False  I'd rather be with him than without him. I don...  \n",
       "u1422    False  You have to go.  He'll never stop. Leave this ...  \n",
       "u8960    False  Now I know I've got a heart -- 'cause it's bre...  "
      ]
     },
     "execution_count": 8,
     "metadata": {},
     "output_type": "execute_result"
    }
   ],
   "source": [
    "chars = chars.set_index('cid')\n",
    "chars.head()"
   ]
  },
  {
   "cell_type": "markdown",
   "id": "realistic-county",
   "metadata": {},
   "source": [
    "Now notice what happens when we pass a list of character ids"
   ]
  },
  {
   "cell_type": "code",
   "execution_count": 9,
   "id": "further-madness",
   "metadata": {},
   "outputs": [
    {
     "data": {
      "text/html": [
       "<div>\n",
       "<style scoped>\n",
       "    .dataframe tbody tr th:only-of-type {\n",
       "        vertical-align: middle;\n",
       "    }\n",
       "\n",
       "    .dataframe tbody tr th {\n",
       "        vertical-align: top;\n",
       "    }\n",
       "\n",
       "    .dataframe thead th {\n",
       "        text-align: right;\n",
       "    }\n",
       "</style>\n",
       "<table border=\"1\" class=\"dataframe\">\n",
       "  <thead>\n",
       "    <tr style=\"text-align: right;\">\n",
       "      <th></th>\n",
       "      <th>mid</th>\n",
       "      <th>cname</th>\n",
       "      <th>mname</th>\n",
       "      <th>gender</th>\n",
       "      <th>wordcount</th>\n",
       "      <th>year</th>\n",
       "      <th>genres</th>\n",
       "      <th>comedy</th>\n",
       "      <th>thriller</th>\n",
       "      <th>drama</th>\n",
       "      <th>romance</th>\n",
       "      <th>lines</th>\n",
       "    </tr>\n",
       "    <tr>\n",
       "      <th>cid</th>\n",
       "      <th></th>\n",
       "      <th></th>\n",
       "      <th></th>\n",
       "      <th></th>\n",
       "      <th></th>\n",
       "      <th></th>\n",
       "      <th></th>\n",
       "      <th></th>\n",
       "      <th></th>\n",
       "      <th></th>\n",
       "      <th></th>\n",
       "      <th></th>\n",
       "    </tr>\n",
       "  </thead>\n",
       "  <tbody>\n",
       "    <tr>\n",
       "      <th>u3681</th>\n",
       "      <td>m243</td>\n",
       "      <td>ALVY</td>\n",
       "      <td>annie hall</td>\n",
       "      <td>m</td>\n",
       "      <td>5853</td>\n",
       "      <td>1977</td>\n",
       "      <td>['comedy', 'drama', 'romance']</td>\n",
       "      <td>True</td>\n",
       "      <td>False</td>\n",
       "      <td>True</td>\n",
       "      <td>True</td>\n",
       "      <td>Your girl friend's name is Ralph? / You don't ...</td>\n",
       "    </tr>\n",
       "    <tr>\n",
       "      <th>u8858</th>\n",
       "      <td>m601</td>\n",
       "      <td>CAITLIN</td>\n",
       "      <td>what lies beneath</td>\n",
       "      <td>f</td>\n",
       "      <td>100</td>\n",
       "      <td>2000</td>\n",
       "      <td>['drama', 'horror', 'mystery', 'thriller']</td>\n",
       "      <td>False</td>\n",
       "      <td>True</td>\n",
       "      <td>True</td>\n",
       "      <td>False</td>\n",
       "      <td>Someone crying.  A girl.  I thought I was craz...</td>\n",
       "    </tr>\n",
       "  </tbody>\n",
       "</table>\n",
       "</div>"
      ],
      "text/plain": [
       "        mid    cname              mname gender  wordcount  year  \\\n",
       "cid                                                               \n",
       "u3681  m243     ALVY         annie hall      m       5853  1977   \n",
       "u8858  m601  CAITLIN  what lies beneath      f        100  2000   \n",
       "\n",
       "                                           genres  comedy  thriller  drama  \\\n",
       "cid                                                                          \n",
       "u3681              ['comedy', 'drama', 'romance']    True     False   True   \n",
       "u8858  ['drama', 'horror', 'mystery', 'thriller']   False      True   True   \n",
       "\n",
       "       romance                                              lines  \n",
       "cid                                                                \n",
       "u3681     True  Your girl friend's name is Ralph? / You don't ...  \n",
       "u8858    False  Someone crying.  A girl.  I thought I was craz...  "
      ]
     },
     "execution_count": 9,
     "metadata": {},
     "output_type": "execute_result"
    }
   ],
   "source": [
    "chars.loc[['u3681', 'u8858']]"
   ]
  },
  {
   "cell_type": "markdown",
   "id": "entire-chart",
   "metadata": {},
   "source": [
    "We can also select rows using a Boolean mask. For instance, suppose we create a list of length equal to the dataframe length, with all members of the list ```False```, except for two ```Trues.```"
   ]
  },
  {
   "cell_type": "code",
   "execution_count": 10,
   "id": "rental-technique",
   "metadata": {},
   "outputs": [
    {
     "name": "stdout",
     "output_type": "stream",
     "text": [
      "The length is  2969\n",
      "and the number of Trues is  2\n"
     ]
    }
   ],
   "source": [
    "mask = [False] * chars.shape[0]   # If it's not clear what this does, create a cell, and\n",
    "mask[130] = True                  # execute chars.shape. Then another cell, and \n",
    "mask[1030] = True                 # execute [True] * 4\n",
    "print('The length is ', len(mask))\n",
    "print('and the number of Trues is ', sum(mask))"
   ]
  },
  {
   "cell_type": "code",
   "execution_count": 11,
   "id": "neutral-newsletter",
   "metadata": {},
   "outputs": [
    {
     "data": {
      "text/html": [
       "<div>\n",
       "<style scoped>\n",
       "    .dataframe tbody tr th:only-of-type {\n",
       "        vertical-align: middle;\n",
       "    }\n",
       "\n",
       "    .dataframe tbody tr th {\n",
       "        vertical-align: top;\n",
       "    }\n",
       "\n",
       "    .dataframe thead th {\n",
       "        text-align: right;\n",
       "    }\n",
       "</style>\n",
       "<table border=\"1\" class=\"dataframe\">\n",
       "  <thead>\n",
       "    <tr style=\"text-align: right;\">\n",
       "      <th></th>\n",
       "      <th>mid</th>\n",
       "      <th>cname</th>\n",
       "      <th>mname</th>\n",
       "      <th>gender</th>\n",
       "      <th>wordcount</th>\n",
       "      <th>year</th>\n",
       "      <th>genres</th>\n",
       "      <th>comedy</th>\n",
       "      <th>thriller</th>\n",
       "      <th>drama</th>\n",
       "      <th>romance</th>\n",
       "      <th>lines</th>\n",
       "    </tr>\n",
       "    <tr>\n",
       "      <th>cid</th>\n",
       "      <th></th>\n",
       "      <th></th>\n",
       "      <th></th>\n",
       "      <th></th>\n",
       "      <th></th>\n",
       "      <th></th>\n",
       "      <th></th>\n",
       "      <th></th>\n",
       "      <th></th>\n",
       "      <th></th>\n",
       "      <th></th>\n",
       "      <th></th>\n",
       "    </tr>\n",
       "  </thead>\n",
       "  <tbody>\n",
       "    <tr>\n",
       "      <th>u6567</th>\n",
       "      <td>m436</td>\n",
       "      <td>NATALIE</td>\n",
       "      <td>memento</td>\n",
       "      <td>f</td>\n",
       "      <td>799</td>\n",
       "      <td>2000</td>\n",
       "      <td>['crime', 'drama', 'mystery', 'thriller']</td>\n",
       "      <td>False</td>\n",
       "      <td>True</td>\n",
       "      <td>True</td>\n",
       "      <td>False</td>\n",
       "      <td>I've got to get back for the evening shift, so...</td>\n",
       "    </tr>\n",
       "    <tr>\n",
       "      <th>u3944</th>\n",
       "      <td>m262</td>\n",
       "      <td>BRUCE</td>\n",
       "      <td>batman</td>\n",
       "      <td>m</td>\n",
       "      <td>648</td>\n",
       "      <td>1989</td>\n",
       "      <td>['crime', 'drama', 'thriller', 'action', 'adve...</td>\n",
       "      <td>False</td>\n",
       "      <td>True</td>\n",
       "      <td>True</td>\n",
       "      <td>False</td>\n",
       "      <td>If not for you I never would've made it. You k...</td>\n",
       "    </tr>\n",
       "  </tbody>\n",
       "</table>\n",
       "</div>"
      ],
      "text/plain": [
       "        mid    cname    mname gender  wordcount  year  \\\n",
       "cid                                                     \n",
       "u6567  m436  NATALIE  memento      f        799  2000   \n",
       "u3944  m262    BRUCE   batman      m        648  1989   \n",
       "\n",
       "                                                  genres  comedy  thriller  \\\n",
       "cid                                                                          \n",
       "u6567          ['crime', 'drama', 'mystery', 'thriller']   False      True   \n",
       "u3944  ['crime', 'drama', 'thriller', 'action', 'adve...   False      True   \n",
       "\n",
       "       drama  romance                                              lines  \n",
       "cid                                                                       \n",
       "u6567   True    False  I've got to get back for the evening shift, so...  \n",
       "u3944   True    False  If not for you I never would've made it. You k...  "
      ]
     },
     "execution_count": 11,
     "metadata": {},
     "output_type": "execute_result"
    }
   ],
   "source": [
    "chars[mask]"
   ]
  },
  {
   "cell_type": "markdown",
   "id": "statistical-uniform",
   "metadata": {},
   "source": [
    "In this example, the Boolean mask is just a silly way of doing the same thing as ```chars.iloc[[130, 1030]]```. But there are also ways to use the mask where it becomes genuinely useful."
   ]
  },
  {
   "cell_type": "code",
   "execution_count": 12,
   "id": "equal-retro",
   "metadata": {},
   "outputs": [
    {
     "data": {
      "text/html": [
       "<div>\n",
       "<style scoped>\n",
       "    .dataframe tbody tr th:only-of-type {\n",
       "        vertical-align: middle;\n",
       "    }\n",
       "\n",
       "    .dataframe tbody tr th {\n",
       "        vertical-align: top;\n",
       "    }\n",
       "\n",
       "    .dataframe thead th {\n",
       "        text-align: right;\n",
       "    }\n",
       "</style>\n",
       "<table border=\"1\" class=\"dataframe\">\n",
       "  <thead>\n",
       "    <tr style=\"text-align: right;\">\n",
       "      <th></th>\n",
       "      <th>mid</th>\n",
       "      <th>cname</th>\n",
       "      <th>mname</th>\n",
       "      <th>gender</th>\n",
       "      <th>wordcount</th>\n",
       "      <th>year</th>\n",
       "      <th>genres</th>\n",
       "      <th>comedy</th>\n",
       "      <th>thriller</th>\n",
       "      <th>drama</th>\n",
       "      <th>romance</th>\n",
       "      <th>lines</th>\n",
       "    </tr>\n",
       "    <tr>\n",
       "      <th>cid</th>\n",
       "      <th></th>\n",
       "      <th></th>\n",
       "      <th></th>\n",
       "      <th></th>\n",
       "      <th></th>\n",
       "      <th></th>\n",
       "      <th></th>\n",
       "      <th></th>\n",
       "      <th></th>\n",
       "      <th></th>\n",
       "      <th></th>\n",
       "      <th></th>\n",
       "    </tr>\n",
       "  </thead>\n",
       "  <tbody>\n",
       "    <tr>\n",
       "      <th>u8864</th>\n",
       "      <td>m601</td>\n",
       "      <td>MRS. FEUR</td>\n",
       "      <td>what lies beneath</td>\n",
       "      <td>f</td>\n",
       "      <td>240</td>\n",
       "      <td>2000</td>\n",
       "      <td>['drama', 'horror', 'mystery', 'thriller']</td>\n",
       "      <td>False</td>\n",
       "      <td>True</td>\n",
       "      <td>True</td>\n",
       "      <td>False</td>\n",
       "      <td>I'm sorry that I frightened you like that.  Bu...</td>\n",
       "    </tr>\n",
       "    <tr>\n",
       "      <th>u8859</th>\n",
       "      <td>m601</td>\n",
       "      <td>CLAIRE</td>\n",
       "      <td>what lies beneath</td>\n",
       "      <td>f</td>\n",
       "      <td>1965</td>\n",
       "      <td>2000</td>\n",
       "      <td>['drama', 'horror', 'mystery', 'thriller']</td>\n",
       "      <td>False</td>\n",
       "      <td>True</td>\n",
       "      <td>True</td>\n",
       "      <td>False</td>\n",
       "      <td>Then we both are. / What? / Did you? / I start...</td>\n",
       "    </tr>\n",
       "    <tr>\n",
       "      <th>u8862</th>\n",
       "      <td>m601</td>\n",
       "      <td>JODY</td>\n",
       "      <td>what lies beneath</td>\n",
       "      <td>f</td>\n",
       "      <td>630</td>\n",
       "      <td>2000</td>\n",
       "      <td>['drama', 'horror', 'mystery', 'thriller']</td>\n",
       "      <td>False</td>\n",
       "      <td>True</td>\n",
       "      <td>True</td>\n",
       "      <td>False</td>\n",
       "      <td>Trust me, Claire.  You hear something... chang...</td>\n",
       "    </tr>\n",
       "    <tr>\n",
       "      <th>u8867</th>\n",
       "      <td>m601</td>\n",
       "      <td>NORMAN</td>\n",
       "      <td>what lies beneath</td>\n",
       "      <td>m</td>\n",
       "      <td>1169</td>\n",
       "      <td>2000</td>\n",
       "      <td>['drama', 'horror', 'mystery', 'thriller']</td>\n",
       "      <td>False</td>\n",
       "      <td>True</td>\n",
       "      <td>True</td>\n",
       "      <td>False</td>\n",
       "      <td>What? / Shhhh. / IT'S TRUE.  That's...you have...</td>\n",
       "    </tr>\n",
       "    <tr>\n",
       "      <th>u8860</th>\n",
       "      <td>m601</td>\n",
       "      <td>DR. DRAYTON</td>\n",
       "      <td>what lies beneath</td>\n",
       "      <td>m</td>\n",
       "      <td>141</td>\n",
       "      <td>2000</td>\n",
       "      <td>['drama', 'horror', 'mystery', 'thriller']</td>\n",
       "      <td>False</td>\n",
       "      <td>True</td>\n",
       "      <td>True</td>\n",
       "      <td>False</td>\n",
       "      <td>That can't feel good. / What? / You were in an...</td>\n",
       "    </tr>\n",
       "    <tr>\n",
       "      <th>u8858</th>\n",
       "      <td>m601</td>\n",
       "      <td>CAITLIN</td>\n",
       "      <td>what lies beneath</td>\n",
       "      <td>f</td>\n",
       "      <td>100</td>\n",
       "      <td>2000</td>\n",
       "      <td>['drama', 'horror', 'mystery', 'thriller']</td>\n",
       "      <td>False</td>\n",
       "      <td>True</td>\n",
       "      <td>True</td>\n",
       "      <td>False</td>\n",
       "      <td>Someone crying.  A girl.  I thought I was craz...</td>\n",
       "    </tr>\n",
       "  </tbody>\n",
       "</table>\n",
       "</div>"
      ],
      "text/plain": [
       "        mid        cname              mname gender  wordcount  year  \\\n",
       "cid                                                                   \n",
       "u8864  m601    MRS. FEUR  what lies beneath      f        240  2000   \n",
       "u8859  m601       CLAIRE  what lies beneath      f       1965  2000   \n",
       "u8862  m601         JODY  what lies beneath      f        630  2000   \n",
       "u8867  m601       NORMAN  what lies beneath      m       1169  2000   \n",
       "u8860  m601  DR. DRAYTON  what lies beneath      m        141  2000   \n",
       "u8858  m601      CAITLIN  what lies beneath      f        100  2000   \n",
       "\n",
       "                                           genres  comedy  thriller  drama  \\\n",
       "cid                                                                          \n",
       "u8864  ['drama', 'horror', 'mystery', 'thriller']   False      True   True   \n",
       "u8859  ['drama', 'horror', 'mystery', 'thriller']   False      True   True   \n",
       "u8862  ['drama', 'horror', 'mystery', 'thriller']   False      True   True   \n",
       "u8867  ['drama', 'horror', 'mystery', 'thriller']   False      True   True   \n",
       "u8860  ['drama', 'horror', 'mystery', 'thriller']   False      True   True   \n",
       "u8858  ['drama', 'horror', 'mystery', 'thriller']   False      True   True   \n",
       "\n",
       "       romance                                              lines  \n",
       "cid                                                                \n",
       "u8864    False  I'm sorry that I frightened you like that.  Bu...  \n",
       "u8859    False  Then we both are. / What? / Did you? / I start...  \n",
       "u8862    False  Trust me, Claire.  You hear something... chang...  \n",
       "u8867    False  What? / Shhhh. / IT'S TRUE.  That's...you have...  \n",
       "u8860    False  That can't feel good. / What? / You were in an...  \n",
       "u8858    False  Someone crying.  A girl.  I thought I was craz...  "
      ]
     },
     "execution_count": 12,
     "metadata": {},
     "output_type": "execute_result"
    }
   ],
   "source": [
    "chars[chars['mname'] == 'what lies beneath']"
   ]
  },
  {
   "cell_type": "markdown",
   "id": "labeled-movement",
   "metadata": {},
   "source": [
    "The comparison operator ```==``` will test every member of the column ```mname``` and return True in cases where the expressions is true. Note that comparisons only *broadcast* across lists this way if you're working with pandas columns and numpy arrays. Broadcasting doesn't work with basic Python lists; it will always return False, because a list is not *the same thing as* a single element."
   ]
  },
  {
   "cell_type": "code",
   "execution_count": 13,
   "id": "upper-coordinator",
   "metadata": {},
   "outputs": [
    {
     "data": {
      "text/plain": [
       "False"
      ]
     },
     "execution_count": 13,
     "metadata": {},
     "output_type": "execute_result"
    }
   ],
   "source": [
    "fruit_list = ['apple', 'orange', 'apple']\n",
    "fruit_list == 'apple'"
   ]
  },
  {
   "cell_type": "code",
   "execution_count": 14,
   "id": "actual-sheet",
   "metadata": {},
   "outputs": [
    {
     "data": {
      "text/plain": [
       "0     True\n",
       "1    False\n",
       "2     True\n",
       "dtype: bool"
      ]
     },
     "execution_count": 14,
     "metadata": {},
     "output_type": "execute_result"
    }
   ],
   "source": [
    "fruit_series = pd.Series(['apple', 'orange', 'apple'])\n",
    "fruit_series == 'apple'"
   ]
  },
  {
   "cell_type": "markdown",
   "id": "settled-mercury",
   "metadata": {},
   "source": [
    "The columns in a pandas DataFrame are each a pandas Series; that's why you can use comparisons to create Boolean masks."
   ]
  },
  {
   "cell_type": "markdown",
   "id": "listed-flood",
   "metadata": {},
   "source": [
    "#### Exercise for you to try at home\n",
    "\n",
    "Create a list of all the movie titles that are comedies. The list should only include *unique* values; we don't need six copies of 'airplane!'"
   ]
  },
  {
   "cell_type": "code",
   "execution_count": 15,
   "id": "played-admission",
   "metadata": {},
   "outputs": [
    {
     "data": {
      "text/plain": [
       "array(['moonstruck', 'happy birthday, wanda june', 'get shorty',\n",
       "       'hannah and her sisters', 'game 6', 'even cowgirls get the blues',\n",
       "       'nurse betty', 'harold and maude', 'jerry maguire',\n",
       "       'sugar & spice', 'high fidelity', 'dark star',\n",
       "       'dr. strangelove or: how i learned to stop worrying and love the bomb',\n",
       "       'only you', 'ghost world', 'trouble in paradise', 'notting hill',\n",
       "       'sleepless in seattle', 'wonder boys', 'the apartment',\n",
       "       'the sting', 'erik the viking', 'birthday girl',\n",
       "       'who framed roger rabbit', 'the lost boys', 'pretty woman',\n",
       "       'smoke', 'south park: bigger longer & uncut',\n",
       "       'intolerable cruelty', 'crime spree', 'rush hour', 'ninotchka',\n",
       "       'the rocky horror picture show', 'shock treatment', 'out of sight',\n",
       "       'meet john doe', 'toy story', 'chill factor', 'fletch',\n",
       "       'buffy the vampire slayer', 'beavis and butt-head do america',\n",
       "       'annie hall', 'punch-drunk love', 'blast from the past',\n",
       "       \"a hard day's night\", 'very bad things', 'airplane ii: the sequel',\n",
       "       'star trek iv: the voyage home', 'an american werewolf in paris',\n",
       "       'the anniversary party', 'happy campers', 'my girl 2', 'my girl',\n",
       "       'pleasantville', 'suburbia', 'rush hour 2', 'his girl friday',\n",
       "       'lake placid', 'bull durham', 'fast times at ridgemont high',\n",
       "       'edtv', 'detroit rock city', 'ghostbusters', 'galaxy quest',\n",
       "       'hero', 'innerspace', 'election', 'the hebrew hammer',\n",
       "       'the devil and daniel webster', 'being there', 'runaway bride',\n",
       "       'shakespeare in love', 'the thin man', 'dave',\n",
       "       'nuovo cinema paradiso', 'the adventures of ford fairlane',\n",
       "       'beetle juice', 'as good as it gets', 'human nature', 'duck soup',\n",
       "       'the graduate', 'superman iii',\n",
       "       'austin powers: international man of mystery', 'platinum blonde',\n",
       "       'state and main', 'the princess bride', 'grosse pointe blank',\n",
       "       'sister act', 'peggy sue got married', 'bean', 'bamboozled',\n",
       "       'american pie', \"my best friend's wedding\", 'drop dead gorgeous',\n",
       "       'the hudsucker proxy', 'o brother, where art thou?',\n",
       "       'some like it hot', 'slither', 'made', 'kafka', 'sideways',\n",
       "       'a bucket of blood', \"who's your daddy?\",\n",
       "       'transatlantic merry-go-round', 'monkeybone', 'men in black',\n",
       "       'dumb and dumberer: when harry met lloyd', '48 hrs.', 'feast',\n",
       "       'mr. deeds goes to town', 'being john malkovich', 'little nicky',\n",
       "       'wag the dog', 'swingers', 'tremors', 'young frankenstein',\n",
       "       'clerks.', 'bottle rocket', 'slash', 'shallow grave',\n",
       "       'the fisher king', 'monty python and the holy grail',\n",
       "       'the family man', 'legally blonde', 'mash',\n",
       "       \"there's something about mary\", 'juno', 'storytelling',\n",
       "       'ghostbusters ii', 'never been kissed', 'ed wood', 'mumford',\n",
       "       'smokey and the bandit', 'metro', 'it happened one night',\n",
       "       'hudson hawk', 'the producers', 'say anything...',\n",
       "       'the wedding date', 'man on the moon', 'charade', 'next friday',\n",
       "       'three kings', 'serial mom', 'broadcast news',\n",
       "       '10 things i hate about you', 'stepmom', 'the big lebowski',\n",
       "       'bachelor party', 'wild wild west', 'scary movie 2', 'mystery men',\n",
       "       'heathers', 'antz',\n",
       "       'the adventures of buckaroo banzai across the 8th dimension',\n",
       "       'jason lives: friday the 13th part vi', 'airplane!'], dtype=object)"
      ]
     },
     "execution_count": 15,
     "metadata": {},
     "output_type": "execute_result"
    }
   ],
   "source": [
    "chars.loc[chars['comedy'] == True, 'mname'].unique()"
   ]
  },
  {
   "cell_type": "markdown",
   "id": "false-salmon",
   "metadata": {},
   "source": [
    "## B. Now let's create some models of film dialogue!\n",
    "\n",
    "Because we've explored Naive Bayes models, I'm going to use that function in the examples that follow. But if you're disappointed with the accuracy we're getting, rest assured that it's possible to do better once we learn fancier algorithms.\n",
    "\n",
    "We're going to be using raw word frequencies as predictive features.\n",
    "\n",
    "So first we need to create a dataframe that stores the wordcounts for each character."
   ]
  },
  {
   "cell_type": "code",
   "execution_count": 16,
   "id": "conceptual-handle",
   "metadata": {},
   "outputs": [
    {
     "data": {
      "text/html": [
       "<div>\n",
       "<style scoped>\n",
       "    .dataframe tbody tr th:only-of-type {\n",
       "        vertical-align: middle;\n",
       "    }\n",
       "\n",
       "    .dataframe tbody tr th {\n",
       "        vertical-align: top;\n",
       "    }\n",
       "\n",
       "    .dataframe thead th {\n",
       "        text-align: right;\n",
       "    }\n",
       "</style>\n",
       "<table border=\"1\" class=\"dataframe\">\n",
       "  <thead>\n",
       "    <tr style=\"text-align: right;\">\n",
       "      <th></th>\n",
       "      <th>00</th>\n",
       "      <th>000</th>\n",
       "      <th>10</th>\n",
       "      <th>100</th>\n",
       "      <th>1000</th>\n",
       "      <th>11</th>\n",
       "      <th>12</th>\n",
       "      <th>13</th>\n",
       "      <th>14</th>\n",
       "      <th>15</th>\n",
       "      <th>...</th>\n",
       "      <th>yuh</th>\n",
       "      <th>yup</th>\n",
       "      <th>yuppie</th>\n",
       "      <th>zack</th>\n",
       "      <th>zero</th>\n",
       "      <th>zip</th>\n",
       "      <th>zoe</th>\n",
       "      <th>zone</th>\n",
       "      <th>zoo</th>\n",
       "      <th>zuzu</th>\n",
       "    </tr>\n",
       "  </thead>\n",
       "  <tbody>\n",
       "    <tr>\n",
       "      <th>u6646</th>\n",
       "      <td>0</td>\n",
       "      <td>0</td>\n",
       "      <td>0</td>\n",
       "      <td>0</td>\n",
       "      <td>0</td>\n",
       "      <td>0</td>\n",
       "      <td>0</td>\n",
       "      <td>0</td>\n",
       "      <td>0</td>\n",
       "      <td>0</td>\n",
       "      <td>...</td>\n",
       "      <td>0</td>\n",
       "      <td>0</td>\n",
       "      <td>0</td>\n",
       "      <td>0</td>\n",
       "      <td>0</td>\n",
       "      <td>0</td>\n",
       "      <td>0</td>\n",
       "      <td>0</td>\n",
       "      <td>0</td>\n",
       "      <td>0</td>\n",
       "    </tr>\n",
       "    <tr>\n",
       "      <th>u4791</th>\n",
       "      <td>0</td>\n",
       "      <td>0</td>\n",
       "      <td>0</td>\n",
       "      <td>0</td>\n",
       "      <td>0</td>\n",
       "      <td>0</td>\n",
       "      <td>0</td>\n",
       "      <td>0</td>\n",
       "      <td>0</td>\n",
       "      <td>0</td>\n",
       "      <td>...</td>\n",
       "      <td>0</td>\n",
       "      <td>0</td>\n",
       "      <td>0</td>\n",
       "      <td>0</td>\n",
       "      <td>0</td>\n",
       "      <td>0</td>\n",
       "      <td>0</td>\n",
       "      <td>0</td>\n",
       "      <td>0</td>\n",
       "      <td>0</td>\n",
       "    </tr>\n",
       "    <tr>\n",
       "      <th>u8131</th>\n",
       "      <td>0</td>\n",
       "      <td>0</td>\n",
       "      <td>0</td>\n",
       "      <td>0</td>\n",
       "      <td>0</td>\n",
       "      <td>0</td>\n",
       "      <td>0</td>\n",
       "      <td>0</td>\n",
       "      <td>0</td>\n",
       "      <td>0</td>\n",
       "      <td>...</td>\n",
       "      <td>0</td>\n",
       "      <td>0</td>\n",
       "      <td>0</td>\n",
       "      <td>0</td>\n",
       "      <td>0</td>\n",
       "      <td>0</td>\n",
       "      <td>0</td>\n",
       "      <td>0</td>\n",
       "      <td>0</td>\n",
       "      <td>0</td>\n",
       "    </tr>\n",
       "    <tr>\n",
       "      <th>u1422</th>\n",
       "      <td>0</td>\n",
       "      <td>0</td>\n",
       "      <td>0</td>\n",
       "      <td>0</td>\n",
       "      <td>0</td>\n",
       "      <td>0</td>\n",
       "      <td>0</td>\n",
       "      <td>0</td>\n",
       "      <td>0</td>\n",
       "      <td>0</td>\n",
       "      <td>...</td>\n",
       "      <td>0</td>\n",
       "      <td>0</td>\n",
       "      <td>0</td>\n",
       "      <td>0</td>\n",
       "      <td>0</td>\n",
       "      <td>0</td>\n",
       "      <td>0</td>\n",
       "      <td>0</td>\n",
       "      <td>0</td>\n",
       "      <td>0</td>\n",
       "    </tr>\n",
       "    <tr>\n",
       "      <th>u8960</th>\n",
       "      <td>0</td>\n",
       "      <td>0</td>\n",
       "      <td>0</td>\n",
       "      <td>0</td>\n",
       "      <td>0</td>\n",
       "      <td>0</td>\n",
       "      <td>0</td>\n",
       "      <td>0</td>\n",
       "      <td>0</td>\n",
       "      <td>0</td>\n",
       "      <td>...</td>\n",
       "      <td>0</td>\n",
       "      <td>0</td>\n",
       "      <td>0</td>\n",
       "      <td>0</td>\n",
       "      <td>0</td>\n",
       "      <td>0</td>\n",
       "      <td>0</td>\n",
       "      <td>0</td>\n",
       "      <td>0</td>\n",
       "      <td>0</td>\n",
       "    </tr>\n",
       "  </tbody>\n",
       "</table>\n",
       "<p>5 rows × 8000 columns</p>\n",
       "</div>"
      ],
      "text/plain": [
       "       00  000  10  100  1000  11  12  13  14  15  ...  yuh  yup  yuppie  \\\n",
       "u6646   0    0   0    0     0   0   0   0   0   0  ...    0    0       0   \n",
       "u4791   0    0   0    0     0   0   0   0   0   0  ...    0    0       0   \n",
       "u8131   0    0   0    0     0   0   0   0   0   0  ...    0    0       0   \n",
       "u1422   0    0   0    0     0   0   0   0   0   0  ...    0    0       0   \n",
       "u8960   0    0   0    0     0   0   0   0   0   0  ...    0    0       0   \n",
       "\n",
       "       zack  zero  zip  zoe  zone  zoo  zuzu  \n",
       "u6646     0     0    0    0     0    0     0  \n",
       "u4791     0     0    0    0     0    0     0  \n",
       "u8131     0     0    0    0     0    0     0  \n",
       "u1422     0     0    0    0     0    0     0  \n",
       "u8960     0     0    0    0     0    0     0  \n",
       "\n",
       "[5 rows x 8000 columns]"
      ]
     },
     "execution_count": 16,
     "metadata": {},
     "output_type": "execute_result"
    }
   ],
   "source": [
    "if 'cid' in chars.columns:         \n",
    "    character_ids = chars['cid']\n",
    "    chars = chars.set_index('cid')   # If we haven't made this the index yet, let's do it.\n",
    "else:\n",
    "    character_ids = chars.index.tolist()\n",
    "\n",
    "vectorizer = CountVectorizer(max_features = 8000)\n",
    "sparse_counts = vectorizer.fit_transform(chars['lines']) # the vectorizer produces something\n",
    "                                                               # called a 'sparse matrix'; we need to\n",
    "                                                               # unpack it\n",
    "wordcounts = pd.DataFrame(sparse_counts.toarray(), index = character_ids, \n",
    "                            columns = vectorizer.get_feature_names())\n",
    "wordcounts.head()"
   ]
  },
  {
   "cell_type": "markdown",
   "id": "unlimited-bristol",
   "metadata": {},
   "source": [
    "### Modeling comedic characters\n",
    "\n",
    "Let's start by building a model that distinguishes characters in comedies from other characters.\n",
    "\n",
    "Since we've got lots of variables, a regular linear model would overfit the data. So we'll need to distinguish our test set from a training set. Let's choose 600 random rows as a test set. The .sample() function will do this."
   ]
  },
  {
   "cell_type": "code",
   "execution_count": 17,
   "id": "stretch-membrane",
   "metadata": {},
   "outputs": [
    {
     "data": {
      "text/html": [
       "<div>\n",
       "<style scoped>\n",
       "    .dataframe tbody tr th:only-of-type {\n",
       "        vertical-align: middle;\n",
       "    }\n",
       "\n",
       "    .dataframe tbody tr th {\n",
       "        vertical-align: top;\n",
       "    }\n",
       "\n",
       "    .dataframe thead th {\n",
       "        text-align: right;\n",
       "    }\n",
       "</style>\n",
       "<table border=\"1\" class=\"dataframe\">\n",
       "  <thead>\n",
       "    <tr style=\"text-align: right;\">\n",
       "      <th></th>\n",
       "      <th>00</th>\n",
       "      <th>000</th>\n",
       "      <th>10</th>\n",
       "      <th>100</th>\n",
       "      <th>1000</th>\n",
       "      <th>11</th>\n",
       "      <th>12</th>\n",
       "      <th>13</th>\n",
       "      <th>14</th>\n",
       "      <th>15</th>\n",
       "      <th>...</th>\n",
       "      <th>yuh</th>\n",
       "      <th>yup</th>\n",
       "      <th>yuppie</th>\n",
       "      <th>zack</th>\n",
       "      <th>zero</th>\n",
       "      <th>zip</th>\n",
       "      <th>zoe</th>\n",
       "      <th>zone</th>\n",
       "      <th>zoo</th>\n",
       "      <th>zuzu</th>\n",
       "    </tr>\n",
       "  </thead>\n",
       "  <tbody>\n",
       "    <tr>\n",
       "      <th>u4385</th>\n",
       "      <td>0</td>\n",
       "      <td>0</td>\n",
       "      <td>0</td>\n",
       "      <td>0</td>\n",
       "      <td>0</td>\n",
       "      <td>0</td>\n",
       "      <td>0</td>\n",
       "      <td>0</td>\n",
       "      <td>0</td>\n",
       "      <td>0</td>\n",
       "      <td>...</td>\n",
       "      <td>0</td>\n",
       "      <td>0</td>\n",
       "      <td>0</td>\n",
       "      <td>0</td>\n",
       "      <td>0</td>\n",
       "      <td>0</td>\n",
       "      <td>0</td>\n",
       "      <td>0</td>\n",
       "      <td>0</td>\n",
       "      <td>0</td>\n",
       "    </tr>\n",
       "    <tr>\n",
       "      <th>u6039</th>\n",
       "      <td>0</td>\n",
       "      <td>0</td>\n",
       "      <td>0</td>\n",
       "      <td>0</td>\n",
       "      <td>0</td>\n",
       "      <td>0</td>\n",
       "      <td>0</td>\n",
       "      <td>0</td>\n",
       "      <td>0</td>\n",
       "      <td>0</td>\n",
       "      <td>...</td>\n",
       "      <td>0</td>\n",
       "      <td>0</td>\n",
       "      <td>0</td>\n",
       "      <td>0</td>\n",
       "      <td>0</td>\n",
       "      <td>0</td>\n",
       "      <td>0</td>\n",
       "      <td>0</td>\n",
       "      <td>0</td>\n",
       "      <td>1</td>\n",
       "    </tr>\n",
       "  </tbody>\n",
       "</table>\n",
       "<p>2 rows × 8000 columns</p>\n",
       "</div>"
      ],
      "text/plain": [
       "       00  000  10  100  1000  11  12  13  14  15  ...  yuh  yup  yuppie  \\\n",
       "u4385   0    0   0    0     0   0   0   0   0   0  ...    0    0       0   \n",
       "u6039   0    0   0    0     0   0   0   0   0   0  ...    0    0       0   \n",
       "\n",
       "       zack  zero  zip  zoe  zone  zoo  zuzu  \n",
       "u4385     0     0    0    0     0    0     0  \n",
       "u6039     0     0    0    0     0    0     1  \n",
       "\n",
       "[2 rows x 8000 columns]"
      ]
     },
     "execution_count": 17,
     "metadata": {},
     "output_type": "execute_result"
    }
   ],
   "source": [
    "test_X = wordcounts.sample(600)\n",
    "test_X.head(2)"
   ]
  },
  {
   "cell_type": "markdown",
   "id": "featured-possible",
   "metadata": {},
   "source": [
    "Notice that we have the character ids as index. That means we can select the 'comedy' columns for the same rows and make those test_y. "
   ]
  },
  {
   "cell_type": "code",
   "execution_count": 18,
   "id": "departmental-amino",
   "metadata": {},
   "outputs": [
    {
     "name": "stdout",
     "output_type": "stream",
     "text": [
      "The length of your test set is  600\n",
      "And of that group 172 are from a comedy.\n"
     ]
    }
   ],
   "source": [
    "test_characters = test_X.index.tolist()\n",
    "test_y = chars.loc[test_characters, 'comedy']\n",
    "\n",
    "print('The length of your test set is ', len(test_y))\n",
    "print('And of that group', sum(test_y), 'are from a comedy.')"
   ]
  },
  {
   "cell_type": "markdown",
   "id": "lesser-investigation",
   "metadata": {},
   "source": [
    "Note that right now we have these vales as Boolean trues and falses, but we want ones and zeroes. We can change that using ```.astype()```."
   ]
  },
  {
   "cell_type": "code",
   "execution_count": 19,
   "id": "continuing-livestock",
   "metadata": {},
   "outputs": [
    {
     "name": "stdout",
     "output_type": "stream",
     "text": [
      "cid\n",
      "u4385    False\n",
      "u6039    False\n",
      "u6793    False\n",
      "u6487    False\n",
      "u5345     True\n",
      "u4208    False\n",
      "u8450    False\n",
      "u7983     True\n",
      "u1786    False\n",
      "u7870     True\n",
      "Name: comedy, dtype: bool\n",
      "cid\n",
      "u4385    0\n",
      "u6039    0\n",
      "u6793    0\n",
      "u6487    0\n",
      "u5345    1\n",
      "u4208    0\n",
      "u8450    0\n",
      "u7983    1\n",
      "u1786    0\n",
      "u7870    1\n",
      "Name: comedy, dtype: int64\n"
     ]
    }
   ],
   "source": [
    "print(test_y[0:10])\n",
    "test_y = test_y.astype(int)\n",
    "print(test_y[0:10])"
   ]
  },
  {
   "cell_type": "markdown",
   "id": "suited-profit",
   "metadata": {},
   "source": [
    "Now we need a training set, which has everything not in the test set."
   ]
  },
  {
   "cell_type": "code",
   "execution_count": 20,
   "id": "adjacent-candle",
   "metadata": {},
   "outputs": [],
   "source": [
    "train_X = wordcounts.loc[~wordcounts.index.isin(test_characters), : ]\n",
    "\n",
    "# That's worth reading closely; I'm introducing the function 'isin()' which returns\n",
    "# true when an item in a Pandas series is in a collection (a set or list) included\n",
    "# in the parenthesis\n",
    "\n",
    "train_y = chars.loc[~chars.index.isin(test_characters), 'comedy'].astype(int)"
   ]
  },
  {
   "cell_type": "markdown",
   "id": "marked-brown",
   "metadata": {},
   "source": [
    "Now our task becomes simple. Create a bayesian modeler, fit it to our training set, then use that model to predict on the test set."
   ]
  },
  {
   "cell_type": "code",
   "execution_count": 21,
   "id": "weighted-mount",
   "metadata": {},
   "outputs": [
    {
     "data": {
      "text/plain": [
       "0.855"
      ]
     },
     "execution_count": 21,
     "metadata": {},
     "output_type": "execute_result"
    }
   ],
   "source": [
    "bayes = MultinomialNB(alpha = 1)\n",
    "bayes.fit(train_X, train_y)\n",
    "\n",
    "predictions = bayes.predict(test_X)\n",
    "sum(predictions == test_y) / len(test_y)"
   ]
  },
  {
   "cell_type": "markdown",
   "id": "downtown-combine",
   "metadata": {},
   "source": [
    "That's pretty high accuracy, but let's not get too excited. There are reasons to be a little suspicious here. Remember that characters come from movies. We randomly selected a test set of characters. None of those *characters* will be in the training set, but many characters *from the same movies* will be in the training set. And when two characters come from the same movie, vocabulary is likely to be similar. So our model might not be learning \"funny vocabulary\"; it might just be learning that references to \"Holy\" and \"Grail\" prove you're in a comedy."
   ]
  },
  {
   "cell_type": "markdown",
   "id": "cardiac-cuisine",
   "metadata": {},
   "source": [
    "### For a better test, let's separate train and test sets *by movie id*\n",
    "\n",
    "Here's what you need to do:\n",
    "\n",
    "    a) create a list of unique movie ids\n",
    "    b) randomly select a fifth of them (120) as a test set\n",
    "    c) find the character ids that correspond to that list of movies\n",
    "    d) then do everything else as above, except that you won't need to create the test set\n",
    "    by random sampling\n",
    "\n",
    "I'm going to help you with parts A & B because there's a little kink that complicates things."
   ]
  },
  {
   "cell_type": "code",
   "execution_count": 22,
   "id": "premium-stage",
   "metadata": {},
   "outputs": [
    {
     "data": {
      "text/plain": [
       "120"
      ]
     },
     "execution_count": 22,
     "metadata": {},
     "output_type": "execute_result"
    }
   ],
   "source": [
    "# Parts A & B: \n",
    "\n",
    "# random sampling unique values is a little tricky,\n",
    "# because the unique values are no longer a pandas series,\n",
    "# so you need a different random sampling function, like\n",
    "# 'random.sample()' from base Python.\n",
    "\n",
    "movies = set(chars['mid'])\n",
    "test_movies = random.sample(movies, 120)\n",
    "len(test_movies)"
   ]
  },
  {
   "cell_type": "code",
   "execution_count": 23,
   "id": "awful-complexity",
   "metadata": {},
   "outputs": [
    {
     "data": {
      "text/plain": [
       "(558, 8000)"
      ]
     },
     "execution_count": 23,
     "metadata": {},
     "output_type": "execute_result"
    }
   ],
   "source": [
    "test_characters = chars.loc[chars['mid'].isin(test_movies)].index\n",
    "test_X = wordcounts.loc[test_characters, :]\n",
    "test_X.shape"
   ]
  },
  {
   "cell_type": "code",
   "execution_count": 24,
   "id": "revolutionary-obligation",
   "metadata": {},
   "outputs": [],
   "source": [
    "test_y = chars.loc[test_characters, 'comedy'].astype(int)\n",
    "train_X = wordcounts.loc[~wordcounts.index.isin(test_characters), :]\n",
    "train_y = chars.loc[~chars.index.isin(test_characters), 'comedy'].astype(int)"
   ]
  },
  {
   "cell_type": "code",
   "execution_count": 25,
   "id": "chicken-federal",
   "metadata": {},
   "outputs": [
    {
     "data": {
      "text/plain": [
       "0.7365591397849462"
      ]
     },
     "execution_count": 25,
     "metadata": {},
     "output_type": "execute_result"
    }
   ],
   "source": [
    "bayes = MultinomialNB(alpha = 1)\n",
    "bayes.fit(train_X, train_y)\n",
    "\n",
    "predictions = bayes.predict(test_X)\n",
    "sum(predictions == test_y) / len(test_y)"
   ]
  },
  {
   "cell_type": "markdown",
   "id": "liked-radical",
   "metadata": {},
   "source": [
    "So we can *weakly* predict whether dialogue comes from a comedy, but not as well as we thought. Our earlier model was mostly learning to recognize a particular set of movies.\n",
    "\n",
    "Can we predict character gender? Here it's probably less crucial to separate test and training sets by movie id, because character gender does not correlate strongly with a limited set of movie ids. But let's test that empirically. First let's use our existing list of characters, divided by movie, keep the same train_X and test_X, and just convert train_y and test_y so we're learning to predict gender.\n",
    "\n",
    "Because gender is coded as 'm' and 'f,' not True and False, we'll need to write a function to convert genders to 1s and 0s."
   ]
  },
  {
   "cell_type": "code",
   "execution_count": 26,
   "id": "vocational-david",
   "metadata": {},
   "outputs": [],
   "source": [
    "def gendertonumber(astring):\n",
    "    if astring == 'f':\n",
    "        return 1\n",
    "    else:\n",
    "        return 0\n",
    "\n",
    "test_y = chars.loc[test_characters, 'gender'].map(gendertonumber)\n",
    "train_y = chars.loc[~chars.index.isin(test_characters), 'gender'].map(gendertonumber)"
   ]
  },
  {
   "cell_type": "code",
   "execution_count": 27,
   "id": "focused-xerox",
   "metadata": {},
   "outputs": [
    {
     "data": {
      "text/plain": [
       "0.7347670250896058"
      ]
     },
     "execution_count": 27,
     "metadata": {},
     "output_type": "execute_result"
    }
   ],
   "source": [
    "bayes = MultinomialNB(alpha = 1)\n",
    "bayes.fit(train_X, train_y)\n",
    "\n",
    "predictions = bayes.predict(test_X)\n",
    "sum(predictions == test_y) / len(test_y)"
   ]
  },
  {
   "cell_type": "markdown",
   "id": "collected-contributor",
   "metadata": {},
   "source": [
    "Gender is more predictable. What, I wonder, are the signals here?"
   ]
  },
  {
   "cell_type": "code",
   "execution_count": 28,
   "id": "corporate-wesley",
   "metadata": {},
   "outputs": [
    {
     "data": {
      "text/plain": [
       "bye        131\n",
       "cab         77\n",
       "cabin       32\n",
       "cabinet     14\n",
       "cable       31\n",
       "dtype: int64"
      ]
     },
     "execution_count": 28,
     "metadata": {},
     "output_type": "execute_result"
    }
   ],
   "source": [
    "masculine_counts = wordcounts.loc[chars['gender'] == 'm', : ].sum(axis = 'rows')\n",
    "masculine_counts[1000:1005]"
   ]
  },
  {
   "cell_type": "code",
   "execution_count": 29,
   "id": "liked-favorite",
   "metadata": {},
   "outputs": [
    {
     "data": {
      "text/plain": [
       "bye        106\n",
       "cab         28\n",
       "cabin       23\n",
       "cabinet      4\n",
       "cable       12\n",
       "dtype: int64"
      ]
     },
     "execution_count": 29,
     "metadata": {},
     "output_type": "execute_result"
    }
   ],
   "source": [
    "feminine_counts = wordcounts.loc[chars['gender'] == 'f', : ].sum(axis = 'rows')\n",
    "feminine_counts[1000:1005]"
   ]
  },
  {
   "cell_type": "markdown",
   "id": "junior-example",
   "metadata": {},
   "source": [
    "### Lab project 1: what do men and women sound like in the movies?\n",
    "\n",
    "Find words that are overrepresented in the movie dialogue of men and women.\n",
    "\n",
    "I recommend you start by normalizing the counts into frequencies, using the smoothing formula below.\n",
    "\n",
    "Then review Ben Schmidt's blog post about overrepresented words, and try both the \"ratio\" method and the \"subtraction\" method to compare ```masculine_freqs``` and ```feminine_freqs.```\n",
    "\n",
    "What do we learn? (PS: there's one aspect of this that I actually find jaw-droppingly weird. At first I thought it was an error.)"
   ]
  },
  {
   "cell_type": "code",
   "execution_count": 30,
   "id": "confident-screening",
   "metadata": {},
   "outputs": [],
   "source": [
    "# Normal Laplacian smothing would be +1 instead of +100\n",
    "# as I've done below. I'm using heavy smoothing for reasons\n",
    "# that will shortly become clear.\n",
    "\n",
    "smoothed_masc = masculine_counts + 100\n",
    "smoothed_femin = feminine_counts + 100\n",
    "\n",
    "# This is done in a slightly different way than we did it in class;\n",
    "# I take the sum of the smoothed counts, rather than the original vector.\n",
    "# That ensures that our ratios will be appropriately centered on 1.\n",
    "\n",
    "masculine_freqs = smoothed_masc / sum(smoothed_masc)\n",
    "feminine_freqs = smoothed_femin / sum(smoothed_femin)\n",
    "ratios = feminine_freqs / masculine_freqs\n",
    "ratios = ratios.sort_values()"
   ]
  },
  {
   "cell_type": "code",
   "execution_count": 31,
   "id": "temporal-senior",
   "metadata": {},
   "outputs": [
    {
     "data": {
      "text/plain": [
       "fuckin      0.309920\n",
       "ya          0.329052\n",
       "shit        0.402042\n",
       "man         0.411081\n",
       "gotta       0.411373\n",
       "hey         0.420027\n",
       "hell        0.437754\n",
       "ain         0.441101\n",
       "em          0.444957\n",
       "sir         0.447093\n",
       "fuck        0.452502\n",
       "kid         0.466968\n",
       "gonna       0.475302\n",
       "got         0.508516\n",
       "fucking     0.517366\n",
       "ass         0.523855\n",
       "yeah        0.530257\n",
       "business    0.538219\n",
       "we          0.544795\n",
       "the         0.549757\n",
       "ma          0.549817\n",
       "guy         0.550299\n",
       "on          0.552276\n",
       "two         0.554157\n",
       "captain     0.554381\n",
       "dtype: float64"
      ]
     },
     "execution_count": 31,
     "metadata": {},
     "output_type": "execute_result"
    }
   ],
   "source": [
    "ratios[0:25]"
   ]
  },
  {
   "cell_type": "code",
   "execution_count": 32,
   "id": "right-designer",
   "metadata": {},
   "outputs": [
    {
     "data": {
      "text/plain": [
       "brad        1.931263\n",
       "brenner     1.936850\n",
       "seymour     1.943645\n",
       "sandro      1.953126\n",
       "patrick     1.958644\n",
       "silly       1.958974\n",
       "mitch       1.969539\n",
       "channing    1.978657\n",
       "pregnant    1.982497\n",
       "nathan      1.992413\n",
       "joel        1.996120\n",
       "jeffrey     2.024895\n",
       "josh        2.030631\n",
       "scottie     2.042485\n",
       "thelma      2.055922\n",
       "darling     2.064489\n",
       "sailor      2.101789\n",
       "peter       2.104662\n",
       "dewey       2.114366\n",
       "caesar      2.122963\n",
       "benjamin    2.170140\n",
       "alvy        2.206657\n",
       "lombard     2.228081\n",
       "chauncey    2.295341\n",
       "agnes       2.670537\n",
       "dtype: float64"
      ]
     },
     "execution_count": 32,
     "metadata": {},
     "output_type": "execute_result"
    }
   ],
   "source": [
    "ratios[-25 : ]"
   ]
  },
  {
   "cell_type": "markdown",
   "id": "combined-office",
   "metadata": {},
   "source": [
    "### A better way to validate models\n",
    "\n",
    "In the lines above, we spent a lot of energy selecting test sets and training sets. We also didn't get a very stable measure of model accuracy, because our measure of accuracy depended entirely on a small subset of the data that we chose as the test set.\n",
    "\n",
    "It's better to *cross-validate* the model, by repeatedly holding out a different 1/5th (or 1/10th) of the data as the test set, and training on the remainder. If we hold out a different test set each time we can eventually test on all the data, without ever testing on data that was included in our training set.\n",
    "\n",
    "We could do this ourselves by writing a loop, but scikit-learn also comes with functions that do it for us automatically.\n",
    "\n",
    "In the lines below we cross-validate a model of comedy, while making sure that the data is grouped by movie-id. If you take out the last two arguments of the cross-validate function, you can do the same thing without grouping the data. **Why does the result change?**"
   ]
  },
  {
   "cell_type": "code",
   "execution_count": 33,
   "id": "funny-glance",
   "metadata": {},
   "outputs": [],
   "source": [
    "from sklearn.model_selection import cross_validate\n",
    "from sklearn.model_selection import GroupKFold\n",
    "from sklearn.model_selection import cross_val_predict"
   ]
  },
  {
   "cell_type": "code",
   "execution_count": 34,
   "id": "subjective-appeal",
   "metadata": {},
   "outputs": [
    {
     "data": {
      "text/plain": [
       "0.7150788378444366"
      ]
     },
     "execution_count": 34,
     "metadata": {},
     "output_type": "execute_result"
    }
   ],
   "source": [
    "all_y = chars['comedy'].astype(int)\n",
    "bayes = MultinomialNB(alpha = 1)\n",
    "grouper = GroupKFold(n_splits = 5)\n",
    "cv_results = cross_validate(bayes, wordcounts, all_y, groups = chars['mid'], cv = grouper)\n",
    "np.mean(cv_results['test_score'])"
   ]
  },
  {
   "cell_type": "markdown",
   "id": "weighted-soccer",
   "metadata": {},
   "source": [
    "### Collective accuracy is a blunt description. Can this tell us anything about individuals?\n",
    "\n",
    "Yes, maybe--with the proviso that we're only going to get very rough probabilistic indications. There's a lot of noise and error. But with that proviso, we can inquire, for instance, which characters *do or don't conform* to the overall gender norms of movie dialogue.\n",
    "\n",
    "We find this out by asking about the probabilities the model generates for individual characters, using the \"predict_proba\" method."
   ]
  },
  {
   "cell_type": "code",
   "execution_count": 35,
   "id": "inner-heath",
   "metadata": {},
   "outputs": [],
   "source": [
    "all_y = chars['gender'].map(gendertonumber)\n",
    "bayes = MultinomialNB(alpha = 1)\n",
    "grouper = GroupKFold(n_splits = 10)\n",
    "proba = cross_val_predict(bayes, wordcounts, all_y, groups = chars['mid'], cv = grouper, method='predict_proba')"
   ]
  },
  {
   "cell_type": "code",
   "execution_count": 36,
   "id": "cubic-pierce",
   "metadata": {},
   "outputs": [
    {
     "data": {
      "text/plain": [
       "[0.9999999726433092,\n",
       " 2.0039867685557543e-09,\n",
       " 0.9999583890275188,\n",
       " 0.9528820468703364,\n",
       " 0.9993692886401838,\n",
       " 0.02140361330041517,\n",
       " 0.6834654059199285,\n",
       " 6.647762227134741e-08,\n",
       " 0.9529904628145703,\n",
       " 0.0002312307736861089]"
      ]
     },
     "execution_count": 36,
     "metadata": {},
     "output_type": "execute_result"
    }
   ],
   "source": [
    "proba = [x[1] for x in proba]   # since 'f' is the positive class in this model\n",
    "proba[0:10]                     # we're interested in the predicted probability of being feminine"
   ]
  },
  {
   "cell_type": "markdown",
   "id": "demographic-stevens",
   "metadata": {},
   "source": [
    "Now we can map those predicted probabilities back onto the character dataset."
   ]
  },
  {
   "cell_type": "code",
   "execution_count": 37,
   "id": "western-helmet",
   "metadata": {},
   "outputs": [
    {
     "data": {
      "text/html": [
       "<div>\n",
       "<style scoped>\n",
       "    .dataframe tbody tr th:only-of-type {\n",
       "        vertical-align: middle;\n",
       "    }\n",
       "\n",
       "    .dataframe tbody tr th {\n",
       "        vertical-align: top;\n",
       "    }\n",
       "\n",
       "    .dataframe thead th {\n",
       "        text-align: right;\n",
       "    }\n",
       "</style>\n",
       "<table border=\"1\" class=\"dataframe\">\n",
       "  <thead>\n",
       "    <tr style=\"text-align: right;\">\n",
       "      <th></th>\n",
       "      <th>mid</th>\n",
       "      <th>cname</th>\n",
       "      <th>mname</th>\n",
       "      <th>gender</th>\n",
       "      <th>wordcount</th>\n",
       "      <th>year</th>\n",
       "      <th>genres</th>\n",
       "      <th>comedy</th>\n",
       "      <th>thriller</th>\n",
       "      <th>drama</th>\n",
       "      <th>romance</th>\n",
       "      <th>lines</th>\n",
       "      <th>error</th>\n",
       "    </tr>\n",
       "    <tr>\n",
       "      <th>cid</th>\n",
       "      <th></th>\n",
       "      <th></th>\n",
       "      <th></th>\n",
       "      <th></th>\n",
       "      <th></th>\n",
       "      <th></th>\n",
       "      <th></th>\n",
       "      <th></th>\n",
       "      <th></th>\n",
       "      <th></th>\n",
       "      <th></th>\n",
       "      <th></th>\n",
       "      <th></th>\n",
       "    </tr>\n",
       "  </thead>\n",
       "  <tbody>\n",
       "    <tr>\n",
       "      <th>u6646</th>\n",
       "      <td>m444</td>\n",
       "      <td>COSMO</td>\n",
       "      <td>moonstruck</td>\n",
       "      <td>m</td>\n",
       "      <td>396</td>\n",
       "      <td>1987</td>\n",
       "      <td>['comedy', 'romance', 'drama']</td>\n",
       "      <td>True</td>\n",
       "      <td>False</td>\n",
       "      <td>True</td>\n",
       "      <td>True</td>\n",
       "      <td>A man... under stands one day... that his life...</td>\n",
       "      <td>1.0000</td>\n",
       "    </tr>\n",
       "    <tr>\n",
       "      <th>u4791</th>\n",
       "      <td>m319</td>\n",
       "      <td>HANOVER</td>\n",
       "      <td>deep rising</td>\n",
       "      <td>m</td>\n",
       "      <td>262</td>\n",
       "      <td>1998</td>\n",
       "      <td>['action', 'horror', 'sci-fi', 'thriller']</td>\n",
       "      <td>False</td>\n",
       "      <td>True</td>\n",
       "      <td>False</td>\n",
       "      <td>False</td>\n",
       "      <td>Maybe we lost them. / You trying to take over ...</td>\n",
       "      <td>0.0000</td>\n",
       "    </tr>\n",
       "    <tr>\n",
       "      <th>u8131</th>\n",
       "      <td>m552</td>\n",
       "      <td>ELAINE</td>\n",
       "      <td>the limey</td>\n",
       "      <td>f</td>\n",
       "      <td>1152</td>\n",
       "      <td>1999</td>\n",
       "      <td>['crime', 'drama', 'mystery', 'thriller']</td>\n",
       "      <td>False</td>\n",
       "      <td>True</td>\n",
       "      <td>True</td>\n",
       "      <td>False</td>\n",
       "      <td>I'd rather be with him than without him. I don...</td>\n",
       "      <td>0.0000</td>\n",
       "    </tr>\n",
       "    <tr>\n",
       "      <th>u1422</th>\n",
       "      <td>m95</td>\n",
       "      <td>EMMA</td>\n",
       "      <td>i am legend</td>\n",
       "      <td>f</td>\n",
       "      <td>248</td>\n",
       "      <td>2007</td>\n",
       "      <td>['drama', 'sci-fi', 'thriller']</td>\n",
       "      <td>False</td>\n",
       "      <td>True</td>\n",
       "      <td>True</td>\n",
       "      <td>False</td>\n",
       "      <td>You have to go.  He'll never stop. Leave this ...</td>\n",
       "      <td>0.0471</td>\n",
       "    </tr>\n",
       "    <tr>\n",
       "      <th>u8960</th>\n",
       "      <td>m610</td>\n",
       "      <td>TIN MAN</td>\n",
       "      <td>the wizard of oz</td>\n",
       "      <td>m</td>\n",
       "      <td>668</td>\n",
       "      <td>1939</td>\n",
       "      <td>['adventure', 'family', 'fantasy', 'musical']</td>\n",
       "      <td>False</td>\n",
       "      <td>False</td>\n",
       "      <td>False</td>\n",
       "      <td>False</td>\n",
       "      <td>Now I know I've got a heart -- 'cause it's bre...</td>\n",
       "      <td>0.9994</td>\n",
       "    </tr>\n",
       "    <tr>\n",
       "      <th>...</th>\n",
       "      <td>...</td>\n",
       "      <td>...</td>\n",
       "      <td>...</td>\n",
       "      <td>...</td>\n",
       "      <td>...</td>\n",
       "      <td>...</td>\n",
       "      <td>...</td>\n",
       "      <td>...</td>\n",
       "      <td>...</td>\n",
       "      <td>...</td>\n",
       "      <td>...</td>\n",
       "      <td>...</td>\n",
       "      <td>...</td>\n",
       "    </tr>\n",
       "    <tr>\n",
       "      <th>u5452</th>\n",
       "      <td>m363</td>\n",
       "      <td>LILLIAN</td>\n",
       "      <td>game 6</td>\n",
       "      <td>f</td>\n",
       "      <td>165</td>\n",
       "      <td>2005</td>\n",
       "      <td>['comedy', 'drama', 'sport']</td>\n",
       "      <td>True</td>\n",
       "      <td>False</td>\n",
       "      <td>True</td>\n",
       "      <td>False</td>\n",
       "      <td>I'm glad we're having this talk. / I never tho...</td>\n",
       "      <td>0.0036</td>\n",
       "    </tr>\n",
       "    <tr>\n",
       "      <th>u4900</th>\n",
       "      <td>m326</td>\n",
       "      <td>SAL</td>\n",
       "      <td>do the right thing</td>\n",
       "      <td>m</td>\n",
       "      <td>544</td>\n",
       "      <td>1989</td>\n",
       "      <td>['drama']</td>\n",
       "      <td>False</td>\n",
       "      <td>False</td>\n",
       "      <td>True</td>\n",
       "      <td>False</td>\n",
       "      <td>It's about turning that shit off and getting t...</td>\n",
       "      <td>0.0000</td>\n",
       "    </tr>\n",
       "    <tr>\n",
       "      <th>u3001</th>\n",
       "      <td>m196</td>\n",
       "      <td>RUBY</td>\n",
       "      <td>star trek: first contact</td>\n",
       "      <td>f</td>\n",
       "      <td>335</td>\n",
       "      <td>1996</td>\n",
       "      <td>['action', 'adventure', 'sci-fi', 'thriller']</td>\n",
       "      <td>False</td>\n",
       "      <td>True</td>\n",
       "      <td>False</td>\n",
       "      <td>False</td>\n",
       "      <td>You've been interfering with my life ever sinc...</td>\n",
       "      <td>0.9188</td>\n",
       "    </tr>\n",
       "    <tr>\n",
       "      <th>u8173</th>\n",
       "      <td>m555</td>\n",
       "      <td>CHRISTOF</td>\n",
       "      <td>the truman show</td>\n",
       "      <td>m</td>\n",
       "      <td>548</td>\n",
       "      <td>1998</td>\n",
       "      <td>['drama']</td>\n",
       "      <td>False</td>\n",
       "      <td>False</td>\n",
       "      <td>True</td>\n",
       "      <td>False</td>\n",
       "      <td>Do it! / &lt;i&gt;Storm&lt;/i&gt; music...Wagner... / Cue ...</td>\n",
       "      <td>0.0000</td>\n",
       "    </tr>\n",
       "    <tr>\n",
       "      <th>u6955</th>\n",
       "      <td>m465</td>\n",
       "      <td>GLOVER</td>\n",
       "      <td>on the waterfront</td>\n",
       "      <td>m</td>\n",
       "      <td>250</td>\n",
       "      <td>1954</td>\n",
       "      <td>['crime', 'drama', 'romance']</td>\n",
       "      <td>False</td>\n",
       "      <td>False</td>\n",
       "      <td>True</td>\n",
       "      <td>True</td>\n",
       "      <td>Sure... . / Really? / Well, I better get going...</td>\n",
       "      <td>0.0055</td>\n",
       "    </tr>\n",
       "  </tbody>\n",
       "</table>\n",
       "<p>2969 rows × 13 columns</p>\n",
       "</div>"
      ],
      "text/plain": [
       "        mid     cname                     mname gender  wordcount  year  \\\n",
       "cid                                                                       \n",
       "u6646  m444     COSMO                moonstruck      m        396  1987   \n",
       "u4791  m319   HANOVER               deep rising      m        262  1998   \n",
       "u8131  m552    ELAINE                 the limey      f       1152  1999   \n",
       "u1422   m95      EMMA               i am legend      f        248  2007   \n",
       "u8960  m610   TIN MAN          the wizard of oz      m        668  1939   \n",
       "...     ...       ...                       ...    ...        ...   ...   \n",
       "u5452  m363   LILLIAN                    game 6      f        165  2005   \n",
       "u4900  m326       SAL        do the right thing      m        544  1989   \n",
       "u3001  m196      RUBY  star trek: first contact      f        335  1996   \n",
       "u8173  m555  CHRISTOF           the truman show      m        548  1998   \n",
       "u6955  m465    GLOVER         on the waterfront      m        250  1954   \n",
       "\n",
       "                                              genres  comedy  thriller  drama  \\\n",
       "cid                                                                             \n",
       "u6646                 ['comedy', 'romance', 'drama']    True     False   True   \n",
       "u4791     ['action', 'horror', 'sci-fi', 'thriller']   False      True  False   \n",
       "u8131      ['crime', 'drama', 'mystery', 'thriller']   False      True   True   \n",
       "u1422                ['drama', 'sci-fi', 'thriller']   False      True   True   \n",
       "u8960  ['adventure', 'family', 'fantasy', 'musical']   False     False  False   \n",
       "...                                              ...     ...       ...    ...   \n",
       "u5452                   ['comedy', 'drama', 'sport']    True     False   True   \n",
       "u4900                                      ['drama']   False     False   True   \n",
       "u3001  ['action', 'adventure', 'sci-fi', 'thriller']   False      True  False   \n",
       "u8173                                      ['drama']   False     False   True   \n",
       "u6955                  ['crime', 'drama', 'romance']   False     False   True   \n",
       "\n",
       "       romance                                              lines   error  \n",
       "cid                                                                        \n",
       "u6646     True  A man... under stands one day... that his life...  1.0000  \n",
       "u4791    False  Maybe we lost them. / You trying to take over ...  0.0000  \n",
       "u8131    False  I'd rather be with him than without him. I don...  0.0000  \n",
       "u1422    False  You have to go.  He'll never stop. Leave this ...  0.0471  \n",
       "u8960    False  Now I know I've got a heart -- 'cause it's bre...  0.9994  \n",
       "...        ...                                                ...     ...  \n",
       "u5452    False  I'm glad we're having this talk. / I never tho...  0.0036  \n",
       "u4900    False  It's about turning that shit off and getting t...  0.0000  \n",
       "u3001    False  You've been interfering with my life ever sinc...  0.9188  \n",
       "u8173    False  Do it! / <i>Storm</i> music...Wagner... / Cue ...  0.0000  \n",
       "u6955     True  Sure... . / Really? / Well, I better get going...  0.0055  \n",
       "\n",
       "[2969 rows x 13 columns]"
      ]
     },
     "execution_count": 37,
     "metadata": {},
     "output_type": "execute_result"
    }
   ],
   "source": [
    "charserror = chars.assign(error = np.abs(all_y - proba))\n",
    "charserror.round(4)"
   ]
  },
  {
   "cell_type": "markdown",
   "id": "ordinary-buffer",
   "metadata": {},
   "source": [
    "### Lab project 2: Are gender norms stronger in some genres?\n",
    "\n",
    "The ```error``` column above basically indicates whether a character diverged from our model of gender. Are there some genres where characters are especially likely, or unlikely, to fit the gender norms of the larger dataset? Consider the four genres we've broken out as separate columns. Calculate the mean error for characters in each genre; then use a t-test to figure out whether the difference between the most gender-conforming genre and the least gender-conforming genre is statistically significant."
   ]
  },
  {
   "cell_type": "code",
   "execution_count": 38,
   "id": "recent-charger",
   "metadata": {},
   "outputs": [
    {
     "data": {
      "text/plain": [
       "0.29505815385021655"
      ]
     },
     "execution_count": 38,
     "metadata": {},
     "output_type": "execute_result"
    }
   ],
   "source": [
    "np.mean(charserror.loc[charserror['comedy'] == True, 'error'])"
   ]
  },
  {
   "cell_type": "code",
   "execution_count": 39,
   "id": "knowing-oasis",
   "metadata": {},
   "outputs": [
    {
     "data": {
      "text/plain": [
       "0.2810410020700438"
      ]
     },
     "execution_count": 39,
     "metadata": {},
     "output_type": "execute_result"
    }
   ],
   "source": [
    "np.mean(charserror.loc[charserror['drama'] == True, 'error'])"
   ]
  },
  {
   "cell_type": "code",
   "execution_count": 40,
   "id": "packed-counter",
   "metadata": {},
   "outputs": [
    {
     "data": {
      "text/plain": [
       "0.31070405585036875"
      ]
     },
     "execution_count": 40,
     "metadata": {},
     "output_type": "execute_result"
    }
   ],
   "source": [
    "np.mean(charserror.loc[charserror['romance'] == True, 'error'])"
   ]
  },
  {
   "cell_type": "code",
   "execution_count": 41,
   "id": "alpha-cattle",
   "metadata": {},
   "outputs": [
    {
     "data": {
      "text/plain": [
       "0.24829210258457216"
      ]
     },
     "execution_count": 41,
     "metadata": {},
     "output_type": "execute_result"
    }
   ],
   "source": [
    "np.mean(charserror.loc[charserror['thriller'] == True, 'error'])"
   ]
  },
  {
   "cell_type": "markdown",
   "id": "royal-direction",
   "metadata": {},
   "source": [
    "#### Individual movies\n",
    "\n",
    "Just for fun we can take the mean error for each movie and see if any patterns emerge."
   ]
  },
  {
   "cell_type": "code",
   "execution_count": 42,
   "id": "grateful-greek",
   "metadata": {},
   "outputs": [
    {
     "data": {
      "text/html": [
       "<div>\n",
       "<style scoped>\n",
       "    .dataframe tbody tr th:only-of-type {\n",
       "        vertical-align: middle;\n",
       "    }\n",
       "\n",
       "    .dataframe tbody tr th {\n",
       "        vertical-align: top;\n",
       "    }\n",
       "\n",
       "    .dataframe thead th {\n",
       "        text-align: right;\n",
       "    }\n",
       "</style>\n",
       "<table border=\"1\" class=\"dataframe\">\n",
       "  <thead>\n",
       "    <tr style=\"text-align: right;\">\n",
       "      <th></th>\n",
       "      <th>mname</th>\n",
       "      <th>error</th>\n",
       "    </tr>\n",
       "  </thead>\n",
       "  <tbody>\n",
       "    <tr>\n",
       "      <th>0</th>\n",
       "      <td>\"murderland\"</td>\n",
       "      <td>0.00400</td>\n",
       "    </tr>\n",
       "    <tr>\n",
       "      <th>1</th>\n",
       "      <td>10 things i hate about you</td>\n",
       "      <td>0.21275</td>\n",
       "    </tr>\n",
       "    <tr>\n",
       "      <th>2</th>\n",
       "      <td>1492: conquest of paradise</td>\n",
       "      <td>0.18291</td>\n",
       "    </tr>\n",
       "    <tr>\n",
       "      <th>3</th>\n",
       "      <td>15 minutes</td>\n",
       "      <td>0.12543</td>\n",
       "    </tr>\n",
       "    <tr>\n",
       "      <th>4</th>\n",
       "      <td>2001: a space odyssey</td>\n",
       "      <td>0.00000</td>\n",
       "    </tr>\n",
       "    <tr>\n",
       "      <th>...</th>\n",
       "      <td>...</td>\n",
       "      <td>...</td>\n",
       "    </tr>\n",
       "    <tr>\n",
       "      <th>595</th>\n",
       "      <td>willow</td>\n",
       "      <td>0.99883</td>\n",
       "    </tr>\n",
       "    <tr>\n",
       "      <th>596</th>\n",
       "      <td>witness</td>\n",
       "      <td>0.01607</td>\n",
       "    </tr>\n",
       "    <tr>\n",
       "      <th>597</th>\n",
       "      <td>wonder boys</td>\n",
       "      <td>0.61148</td>\n",
       "    </tr>\n",
       "    <tr>\n",
       "      <th>598</th>\n",
       "      <td>xxx</td>\n",
       "      <td>0.00000</td>\n",
       "    </tr>\n",
       "    <tr>\n",
       "      <th>599</th>\n",
       "      <td>young frankenstein</td>\n",
       "      <td>0.00466</td>\n",
       "    </tr>\n",
       "  </tbody>\n",
       "</table>\n",
       "<p>600 rows × 2 columns</p>\n",
       "</div>"
      ],
      "text/plain": [
       "                          mname    error\n",
       "0                  \"murderland\"  0.00400\n",
       "1    10 things i hate about you  0.21275\n",
       "2    1492: conquest of paradise  0.18291\n",
       "3                    15 minutes  0.12543\n",
       "4         2001: a space odyssey  0.00000\n",
       "..                          ...      ...\n",
       "595                      willow  0.99883\n",
       "596                     witness  0.01607\n",
       "597                 wonder boys  0.61148\n",
       "598                         xxx  0.00000\n",
       "599          young frankenstein  0.00466\n",
       "\n",
       "[600 rows x 2 columns]"
      ]
     },
     "execution_count": 42,
     "metadata": {},
     "output_type": "execute_result"
    }
   ],
   "source": [
    "movieerror = charserror.groupby('mname', as_index = False)['error'].mean()\n",
    "movieerror.round(5)"
   ]
  },
  {
   "cell_type": "code",
   "execution_count": 43,
   "id": "federal-crawford",
   "metadata": {},
   "outputs": [
    {
     "data": {
      "text/html": [
       "<div>\n",
       "<style scoped>\n",
       "    .dataframe tbody tr th:only-of-type {\n",
       "        vertical-align: middle;\n",
       "    }\n",
       "\n",
       "    .dataframe tbody tr th {\n",
       "        vertical-align: top;\n",
       "    }\n",
       "\n",
       "    .dataframe thead th {\n",
       "        text-align: right;\n",
       "    }\n",
       "</style>\n",
       "<table border=\"1\" class=\"dataframe\">\n",
       "  <thead>\n",
       "    <tr style=\"text-align: right;\">\n",
       "      <th></th>\n",
       "      <th>mname</th>\n",
       "      <th>error</th>\n",
       "    </tr>\n",
       "  </thead>\n",
       "  <tbody>\n",
       "    <tr>\n",
       "      <th>17</th>\n",
       "      <td>agnes of god</td>\n",
       "      <td>0.000000e+00</td>\n",
       "    </tr>\n",
       "    <tr>\n",
       "      <th>554</th>\n",
       "      <td>thunderheart</td>\n",
       "      <td>2.980165e-53</td>\n",
       "    </tr>\n",
       "    <tr>\n",
       "      <th>503</th>\n",
       "      <td>the life of david gale</td>\n",
       "      <td>4.023019e-46</td>\n",
       "    </tr>\n",
       "    <tr>\n",
       "      <th>556</th>\n",
       "      <td>ticker</td>\n",
       "      <td>2.481023e-31</td>\n",
       "    </tr>\n",
       "    <tr>\n",
       "      <th>552</th>\n",
       "      <td>thirteen days</td>\n",
       "      <td>1.303898e-30</td>\n",
       "    </tr>\n",
       "    <tr>\n",
       "      <th>425</th>\n",
       "      <td>star trek: the motion picture</td>\n",
       "      <td>6.422234e-28</td>\n",
       "    </tr>\n",
       "    <tr>\n",
       "      <th>293</th>\n",
       "      <td>midnight cowboy</td>\n",
       "      <td>1.551416e-22</td>\n",
       "    </tr>\n",
       "    <tr>\n",
       "      <th>352</th>\n",
       "      <td>predator</td>\n",
       "      <td>3.992318e-19</td>\n",
       "    </tr>\n",
       "    <tr>\n",
       "      <th>21</th>\n",
       "      <td>alien</td>\n",
       "      <td>1.516115e-18</td>\n",
       "    </tr>\n",
       "    <tr>\n",
       "      <th>427</th>\n",
       "      <td>star wars</td>\n",
       "      <td>1.535747e-17</td>\n",
       "    </tr>\n",
       "    <tr>\n",
       "      <th>364</th>\n",
       "      <td>reindeer games</td>\n",
       "      <td>7.445887e-17</td>\n",
       "    </tr>\n",
       "    <tr>\n",
       "      <th>419</th>\n",
       "      <td>star trek v: the final frontier</td>\n",
       "      <td>1.810220e-15</td>\n",
       "    </tr>\n",
       "  </tbody>\n",
       "</table>\n",
       "</div>"
      ],
      "text/plain": [
       "                               mname         error\n",
       "17                      agnes of god  0.000000e+00\n",
       "554                     thunderheart  2.980165e-53\n",
       "503           the life of david gale  4.023019e-46\n",
       "556                           ticker  2.481023e-31\n",
       "552                    thirteen days  1.303898e-30\n",
       "425    star trek: the motion picture  6.422234e-28\n",
       "293                  midnight cowboy  1.551416e-22\n",
       "352                         predator  3.992318e-19\n",
       "21                             alien  1.516115e-18\n",
       "427                        star wars  1.535747e-17\n",
       "364                   reindeer games  7.445887e-17\n",
       "419  star trek v: the final frontier  1.810220e-15"
      ]
     },
     "execution_count": 43,
     "metadata": {},
     "output_type": "execute_result"
    }
   ],
   "source": [
    "movieerror.sort_values(by = 'error').head(12)   # movies where gender is predictable"
   ]
  },
  {
   "cell_type": "code",
   "execution_count": 44,
   "id": "terminal-somerset",
   "metadata": {},
   "outputs": [
    {
     "data": {
      "text/html": [
       "<div>\n",
       "<style scoped>\n",
       "    .dataframe tbody tr th:only-of-type {\n",
       "        vertical-align: middle;\n",
       "    }\n",
       "\n",
       "    .dataframe tbody tr th {\n",
       "        vertical-align: top;\n",
       "    }\n",
       "\n",
       "    .dataframe thead th {\n",
       "        text-align: right;\n",
       "    }\n",
       "</style>\n",
       "<table border=\"1\" class=\"dataframe\">\n",
       "  <thead>\n",
       "    <tr style=\"text-align: right;\">\n",
       "      <th></th>\n",
       "      <th>mname</th>\n",
       "      <th>error</th>\n",
       "    </tr>\n",
       "  </thead>\n",
       "  <tbody>\n",
       "    <tr>\n",
       "      <th>41</th>\n",
       "      <td>as good as it gets</td>\n",
       "      <td>0.791399</td>\n",
       "    </tr>\n",
       "    <tr>\n",
       "      <th>218</th>\n",
       "      <td>i walked with a zombie</td>\n",
       "      <td>0.798895</td>\n",
       "    </tr>\n",
       "    <tr>\n",
       "      <th>433</th>\n",
       "      <td>stepmom</td>\n",
       "      <td>0.836109</td>\n",
       "    </tr>\n",
       "    <tr>\n",
       "      <th>114</th>\n",
       "      <td>dark city</td>\n",
       "      <td>0.878604</td>\n",
       "    </tr>\n",
       "    <tr>\n",
       "      <th>107</th>\n",
       "      <td>crash</td>\n",
       "      <td>0.930805</td>\n",
       "    </tr>\n",
       "    <tr>\n",
       "      <th>545</th>\n",
       "      <td>the witching hour</td>\n",
       "      <td>0.975096</td>\n",
       "    </tr>\n",
       "    <tr>\n",
       "      <th>595</th>\n",
       "      <td>willow</td>\n",
       "      <td>0.998835</td>\n",
       "    </tr>\n",
       "    <tr>\n",
       "      <th>390</th>\n",
       "      <td>shivers</td>\n",
       "      <td>0.998881</td>\n",
       "    </tr>\n",
       "    <tr>\n",
       "      <th>341</th>\n",
       "      <td>pet sematary ii</td>\n",
       "      <td>0.999003</td>\n",
       "    </tr>\n",
       "    <tr>\n",
       "      <th>396</th>\n",
       "      <td>simone</td>\n",
       "      <td>0.999566</td>\n",
       "    </tr>\n",
       "    <tr>\n",
       "      <th>257</th>\n",
       "      <td>labor of love</td>\n",
       "      <td>1.000000</td>\n",
       "    </tr>\n",
       "    <tr>\n",
       "      <th>75</th>\n",
       "      <td>bloodmoon</td>\n",
       "      <td>1.000000</td>\n",
       "    </tr>\n",
       "  </tbody>\n",
       "</table>\n",
       "</div>"
      ],
      "text/plain": [
       "                      mname     error\n",
       "41       as good as it gets  0.791399\n",
       "218  i walked with a zombie  0.798895\n",
       "433                 stepmom  0.836109\n",
       "114               dark city  0.878604\n",
       "107                   crash  0.930805\n",
       "545       the witching hour  0.975096\n",
       "595                  willow  0.998835\n",
       "390                 shivers  0.998881\n",
       "341         pet sematary ii  0.999003\n",
       "396                  simone  0.999566\n",
       "257           labor of love  1.000000\n",
       "75                bloodmoon  1.000000"
      ]
     },
     "execution_count": 44,
     "metadata": {},
     "output_type": "execute_result"
    }
   ],
   "source": [
    "movieerror.sort_values(by = 'error').tail(12)     # movies where gender is hard to predict"
   ]
  },
  {
   "cell_type": "code",
   "execution_count": 45,
   "id": "beautiful-essence",
   "metadata": {},
   "outputs": [
    {
     "data": {
      "text/html": [
       "<div>\n",
       "<style scoped>\n",
       "    .dataframe tbody tr th:only-of-type {\n",
       "        vertical-align: middle;\n",
       "    }\n",
       "\n",
       "    .dataframe tbody tr th {\n",
       "        vertical-align: top;\n",
       "    }\n",
       "\n",
       "    .dataframe thead th {\n",
       "        text-align: right;\n",
       "    }\n",
       "</style>\n",
       "<table border=\"1\" class=\"dataframe\">\n",
       "  <thead>\n",
       "    <tr style=\"text-align: right;\">\n",
       "      <th></th>\n",
       "      <th>mname</th>\n",
       "      <th>year</th>\n",
       "    </tr>\n",
       "  </thead>\n",
       "  <tbody>\n",
       "    <tr>\n",
       "      <th>0</th>\n",
       "      <td>\"murderland\"</td>\n",
       "      <td>2009</td>\n",
       "    </tr>\n",
       "    <tr>\n",
       "      <th>1</th>\n",
       "      <td>10 things i hate about you</td>\n",
       "      <td>1999</td>\n",
       "    </tr>\n",
       "    <tr>\n",
       "      <th>2</th>\n",
       "      <td>1492: conquest of paradise</td>\n",
       "      <td>1992</td>\n",
       "    </tr>\n",
       "    <tr>\n",
       "      <th>3</th>\n",
       "      <td>15 minutes</td>\n",
       "      <td>2001</td>\n",
       "    </tr>\n",
       "    <tr>\n",
       "      <th>4</th>\n",
       "      <td>2001: a space odyssey</td>\n",
       "      <td>1968</td>\n",
       "    </tr>\n",
       "  </tbody>\n",
       "</table>\n",
       "</div>"
      ],
      "text/plain": [
       "                        mname  year\n",
       "0                \"murderland\"  2009\n",
       "1  10 things i hate about you  1999\n",
       "2  1492: conquest of paradise  1992\n",
       "3                  15 minutes  2001\n",
       "4       2001: a space odyssey  1968"
      ]
     },
     "execution_count": 45,
     "metadata": {},
     "output_type": "execute_result"
    }
   ],
   "source": [
    "movieyear = charserror.groupby('mname', as_index = False)['year'].mean()\n",
    "movieyear.head()"
   ]
  },
  {
   "cell_type": "code",
   "execution_count": 46,
   "id": "collect-cabin",
   "metadata": {},
   "outputs": [],
   "source": [
    "movieyear = movieyear.assign(error = movieerror['error'])"
   ]
  },
  {
   "cell_type": "code",
   "execution_count": 47,
   "id": "civilian-shuttle",
   "metadata": {},
   "outputs": [
    {
     "data": {
      "text/plain": [
       "(0.00669761914155198, 0.8699537643106604)"
      ]
     },
     "execution_count": 47,
     "metadata": {},
     "output_type": "execute_result"
    }
   ],
   "source": [
    "from scipy.stats import pearsonr\n",
    "pearsonr(movieyear['year'], movieyear['error'])"
   ]
  },
  {
   "cell_type": "code",
   "execution_count": 48,
   "id": "willing-classroom",
   "metadata": {},
   "outputs": [
    {
     "data": {
      "text/plain": [
       "<AxesSubplot:xlabel='year', ylabel='error'>"
      ]
     },
     "execution_count": 48,
     "metadata": {},
     "output_type": "execute_result"
    },
    {
     "data": {
      "image/png": "[encoded data removed]",
      "text/plain": [
       "<Figure size 432x288 with 1 Axes>"
      ]
     },
     "metadata": {
      "needs_background": "light"
     },
     "output_type": "display_data"
    }
   ],
   "source": [
    "movieyear.plot('year', 'error', kind = 'scatter')"
   ]
  },
  {
   "cell_type": "markdown",
   "id": "graduate-celebrity",
   "metadata": {},
   "source": [
    "### Lab project 3: Do gender stereotypes in film weaken over time?\n",
    "\n",
    "It probably doesn't make sense to try to answer this question with a single big model of all movies, because the gender norms involved in shaping dialogue could have *changed* over time.\n",
    "\n",
    "Instead, let's find the median release date for characters, and divide our dataset into two roughly evenly-sized groups (early and late). Then we can cross-validate models to predict gender in each half of the dataset, and see if the accuracy of the later model is lower.\n",
    "\n",
    "We can start by doing this just once for each half of the data. Then, to get a sense of uncertainty, we can write a loop that repeatedly resamples the data and runs the cross-validation, say, twenty times for each half of the timeline. We can compare the sets of accuracies to see if the difference of means is significant.\n",
    "\n",
    "Then we'll consider possible confounding factors that could be producing this result."
   ]
  },
  {
   "cell_type": "code",
   "execution_count": 49,
   "id": "inclusive-university",
   "metadata": {},
   "outputs": [],
   "source": [
    "# deleted because it overlaps with homework"
   ]
  },
  {
   "cell_type": "code",
   "execution_count": 57,
   "id": "frank-netscape",
   "metadata": {},
   "outputs": [],
   "source": [
    "# deleted because it overlaps with homework"
   ]
  },
  {
   "cell_type": "code",
   "execution_count": 58,
   "id": "falling-class",
   "metadata": {},
   "outputs": [],
   "source": [
    "# deleted because it overlaps with homework"
   ]
  },
  {
   "cell_type": "code",
   "execution_count": 59,
   "id": "excessive-picnic",
   "metadata": {},
   "outputs": [],
   "source": [
    "# deleted because it overlaps with homework"
   ]
  }
 ],
 "metadata": {
  "kernelspec": {
   "display_name": "Python 3",
   "language": "python",
   "name": "python3"
  },
  "language_info": {
   "codemirror_mode": {
    "name": "ipython",
    "version": 3
   },
   "file_extension": ".py",
   "mimetype": "text/x-python",
   "name": "python",
   "nbconvert_exporter": "python",
   "pygments_lexer": "ipython3",
   "version": "3.7.6"
  }
 },
 "nbformat": 4,
 "nbformat_minor": 5
}
